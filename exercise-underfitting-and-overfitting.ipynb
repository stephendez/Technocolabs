{
 "cells": [
  {
   "cell_type": "markdown",
   "id": "51606561",
   "metadata": {
    "papermill": {
     "duration": 0.005795,
     "end_time": "2022-07-15T12:54:11.211739",
     "exception": false,
     "start_time": "2022-07-15T12:54:11.205944",
     "status": "completed"
    },
    "tags": []
   },
   "source": [
    "**This notebook is an exercise in the [Introduction to Machine Learning](https://www.kaggle.com/learn/intro-to-machine-learning) course.  You can reference the tutorial at [this link](https://www.kaggle.com/dansbecker/underfitting-and-overfitting).**\n",
    "\n",
    "---\n"
   ]
  },
  {
   "cell_type": "markdown",
   "id": "a2ba0cd8",
   "metadata": {
    "papermill": {
     "duration": 0.005084,
     "end_time": "2022-07-15T12:54:11.222344",
     "exception": false,
     "start_time": "2022-07-15T12:54:11.217260",
     "status": "completed"
    },
    "tags": []
   },
   "source": [
    "## Recap\n",
    "You've built your first model, and now it's time to optimize the size of the tree to make better predictions. Run this cell to set up your coding environment where the previous step left off."
   ]
  },
  {
   "cell_type": "code",
   "execution_count": 1,
   "id": "799e3036",
   "metadata": {
    "execution": {
     "iopub.execute_input": "2022-07-15T12:54:11.233291Z",
     "iopub.status.busy": "2022-07-15T12:54:11.232641Z",
     "iopub.status.idle": "2022-07-15T12:54:12.720236Z",
     "shell.execute_reply": "2022-07-15T12:54:12.719054Z"
    },
    "papermill": {
     "duration": 1.496153,
     "end_time": "2022-07-15T12:54:12.723839",
     "exception": false,
     "start_time": "2022-07-15T12:54:11.227686",
     "status": "completed"
    },
    "tags": []
   },
   "outputs": [
    {
     "name": "stdout",
     "output_type": "stream",
     "text": [
      "Validation MAE: 29,653\n",
      "\n",
      "Setup complete\n"
     ]
    }
   ],
   "source": [
    "# Code you have previously used to load data\n",
    "import pandas as pd\n",
    "from sklearn.metrics import mean_absolute_error\n",
    "from sklearn.model_selection import train_test_split\n",
    "from sklearn.tree import DecisionTreeRegressor\n",
    "\n",
    "\n",
    "# Path of the file to read\n",
    "iowa_file_path = '../input/home-data-for-ml-course/train.csv'\n",
    "\n",
    "home_data = pd.read_csv(iowa_file_path)\n",
    "# Create target object and call it y\n",
    "y = home_data.SalePrice\n",
    "# Create X\n",
    "features = ['LotArea', 'YearBuilt', '1stFlrSF', '2ndFlrSF', 'FullBath', 'BedroomAbvGr', 'TotRmsAbvGrd']\n",
    "X = home_data[features]\n",
    "\n",
    "# Split into validation and training data\n",
    "train_X, val_X, train_y, val_y = train_test_split(X, y, random_state=1)\n",
    "\n",
    "# Specify Model\n",
    "iowa_model = DecisionTreeRegressor(random_state=1)\n",
    "# Fit Model\n",
    "iowa_model.fit(train_X, train_y)\n",
    "\n",
    "# Make validation predictions and calculate mean absolute error\n",
    "val_predictions = iowa_model.predict(val_X)\n",
    "val_mae = mean_absolute_error(val_predictions, val_y)\n",
    "print(\"Validation MAE: {:,.0f}\".format(val_mae))\n",
    "\n",
    "# Set up code checking\n",
    "from learntools.core import binder\n",
    "binder.bind(globals())\n",
    "from learntools.machine_learning.ex5 import *\n",
    "print(\"\\nSetup complete\")"
   ]
  },
  {
   "cell_type": "markdown",
   "id": "715e4eb5",
   "metadata": {
    "papermill": {
     "duration": 0.002761,
     "end_time": "2022-07-15T12:54:12.730786",
     "exception": false,
     "start_time": "2022-07-15T12:54:12.728025",
     "status": "completed"
    },
    "tags": []
   },
   "source": [
    "# Exercises\n",
    "You could write the function `get_mae` yourself. For now, we'll supply it. This is the same function you read about in the previous lesson. Just run the cell below."
   ]
  },
  {
   "cell_type": "code",
   "execution_count": 2,
   "id": "cc3096f6",
   "metadata": {
    "execution": {
     "iopub.execute_input": "2022-07-15T12:54:12.738836Z",
     "iopub.status.busy": "2022-07-15T12:54:12.738143Z",
     "iopub.status.idle": "2022-07-15T12:54:12.743270Z",
     "shell.execute_reply": "2022-07-15T12:54:12.742429Z"
    },
    "papermill": {
     "duration": 0.01157,
     "end_time": "2022-07-15T12:54:12.745290",
     "exception": false,
     "start_time": "2022-07-15T12:54:12.733720",
     "status": "completed"
    },
    "tags": []
   },
   "outputs": [],
   "source": [
    "def get_mae(max_leaf_nodes, train_X, val_X, train_y, val_y):\n",
    "    model = DecisionTreeRegressor(max_leaf_nodes=max_leaf_nodes, random_state=0)\n",
    "    model.fit(train_X, train_y)\n",
    "    preds_val = model.predict(val_X)\n",
    "    mae = mean_absolute_error(val_y, preds_val)\n",
    "    return(mae)"
   ]
  },
  {
   "cell_type": "markdown",
   "id": "abb80fbb",
   "metadata": {
    "papermill": {
     "duration": 0.002925,
     "end_time": "2022-07-15T12:54:12.751472",
     "exception": false,
     "start_time": "2022-07-15T12:54:12.748547",
     "status": "completed"
    },
    "tags": []
   },
   "source": [
    "## Step 1: Compare Different Tree Sizes\n",
    "Write a loop that tries the following values for *max_leaf_nodes* from a set of possible values.\n",
    "\n",
    "Call the *get_mae* function on each value of max_leaf_nodes. Store the output in some way that allows you to select the value of `max_leaf_nodes` that gives the most accurate model on your data."
   ]
  },
  {
   "cell_type": "code",
   "execution_count": 3,
   "id": "1cc512cc",
   "metadata": {
    "execution": {
     "iopub.execute_input": "2022-07-15T12:54:12.760124Z",
     "iopub.status.busy": "2022-07-15T12:54:12.759379Z",
     "iopub.status.idle": "2022-07-15T12:54:12.809072Z",
     "shell.execute_reply": "2022-07-15T12:54:12.807864Z"
    },
    "papermill": {
     "duration": 0.056655,
     "end_time": "2022-07-15T12:54:12.811413",
     "exception": false,
     "start_time": "2022-07-15T12:54:12.754758",
     "status": "completed"
    },
    "tags": []
   },
   "outputs": [
    {
     "data": {
      "application/javascript": [
       "parent.postMessage({\"jupyterEvent\": \"custom.exercise_interaction\", \"data\": {\"outcomeType\": 1, \"valueTowardsCompletion\": 0.5, \"interactionType\": 1, \"questionType\": 1, \"questionId\": \"1_BestTreeSize\", \"learnToolsVersion\": \"0.3.4\", \"failureMessage\": \"\", \"exceptionClass\": \"\", \"trace\": \"\"}}, \"*\")"
      ],
      "text/plain": [
       "<IPython.core.display.Javascript object>"
      ]
     },
     "metadata": {},
     "output_type": "display_data"
    },
    {
     "data": {
      "text/markdown": [
       "<span style=\"color:#33cc33\">Correct</span>"
      ],
      "text/plain": [
       "Correct"
      ]
     },
     "metadata": {},
     "output_type": "display_data"
    }
   ],
   "source": [
    "candidate_max_leaf_nodes = [5, 25, 50, 100, 250, 500]\n",
    "vals = []\n",
    "# Write loop to find the ideal tree size from candidate_max_leaf_nodes\n",
    "for i in candidate_max_leaf_nodes:\n",
    "    vals.append(get_mae(i,train_X,val_X,train_y,val_y))\n",
    "\n",
    "# Store the best value of max_leaf_nodes (it will be either 5, 25, 50, 100, 250 or 500)\n",
    "best_tree_size = candidate_max_leaf_nodes[vals.index(min(vals))]\n",
    "\n",
    "# Check your answer\n",
    "step_1.check()"
   ]
  },
  {
   "cell_type": "code",
   "execution_count": 4,
   "id": "c5795a8a",
   "metadata": {
    "execution": {
     "iopub.execute_input": "2022-07-15T12:54:12.820627Z",
     "iopub.status.busy": "2022-07-15T12:54:12.819918Z",
     "iopub.status.idle": "2022-07-15T12:54:12.824379Z",
     "shell.execute_reply": "2022-07-15T12:54:12.823626Z"
    },
    "papermill": {
     "duration": 0.011559,
     "end_time": "2022-07-15T12:54:12.826451",
     "exception": false,
     "start_time": "2022-07-15T12:54:12.814892",
     "status": "completed"
    },
    "tags": []
   },
   "outputs": [],
   "source": [
    "# The lines below will show you a hint or the solution.\n",
    "# step_1.hint() \n",
    "#step_1.solution()"
   ]
  },
  {
   "cell_type": "markdown",
   "id": "db6f7a6d",
   "metadata": {
    "papermill": {
     "duration": 0.003069,
     "end_time": "2022-07-15T12:54:12.832900",
     "exception": false,
     "start_time": "2022-07-15T12:54:12.829831",
     "status": "completed"
    },
    "tags": []
   },
   "source": [
    "## Step 2: Fit Model Using All Data\n",
    "You know the best tree size. If you were going to deploy this model in practice, you would make it even more accurate by using all of the data and keeping that tree size.  That is, you don't need to hold out the validation data now that you've made all your modeling decisions."
   ]
  },
  {
   "cell_type": "code",
   "execution_count": 5,
   "id": "f6af838f",
   "metadata": {
    "execution": {
     "iopub.execute_input": "2022-07-15T12:54:12.841724Z",
     "iopub.status.busy": "2022-07-15T12:54:12.841009Z",
     "iopub.status.idle": "2022-07-15T12:54:12.858931Z",
     "shell.execute_reply": "2022-07-15T12:54:12.857797Z"
    },
    "papermill": {
     "duration": 0.025415,
     "end_time": "2022-07-15T12:54:12.861526",
     "exception": false,
     "start_time": "2022-07-15T12:54:12.836111",
     "status": "completed"
    },
    "tags": []
   },
   "outputs": [
    {
     "data": {
      "application/javascript": [
       "parent.postMessage({\"jupyterEvent\": \"custom.exercise_interaction\", \"data\": {\"outcomeType\": 1, \"valueTowardsCompletion\": 0.5, \"interactionType\": 1, \"questionType\": 2, \"questionId\": \"2_FitModelWithAllData\", \"learnToolsVersion\": \"0.3.4\", \"failureMessage\": \"\", \"exceptionClass\": \"\", \"trace\": \"\"}}, \"*\")"
      ],
      "text/plain": [
       "<IPython.core.display.Javascript object>"
      ]
     },
     "metadata": {},
     "output_type": "display_data"
    },
    {
     "data": {
      "text/markdown": [
       "<span style=\"color:#33cc33\">Correct</span>"
      ],
      "text/plain": [
       "Correct"
      ]
     },
     "metadata": {},
     "output_type": "display_data"
    }
   ],
   "source": [
    "# Fill in argument to make optimal size and uncomment\n",
    "final_model = DecisionTreeRegressor(max_leaf_nodes=best_tree_size,random_state=0)\n",
    "\n",
    "# fit the final model and uncomment the next two lines\n",
    "final_model.fit(X, y)\n",
    "\n",
    "# Check your answer\n",
    "step_2.check()"
   ]
  },
  {
   "cell_type": "code",
   "execution_count": 6,
   "id": "ede1ae70",
   "metadata": {
    "execution": {
     "iopub.execute_input": "2022-07-15T12:54:12.870458Z",
     "iopub.status.busy": "2022-07-15T12:54:12.869723Z",
     "iopub.status.idle": "2022-07-15T12:54:12.874421Z",
     "shell.execute_reply": "2022-07-15T12:54:12.873380Z"
    },
    "papermill": {
     "duration": 0.011646,
     "end_time": "2022-07-15T12:54:12.876594",
     "exception": false,
     "start_time": "2022-07-15T12:54:12.864948",
     "status": "completed"
    },
    "tags": []
   },
   "outputs": [],
   "source": [
    "# step_2.hint()\n",
    "# step_2.solution()"
   ]
  },
  {
   "cell_type": "markdown",
   "id": "13d8252f",
   "metadata": {
    "papermill": {
     "duration": 0.003169,
     "end_time": "2022-07-15T12:54:12.883662",
     "exception": false,
     "start_time": "2022-07-15T12:54:12.880493",
     "status": "completed"
    },
    "tags": []
   },
   "source": [
    "You've tuned this model and improved your results. But we are still using Decision Tree models, which are not very sophisticated by modern machine learning standards. In the next step you will learn to use Random Forests to improve your models even more.\n",
    "\n",
    "# Keep Going\n",
    "\n",
    "You are ready for **[Random Forests](https://www.kaggle.com/dansbecker/random-forests).**\n"
   ]
  },
  {
   "cell_type": "markdown",
   "id": "b615d1b1",
   "metadata": {
    "papermill": {
     "duration": 0.003043,
     "end_time": "2022-07-15T12:54:12.890070",
     "exception": false,
     "start_time": "2022-07-15T12:54:12.887027",
     "status": "completed"
    },
    "tags": []
   },
   "source": [
    "---\n",
    "\n",
    "\n",
    "\n",
    "\n",
    "*Have questions or comments? Visit the [course discussion forum](https://www.kaggle.com/learn/intro-to-machine-learning/discussion) to chat with other learners.*"
   ]
  }
 ],
 "metadata": {
  "kernelspec": {
   "display_name": "Python 3",
   "language": "python",
   "name": "python3"
  },
  "language_info": {
   "codemirror_mode": {
    "name": "ipython",
    "version": 3
   },
   "file_extension": ".py",
   "mimetype": "text/x-python",
   "name": "python",
   "nbconvert_exporter": "python",
   "pygments_lexer": "ipython3",
   "version": "3.7.12"
  },
  "papermill": {
   "default_parameters": {},
   "duration": 12.028691,
   "end_time": "2022-07-15T12:54:13.717407",
   "environment_variables": {},
   "exception": null,
   "input_path": "__notebook__.ipynb",
   "output_path": "__notebook__.ipynb",
   "parameters": {},
   "start_time": "2022-07-15T12:54:01.688716",
   "version": "2.3.4"
  }
 },
 "nbformat": 4,
 "nbformat_minor": 5
}

{
 "cells": [
  {
   "cell_type": "markdown",
   "id": "cb23e31d",
   "metadata": {
    "papermill": {
     "duration": 0.008343,
     "end_time": "2022-07-12T08:02:05.802964",
     "exception": false,
     "start_time": "2022-07-12T08:02:05.794621",
     "status": "completed"
    },
    "tags": []
   },
   "source": [
    "**This notebook is an exercise in the [Data Visualization](https://www.kaggle.com/learn/data-visualization) course.  You can reference the tutorial at [this link](https://www.kaggle.com/alexisbcook/line-charts).**\n",
    "\n",
    "---\n"
   ]
  },
  {
   "cell_type": "markdown",
   "id": "39a08c3b",
   "metadata": {
    "papermill": {
     "duration": 0.006444,
     "end_time": "2022-07-12T08:02:05.816601",
     "exception": false,
     "start_time": "2022-07-12T08:02:05.810157",
     "status": "completed"
    },
    "tags": []
   },
   "source": [
    "In this exercise, you will use your new knowledge to propose a solution to a real-world scenario. To succeed, you will need to import data into Python, answer questions using the data, and generate **line charts** to understand patterns in the data.\n",
    "\n",
    "## Scenario\n",
    "\n",
    "You have recently been hired to manage the museums in the City of Los Angeles. Your first project focuses on the four museums pictured in the images below.\n",
    "\n",
    "![ex1_museums](https://i.imgur.com/pFYL8J1.png)\n",
    "\n",
    "You will leverage data from the Los Angeles [Data Portal](https://data.lacity.org/) that tracks monthly visitors to each museum.  \n",
    "\n",
    "![ex1_xlsx](https://i.imgur.com/mGWYlym.png)\n",
    "\n",
    "## Setup\n",
    "\n",
    "Run the next cell to import and configure the Python libraries that you need to complete the exercise."
   ]
  },
  {
   "cell_type": "code",
   "execution_count": 1,
   "id": "811d21c2",
   "metadata": {
    "execution": {
     "iopub.execute_input": "2022-07-12T08:02:05.833639Z",
     "iopub.status.busy": "2022-07-12T08:02:05.832359Z",
     "iopub.status.idle": "2022-07-12T08:02:06.921578Z",
     "shell.execute_reply": "2022-07-12T08:02:06.920454Z"
    },
    "papermill": {
     "duration": 1.101275,
     "end_time": "2022-07-12T08:02:06.924796",
     "exception": false,
     "start_time": "2022-07-12T08:02:05.823521",
     "status": "completed"
    },
    "tags": []
   },
   "outputs": [
    {
     "name": "stdout",
     "output_type": "stream",
     "text": [
      "Setup Complete\n"
     ]
    }
   ],
   "source": [
    "import pandas as pd\n",
    "pd.plotting.register_matplotlib_converters()\n",
    "import matplotlib.pyplot as plt\n",
    "%matplotlib inline\n",
    "import seaborn as sns\n",
    "print(\"Setup Complete\")"
   ]
  },
  {
   "cell_type": "markdown",
   "id": "5019815d",
   "metadata": {
    "papermill": {
     "duration": 0.006848,
     "end_time": "2022-07-12T08:02:06.939235",
     "exception": false,
     "start_time": "2022-07-12T08:02:06.932387",
     "status": "completed"
    },
    "tags": []
   },
   "source": [
    "The questions below will give you feedback on your work. Run the following cell to set up the feedback system."
   ]
  },
  {
   "cell_type": "code",
   "execution_count": 2,
   "id": "99100781",
   "metadata": {
    "execution": {
     "iopub.execute_input": "2022-07-12T08:02:06.955155Z",
     "iopub.status.busy": "2022-07-12T08:02:06.954732Z",
     "iopub.status.idle": "2022-07-12T08:02:07.018405Z",
     "shell.execute_reply": "2022-07-12T08:02:07.017066Z"
    },
    "papermill": {
     "duration": 0.075059,
     "end_time": "2022-07-12T08:02:07.021323",
     "exception": false,
     "start_time": "2022-07-12T08:02:06.946264",
     "status": "completed"
    },
    "tags": []
   },
   "outputs": [
    {
     "name": "stdout",
     "output_type": "stream",
     "text": [
      "Setup Complete\n"
     ]
    }
   ],
   "source": [
    "# Set up code checking\n",
    "import os\n",
    "if not os.path.exists(\"../input/museum_visitors.csv\"):\n",
    "    os.symlink(\"../input/data-for-datavis/museum_visitors.csv\", \"../input/museum_visitors.csv\") \n",
    "from learntools.core import binder\n",
    "binder.bind(globals())\n",
    "from learntools.data_viz_to_coder.ex2 import *\n",
    "print(\"Setup Complete\")"
   ]
  },
  {
   "cell_type": "markdown",
   "id": "c20abd34",
   "metadata": {
    "papermill": {
     "duration": 0.006677,
     "end_time": "2022-07-12T08:02:07.035148",
     "exception": false,
     "start_time": "2022-07-12T08:02:07.028471",
     "status": "completed"
    },
    "tags": []
   },
   "source": [
    "## Step 1: Load the data\n",
    "\n",
    "Your first assignment is to read the LA Museum Visitors data file into `museum_data`.  Note that:\n",
    "- The filepath to the dataset is stored as `museum_filepath`.  Please **do not** change the provided value of the filepath.\n",
    "- The name of the column to use as row labels is `\"Date\"`.  (This can be seen in cell A1 when the file is opened in Excel.)\n",
    "\n",
    "To help with this, you may find it useful to revisit some relevant code from the tutorial, which we have pasted below:\n",
    "\n",
    "```python\n",
    "# Path of the file to read\n",
    "spotify_filepath = \"../input/spotify.csv\"\n",
    "\n",
    "# Read the file into a variable spotify_data\n",
    "spotify_data = pd.read_csv(spotify_filepath, index_col=\"Date\", parse_dates=True)\n",
    "```\n",
    "\n",
    "The code you need to write now looks very similar!"
   ]
  },
  {
   "cell_type": "code",
   "execution_count": 3,
   "id": "a305748b",
   "metadata": {
    "execution": {
     "iopub.execute_input": "2022-07-12T08:02:07.051659Z",
     "iopub.status.busy": "2022-07-12T08:02:07.050860Z",
     "iopub.status.idle": "2022-07-12T08:02:07.069927Z",
     "shell.execute_reply": "2022-07-12T08:02:07.069104Z"
    },
    "papermill": {
     "duration": 0.029621,
     "end_time": "2022-07-12T08:02:07.071877",
     "exception": false,
     "start_time": "2022-07-12T08:02:07.042256",
     "status": "completed"
    },
    "tags": []
   },
   "outputs": [
    {
     "data": {
      "application/javascript": [
       "parent.postMessage({\"jupyterEvent\": \"custom.exercise_interaction\", \"data\": {\"outcomeType\": 1, \"valueTowardsCompletion\": 0.3333333333333333, \"interactionType\": 1, \"questionType\": 1, \"questionId\": \"1_LoadMuseumData\", \"learnToolsVersion\": \"0.3.4\", \"failureMessage\": \"\", \"exceptionClass\": \"\", \"trace\": \"\"}}, \"*\")"
      ],
      "text/plain": [
       "<IPython.core.display.Javascript object>"
      ]
     },
     "metadata": {},
     "output_type": "display_data"
    },
    {
     "data": {
      "text/markdown": [
       "<span style=\"color:#33cc33\">Correct</span>"
      ],
      "text/plain": [
       "Correct"
      ]
     },
     "metadata": {},
     "output_type": "display_data"
    }
   ],
   "source": [
    "# Path of the file to read\n",
    "museum_filepath = \"../input/museum_visitors.csv\"\n",
    "\n",
    "# Fill in the line below to read the file into a variable museum_data\n",
    "museum_data = pd.read_csv(museum_filepath, index_col=\"Date\", parse_dates = True)\n",
    "\n",
    "# Run the line below with no changes to check that you've loaded the data correctly\n",
    "step_1.check()"
   ]
  },
  {
   "cell_type": "code",
   "execution_count": 4,
   "id": "a478b876",
   "metadata": {
    "execution": {
     "iopub.execute_input": "2022-07-12T08:02:07.088330Z",
     "iopub.status.busy": "2022-07-12T08:02:07.087468Z",
     "iopub.status.idle": "2022-07-12T08:02:07.091796Z",
     "shell.execute_reply": "2022-07-12T08:02:07.090854Z"
    },
    "papermill": {
     "duration": 0.015043,
     "end_time": "2022-07-12T08:02:07.093860",
     "exception": false,
     "start_time": "2022-07-12T08:02:07.078817",
     "status": "completed"
    },
    "tags": []
   },
   "outputs": [],
   "source": [
    "# Uncomment the line below to receive a hint\n",
    "#step_1.hint()\n",
    "# Uncomment the line below to see the solution\n",
    "#step_1.solution()"
   ]
  },
  {
   "cell_type": "markdown",
   "id": "ee4f7855",
   "metadata": {
    "papermill": {
     "duration": 0.006313,
     "end_time": "2022-07-12T08:02:07.106866",
     "exception": false,
     "start_time": "2022-07-12T08:02:07.100553",
     "status": "completed"
    },
    "tags": []
   },
   "source": [
    "## Step 2: Review the data\n",
    "\n",
    "Use a Python command to print the last 5 rows of the data."
   ]
  },
  {
   "cell_type": "code",
   "execution_count": 5,
   "id": "ad009ed1",
   "metadata": {
    "execution": {
     "iopub.execute_input": "2022-07-12T08:02:07.122596Z",
     "iopub.status.busy": "2022-07-12T08:02:07.121762Z",
     "iopub.status.idle": "2022-07-12T08:02:07.138891Z",
     "shell.execute_reply": "2022-07-12T08:02:07.137937Z"
    },
    "papermill": {
     "duration": 0.027545,
     "end_time": "2022-07-12T08:02:07.140977",
     "exception": false,
     "start_time": "2022-07-12T08:02:07.113432",
     "status": "completed"
    },
    "tags": []
   },
   "outputs": [
    {
     "data": {
      "text/html": [
       "<div>\n",
       "<style scoped>\n",
       "    .dataframe tbody tr th:only-of-type {\n",
       "        vertical-align: middle;\n",
       "    }\n",
       "\n",
       "    .dataframe tbody tr th {\n",
       "        vertical-align: top;\n",
       "    }\n",
       "\n",
       "    .dataframe thead th {\n",
       "        text-align: right;\n",
       "    }\n",
       "</style>\n",
       "<table border=\"1\" class=\"dataframe\">\n",
       "  <thead>\n",
       "    <tr style=\"text-align: right;\">\n",
       "      <th></th>\n",
       "      <th>Avila Adobe</th>\n",
       "      <th>Firehouse Museum</th>\n",
       "      <th>Chinese American Museum</th>\n",
       "      <th>America Tropical Interpretive Center</th>\n",
       "    </tr>\n",
       "    <tr>\n",
       "      <th>Date</th>\n",
       "      <th></th>\n",
       "      <th></th>\n",
       "      <th></th>\n",
       "      <th></th>\n",
       "    </tr>\n",
       "  </thead>\n",
       "  <tbody>\n",
       "    <tr>\n",
       "      <th>2018-07-01</th>\n",
       "      <td>23136</td>\n",
       "      <td>4191</td>\n",
       "      <td>2620</td>\n",
       "      <td>4718</td>\n",
       "    </tr>\n",
       "    <tr>\n",
       "      <th>2018-08-01</th>\n",
       "      <td>20815</td>\n",
       "      <td>4866</td>\n",
       "      <td>2409</td>\n",
       "      <td>3891</td>\n",
       "    </tr>\n",
       "    <tr>\n",
       "      <th>2018-09-01</th>\n",
       "      <td>21020</td>\n",
       "      <td>4956</td>\n",
       "      <td>2146</td>\n",
       "      <td>3180</td>\n",
       "    </tr>\n",
       "    <tr>\n",
       "      <th>2018-10-01</th>\n",
       "      <td>19280</td>\n",
       "      <td>4622</td>\n",
       "      <td>2364</td>\n",
       "      <td>3775</td>\n",
       "    </tr>\n",
       "    <tr>\n",
       "      <th>2018-11-01</th>\n",
       "      <td>17163</td>\n",
       "      <td>4082</td>\n",
       "      <td>2385</td>\n",
       "      <td>4562</td>\n",
       "    </tr>\n",
       "  </tbody>\n",
       "</table>\n",
       "</div>"
      ],
      "text/plain": [
       "            Avila Adobe  Firehouse Museum  Chinese American Museum  \\\n",
       "Date                                                                 \n",
       "2018-07-01        23136              4191                     2620   \n",
       "2018-08-01        20815              4866                     2409   \n",
       "2018-09-01        21020              4956                     2146   \n",
       "2018-10-01        19280              4622                     2364   \n",
       "2018-11-01        17163              4082                     2385   \n",
       "\n",
       "            America Tropical Interpretive Center  \n",
       "Date                                              \n",
       "2018-07-01                                  4718  \n",
       "2018-08-01                                  3891  \n",
       "2018-09-01                                  3180  \n",
       "2018-10-01                                  3775  \n",
       "2018-11-01                                  4562  "
      ]
     },
     "execution_count": 5,
     "metadata": {},
     "output_type": "execute_result"
    }
   ],
   "source": [
    "# Print the last five rows of the data \n",
    "museum_data.tail() # Your code here"
   ]
  },
  {
   "cell_type": "markdown",
   "id": "6e439933",
   "metadata": {
    "papermill": {
     "duration": 0.006779,
     "end_time": "2022-07-12T08:02:07.154658",
     "exception": false,
     "start_time": "2022-07-12T08:02:07.147879",
     "status": "completed"
    },
    "tags": []
   },
   "source": []
  },
  {
   "cell_type": "markdown",
   "id": "e6d45788",
   "metadata": {
    "papermill": {
     "duration": 0.006424,
     "end_time": "2022-07-12T08:02:07.167729",
     "exception": false,
     "start_time": "2022-07-12T08:02:07.161305",
     "status": "completed"
    },
    "tags": []
   },
   "source": [
    "The last row (for `2018-11-01`) tracks the number of visitors to each museum in November 2018, the next-to-last row (for `2018-10-01`) tracks the number of visitors to each museum in October 2018, _and so on_.\n",
    "\n",
    "Use the last 5 rows of the data to answer the questions below."
   ]
  },
  {
   "cell_type": "code",
   "execution_count": 6,
   "id": "b99a88dc",
   "metadata": {
    "execution": {
     "iopub.execute_input": "2022-07-12T08:02:07.184326Z",
     "iopub.status.busy": "2022-07-12T08:02:07.183397Z",
     "iopub.status.idle": "2022-07-12T08:02:07.194152Z",
     "shell.execute_reply": "2022-07-12T08:02:07.192980Z"
    },
    "papermill": {
     "duration": 0.021742,
     "end_time": "2022-07-12T08:02:07.196254",
     "exception": false,
     "start_time": "2022-07-12T08:02:07.174512",
     "status": "completed"
    },
    "tags": []
   },
   "outputs": [
    {
     "data": {
      "application/javascript": [
       "parent.postMessage({\"jupyterEvent\": \"custom.exercise_interaction\", \"data\": {\"outcomeType\": 1, \"valueTowardsCompletion\": 0.3333333333333333, \"interactionType\": 1, \"questionType\": 1, \"questionId\": \"2_ReviewData\", \"learnToolsVersion\": \"0.3.4\", \"failureMessage\": \"\", \"exceptionClass\": \"\", \"trace\": \"\"}}, \"*\")"
      ],
      "text/plain": [
       "<IPython.core.display.Javascript object>"
      ]
     },
     "metadata": {},
     "output_type": "display_data"
    },
    {
     "data": {
      "text/markdown": [
       "<span style=\"color:#33cc33\">Correct</span>"
      ],
      "text/plain": [
       "Correct"
      ]
     },
     "metadata": {},
     "output_type": "display_data"
    }
   ],
   "source": [
    "# Fill in the line below: How many visitors did the Chinese American Museum \n",
    "# receive in July 2018?\n",
    "ca_museum_jul18 = 2620\n",
    "\n",
    "# Fill in the line below: In October 2018, how many more visitors did Avila \n",
    "# Adobe receive than the Firehouse Museum?\n",
    "avila_oct18 = 19280 - 4622\n",
    "\n",
    "# Check your answers\n",
    "step_2.check()"
   ]
  },
  {
   "cell_type": "code",
   "execution_count": 7,
   "id": "4edf311b",
   "metadata": {
    "execution": {
     "iopub.execute_input": "2022-07-12T08:02:07.213085Z",
     "iopub.status.busy": "2022-07-12T08:02:07.212441Z",
     "iopub.status.idle": "2022-07-12T08:02:07.216704Z",
     "shell.execute_reply": "2022-07-12T08:02:07.215441Z"
    },
    "papermill": {
     "duration": 0.015365,
     "end_time": "2022-07-12T08:02:07.218804",
     "exception": false,
     "start_time": "2022-07-12T08:02:07.203439",
     "status": "completed"
    },
    "tags": []
   },
   "outputs": [],
   "source": [
    "# Lines below will give you a hint or solution code\n",
    "#step_2.hint()\n",
    "#step_2.solution()"
   ]
  },
  {
   "cell_type": "markdown",
   "id": "524ddd3e",
   "metadata": {
    "papermill": {
     "duration": 0.006925,
     "end_time": "2022-07-12T08:02:07.232889",
     "exception": false,
     "start_time": "2022-07-12T08:02:07.225964",
     "status": "completed"
    },
    "tags": []
   },
   "source": [
    "## Step 3: Convince the museum board \n",
    "\n",
    "The Firehouse Museum claims they ran an event in 2014 that brought an incredible number of visitors, and that they should get extra budget to run a similar event again.  The other museums think these types of events aren't that important, and budgets should be split purely based on recent visitors on an average day.  \n",
    "\n",
    "To show the museum board how the event compared to regular traffic at each museum, create a line chart that shows how the number of visitors to each museum evolved over time.  Your figure should have four lines (one for each museum).\n",
    "\n",
    "> **(Optional) Note**: If you have some prior experience with plotting figures in Python, you might be familiar with the `plt.show()` command.  If you decide to use this command, please place it **after** the line of code that checks your answer (in this case, place it after `step_3.check()` below) -- otherwise, the checking code will return an error!"
   ]
  },
  {
   "cell_type": "code",
   "execution_count": 8,
   "id": "d331f5ab",
   "metadata": {
    "execution": {
     "iopub.execute_input": "2022-07-12T08:02:07.250097Z",
     "iopub.status.busy": "2022-07-12T08:02:07.249399Z",
     "iopub.status.idle": "2022-07-12T08:02:07.632819Z",
     "shell.execute_reply": "2022-07-12T08:02:07.631486Z"
    },
    "papermill": {
     "duration": 0.395857,
     "end_time": "2022-07-12T08:02:07.636370",
     "exception": false,
     "start_time": "2022-07-12T08:02:07.240513",
     "status": "completed"
    },
    "tags": []
   },
   "outputs": [
    {
     "data": {
      "application/javascript": [
       "parent.postMessage({\"jupyterEvent\": \"custom.exercise_interaction\", \"data\": {\"outcomeType\": 1, \"valueTowardsCompletion\": 0.3333333333333333, \"interactionType\": 1, \"questionType\": 2, \"questionId\": \"3_PlotAll\", \"learnToolsVersion\": \"0.3.4\", \"failureMessage\": \"\", \"exceptionClass\": \"\", \"trace\": \"\"}}, \"*\")"
      ],
      "text/plain": [
       "<IPython.core.display.Javascript object>"
      ]
     },
     "metadata": {},
     "output_type": "display_data"
    },
    {
     "data": {
      "text/markdown": [
       "<span style=\"color:#33cc33\">Correct</span>"
      ],
      "text/plain": [
       "Correct"
      ]
     },
     "metadata": {},
     "output_type": "display_data"
    },
    {
     "data": {
      "image/png": "[encoded data removed]",
      "text/plain": [
       "<Figure size 432x288 with 1 Axes>"
      ]
     },
     "metadata": {
      "needs_background": "light"
     },
     "output_type": "display_data"
    }
   ],
   "source": [
    "# Line chart showing the number of visitors to each museum over time\n",
    "sns.lineplot(data=museum_data) # Your code here\n",
    "plt.title(\"No of visitors to museums\")\n",
    "# Check your answer\n",
    "step_3.check()"
   ]
  },
  {
   "cell_type": "code",
   "execution_count": 9,
   "id": "04e068fa",
   "metadata": {
    "execution": {
     "iopub.execute_input": "2022-07-12T08:02:07.657011Z",
     "iopub.status.busy": "2022-07-12T08:02:07.656258Z",
     "iopub.status.idle": "2022-07-12T08:02:07.661928Z",
     "shell.execute_reply": "2022-07-12T08:02:07.660729Z"
    },
    "papermill": {
     "duration": 0.018958,
     "end_time": "2022-07-12T08:02:07.664535",
     "exception": false,
     "start_time": "2022-07-12T08:02:07.645577",
     "status": "completed"
    },
    "tags": []
   },
   "outputs": [],
   "source": [
    "# Lines below will give you a hint or solution code\n",
    "#step_3.hint()\n",
    "#step_3.solution_plot()"
   ]
  },
  {
   "cell_type": "markdown",
   "id": "25cf5d9e",
   "metadata": {
    "papermill": {
     "duration": 0.008006,
     "end_time": "2022-07-12T08:02:07.681094",
     "exception": false,
     "start_time": "2022-07-12T08:02:07.673088",
     "status": "completed"
    },
    "tags": []
   },
   "source": [
    "## Step 4: Assess seasonality\n",
    "\n",
    "When meeting with the employees at Avila Adobe, you hear that one major pain point is that the number of museum visitors varies greatly with the seasons, with low seasons (when the employees are perfectly staffed and happy) and also high seasons (when the employees are understaffed and stressed).  You realize that if you can predict these high and low seasons, you can plan ahead to hire some additional seasonal employees to help out with the extra work.\n",
    "\n",
    "#### Part A\n",
    "Create a line chart that shows how the number of visitors to Avila Adobe has evolved over time.  (_If your code returns an error, the first thing that you should check is that you've spelled the name of the column correctly!  You must write the name of the column exactly as it appears in the dataset._)"
   ]
  },
  {
   "cell_type": "code",
   "execution_count": 10,
   "id": "32e5ad6d",
   "metadata": {
    "execution": {
     "iopub.execute_input": "2022-07-12T08:02:07.699928Z",
     "iopub.status.busy": "2022-07-12T08:02:07.699249Z",
     "iopub.status.idle": "2022-07-12T08:02:07.975347Z",
     "shell.execute_reply": "2022-07-12T08:02:07.973444Z"
    },
    "papermill": {
     "duration": 0.288591,
     "end_time": "2022-07-12T08:02:07.977863",
     "exception": false,
     "start_time": "2022-07-12T08:02:07.689272",
     "status": "completed"
    },
    "tags": []
   },
   "outputs": [
    {
     "name": "stdout",
     "output_type": "stream",
     "text": [
      "Thank you for creating a line chart!  To see how your code compares to the official solution, please use the code cell below.\n"
     ]
    },
    {
     "data": {
      "application/javascript": [
       "parent.postMessage({\"jupyterEvent\": \"custom.exercise_interaction\", \"data\": {\"outcomeType\": 1, \"valueTowardsCompletion\": 0.3333333333333333, \"interactionType\": 1, \"questionType\": 2, \"questionId\": \"4.1_PlotAvila\", \"learnToolsVersion\": \"0.3.4\", \"failureMessage\": \"\", \"exceptionClass\": \"\", \"trace\": \"\"}}, \"*\")"
      ],
      "text/plain": [
       "<IPython.core.display.Javascript object>"
      ]
     },
     "metadata": {},
     "output_type": "display_data"
    },
    {
     "data": {
      "text/markdown": [
       "<span style=\"color:#33cc33\">Correct</span>"
      ],
      "text/plain": [
       "Correct"
      ]
     },
     "metadata": {},
     "output_type": "display_data"
    },
    {
     "data": {
      "image/png": "[encoded data removed]",
      "text/plain": [
       "<Figure size 432x288 with 1 Axes>"
      ]
     },
     "metadata": {
      "needs_background": "light"
     },
     "output_type": "display_data"
    }
   ],
   "source": [
    "# Line plot showing the number of visitors to Avila Adobe over time\n",
    "sns.lineplot(data=museum_data[\"Avila Adobe\"], label=\"Avila Adobe\")# Your code here\n",
    "\n",
    "# Check your answer\n",
    "step_4.a.check()"
   ]
  },
  {
   "cell_type": "code",
   "execution_count": 11,
   "id": "53316d60",
   "metadata": {
    "execution": {
     "iopub.execute_input": "2022-07-12T08:02:07.998896Z",
     "iopub.status.busy": "2022-07-12T08:02:07.998433Z",
     "iopub.status.idle": "2022-07-12T08:02:08.003920Z",
     "shell.execute_reply": "2022-07-12T08:02:08.002602Z"
    },
    "papermill": {
     "duration": 0.01885,
     "end_time": "2022-07-12T08:02:08.006264",
     "exception": false,
     "start_time": "2022-07-12T08:02:07.987414",
     "status": "completed"
    },
    "tags": []
   },
   "outputs": [],
   "source": [
    "# Lines below will give you a hint or solution code\n",
    "#step_4.a.hint()\n",
    "#step_4.a.solution_plot()"
   ]
  },
  {
   "cell_type": "markdown",
   "id": "953fe7b4",
   "metadata": {
    "papermill": {
     "duration": 0.008928,
     "end_time": "2022-07-12T08:02:08.024431",
     "exception": false,
     "start_time": "2022-07-12T08:02:08.015503",
     "status": "completed"
    },
    "tags": []
   },
   "source": [
    "#### Part B\n",
    "\n",
    "Does Avila Adobe get more visitors:\n",
    "- in September-February (in LA, the fall and winter months), or \n",
    "- in March-August (in LA, the spring and summer)?  \n",
    "\n",
    "Using this information, when should the museum staff additional seasonal employees?"
   ]
  },
  {
   "cell_type": "markdown",
   "id": "199e8c8e",
   "metadata": {
    "papermill": {
     "duration": 0.008944,
     "end_time": "2022-07-12T08:02:08.042821",
     "exception": false,
     "start_time": "2022-07-12T08:02:08.033877",
     "status": "completed"
    },
    "tags": []
   },
   "source": [
    "The graph spikes up during March-August month indicates that Avila Adobe get more vistors during the month of March-August. So, hiring additional seasonal employees during the month of March-August will be beneficial. "
   ]
  },
  {
   "cell_type": "code",
   "execution_count": 12,
   "id": "126625e0",
   "metadata": {
    "execution": {
     "iopub.execute_input": "2022-07-12T08:02:08.063334Z",
     "iopub.status.busy": "2022-07-12T08:02:08.062844Z",
     "iopub.status.idle": "2022-07-12T08:02:08.068415Z",
     "shell.execute_reply": "2022-07-12T08:02:08.067061Z"
    },
    "papermill": {
     "duration": 0.018868,
     "end_time": "2022-07-12T08:02:08.070727",
     "exception": false,
     "start_time": "2022-07-12T08:02:08.051859",
     "status": "completed"
    },
    "tags": []
   },
   "outputs": [],
   "source": [
    "#step_4.b.hint()"
   ]
  },
  {
   "cell_type": "code",
   "execution_count": 13,
   "id": "0abb551c",
   "metadata": {
    "execution": {
     "iopub.execute_input": "2022-07-12T08:02:08.091629Z",
     "iopub.status.busy": "2022-07-12T08:02:08.090959Z",
     "iopub.status.idle": "2022-07-12T08:02:08.096021Z",
     "shell.execute_reply": "2022-07-12T08:02:08.094622Z"
    },
    "papermill": {
     "duration": 0.018234,
     "end_time": "2022-07-12T08:02:08.098271",
     "exception": false,
     "start_time": "2022-07-12T08:02:08.080037",
     "status": "completed"
    },
    "tags": []
   },
   "outputs": [],
   "source": [
    "# Check your answer (Run this code cell to receive credit!)\n",
    "#step_4.b.solution()"
   ]
  },
  {
   "cell_type": "markdown",
   "id": "a6cbc2af",
   "metadata": {
    "papermill": {
     "duration": 0.008868,
     "end_time": "2022-07-12T08:02:08.116412",
     "exception": false,
     "start_time": "2022-07-12T08:02:08.107544",
     "status": "completed"
    },
    "tags": []
   },
   "source": [
    "# Keep going\n",
    "\n",
    "Move on to learn about **[bar charts and heatmaps](https://www.kaggle.com/alexisbcook/bar-charts-and-heatmaps)** with a new dataset!"
   ]
  },
  {
   "cell_type": "markdown",
   "id": "042dd08d",
   "metadata": {
    "papermill": {
     "duration": 0.012114,
     "end_time": "2022-07-12T08:02:08.137714",
     "exception": false,
     "start_time": "2022-07-12T08:02:08.125600",
     "status": "completed"
    },
    "tags": []
   },
   "source": [
    "---\n",
    "\n",
    "\n",
    "\n",
    "\n",
    "*Have questions or comments? Visit the [course discussion forum](https://www.kaggle.com/learn/data-visualization/discussion) to chat with other learners.*"
   ]
  }
 ],
 "metadata": {
  "kernelspec": {
   "display_name": "Python 3",
   "language": "python",
   "name": "python3"
  },
  "language_info": {
   "codemirror_mode": {
    "name": "ipython",
    "version": 3
   },
   "file_extension": ".py",
   "mimetype": "text/x-python",
   "name": "python",
   "nbconvert_exporter": "python",
   "pygments_lexer": "ipython3",
   "version": "3.7.12"
  },
  "papermill": {
   "default_parameters": {},
   "duration": 13.821286,
   "end_time": "2022-07-12T08:02:09.074026",
   "environment_variables": {},
   "exception": null,
   "input_path": "__notebook__.ipynb",
   "output_path": "__notebook__.ipynb",
   "parameters": {},
   "start_time": "2022-07-12T08:01:55.252740",
   "version": "2.3.4"
  }
 },
 "nbformat": 4,
 "nbformat_minor": 5
}

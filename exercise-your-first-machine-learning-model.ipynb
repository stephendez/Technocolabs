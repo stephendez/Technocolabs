{
 "cells": [
  {
   "cell_type": "markdown",
   "id": "27596aaa",
   "metadata": {
    "papermill": {
     "duration": 0.006769,
     "end_time": "2022-07-15T10:47:49.799280",
     "exception": false,
     "start_time": "2022-07-15T10:47:49.792511",
     "status": "completed"
    },
    "tags": []
   },
   "source": [
    "**This notebook is an exercise in the [Introduction to Machine Learning](https://www.kaggle.com/learn/intro-to-machine-learning) course.  You can reference the tutorial at [this link](https://www.kaggle.com/dansbecker/your-first-machine-learning-model).**\n",
    "\n",
    "---\n"
   ]
  },
  {
   "cell_type": "markdown",
   "id": "4f7f9ac7",
   "metadata": {
    "papermill": {
     "duration": 0.005762,
     "end_time": "2022-07-15T10:47:49.810996",
     "exception": false,
     "start_time": "2022-07-15T10:47:49.805234",
     "status": "completed"
    },
    "tags": []
   },
   "source": [
    "## Recap\n",
    "So far, you have loaded your data and reviewed it with the following code. Run this cell to set up your coding environment where the previous step left off."
   ]
  },
  {
   "cell_type": "code",
   "execution_count": 1,
   "id": "c2e076c9",
   "metadata": {
    "execution": {
     "iopub.execute_input": "2022-07-15T10:47:49.825832Z",
     "iopub.status.busy": "2022-07-15T10:47:49.824496Z",
     "iopub.status.idle": "2022-07-15T10:47:51.220330Z",
     "shell.execute_reply": "2022-07-15T10:47:51.218984Z"
    },
    "papermill": {
     "duration": 1.407479,
     "end_time": "2022-07-15T10:47:51.224401",
     "exception": false,
     "start_time": "2022-07-15T10:47:49.816922",
     "status": "completed"
    },
    "tags": []
   },
   "outputs": [
    {
     "name": "stdout",
     "output_type": "stream",
     "text": [
      "Setup Complete\n"
     ]
    }
   ],
   "source": [
    "# Code you have previously used to load data\n",
    "import pandas as pd\n",
    "\n",
    "# Path of the file to read\n",
    "iowa_file_path = '../input/home-data-for-ml-course/train.csv'\n",
    "\n",
    "home_data = pd.read_csv(iowa_file_path)\n",
    "\n",
    "# Set up code checking\n",
    "from learntools.core import binder\n",
    "binder.bind(globals())\n",
    "from learntools.machine_learning.ex3 import *\n",
    "\n",
    "print(\"Setup Complete\")"
   ]
  },
  {
   "cell_type": "markdown",
   "id": "8058c620",
   "metadata": {
    "papermill": {
     "duration": 0.005631,
     "end_time": "2022-07-15T10:47:51.236210",
     "exception": false,
     "start_time": "2022-07-15T10:47:51.230579",
     "status": "completed"
    },
    "tags": []
   },
   "source": [
    "# Exercises\n",
    "\n",
    "## Step 1: Specify Prediction Target\n",
    "Select the target variable, which corresponds to the sales price. Save this to a new variable called `y`. You'll need to print a list of the columns to find the name of the column you need.\n"
   ]
  },
  {
   "cell_type": "code",
   "execution_count": 2,
   "id": "f2ce9315",
   "metadata": {
    "execution": {
     "iopub.execute_input": "2022-07-15T10:47:51.249421Z",
     "iopub.status.busy": "2022-07-15T10:47:51.248990Z",
     "iopub.status.idle": "2022-07-15T10:47:51.259011Z",
     "shell.execute_reply": "2022-07-15T10:47:51.257776Z"
    },
    "papermill": {
     "duration": 0.019724,
     "end_time": "2022-07-15T10:47:51.261643",
     "exception": false,
     "start_time": "2022-07-15T10:47:51.241919",
     "status": "completed"
    },
    "tags": []
   },
   "outputs": [
    {
     "data": {
      "text/plain": [
       "Index(['Id', 'MSSubClass', 'MSZoning', 'LotFrontage', 'LotArea', 'Street',\n",
       "       'Alley', 'LotShape', 'LandContour', 'Utilities', 'LotConfig',\n",
       "       'LandSlope', 'Neighborhood', 'Condition1', 'Condition2', 'BldgType',\n",
       "       'HouseStyle', 'OverallQual', 'OverallCond', 'YearBuilt', 'YearRemodAdd',\n",
       "       'RoofStyle', 'RoofMatl', 'Exterior1st', 'Exterior2nd', 'MasVnrType',\n",
       "       'MasVnrArea', 'ExterQual', 'ExterCond', 'Foundation', 'BsmtQual',\n",
       "       'BsmtCond', 'BsmtExposure', 'BsmtFinType1', 'BsmtFinSF1',\n",
       "       'BsmtFinType2', 'BsmtFinSF2', 'BsmtUnfSF', 'TotalBsmtSF', 'Heating',\n",
       "       'HeatingQC', 'CentralAir', 'Electrical', '1stFlrSF', '2ndFlrSF',\n",
       "       'LowQualFinSF', 'GrLivArea', 'BsmtFullBath', 'BsmtHalfBath', 'FullBath',\n",
       "       'HalfBath', 'BedroomAbvGr', 'KitchenAbvGr', 'KitchenQual',\n",
       "       'TotRmsAbvGrd', 'Functional', 'Fireplaces', 'FireplaceQu', 'GarageType',\n",
       "       'GarageYrBlt', 'GarageFinish', 'GarageCars', 'GarageArea', 'GarageQual',\n",
       "       'GarageCond', 'PavedDrive', 'WoodDeckSF', 'OpenPorchSF',\n",
       "       'EnclosedPorch', '3SsnPorch', 'ScreenPorch', 'PoolArea', 'PoolQC',\n",
       "       'Fence', 'MiscFeature', 'MiscVal', 'MoSold', 'YrSold', 'SaleType',\n",
       "       'SaleCondition', 'SalePrice'],\n",
       "      dtype='object')"
      ]
     },
     "execution_count": 2,
     "metadata": {},
     "output_type": "execute_result"
    }
   ],
   "source": [
    "# print the list of columns in the dataset to find the name of the prediction target\n",
    "home_data.columns"
   ]
  },
  {
   "cell_type": "code",
   "execution_count": 3,
   "id": "94a104c1",
   "metadata": {
    "execution": {
     "iopub.execute_input": "2022-07-15T10:47:51.275594Z",
     "iopub.status.busy": "2022-07-15T10:47:51.274746Z",
     "iopub.status.idle": "2022-07-15T10:47:51.287675Z",
     "shell.execute_reply": "2022-07-15T10:47:51.286796Z"
    },
    "papermill": {
     "duration": 0.022056,
     "end_time": "2022-07-15T10:47:51.289660",
     "exception": false,
     "start_time": "2022-07-15T10:47:51.267604",
     "status": "completed"
    },
    "tags": []
   },
   "outputs": [
    {
     "data": {
      "application/javascript": [
       "parent.postMessage({\"jupyterEvent\": \"custom.exercise_interaction\", \"data\": {\"outcomeType\": 1, \"valueTowardsCompletion\": 0.25, \"interactionType\": 1, \"questionType\": 2, \"questionId\": \"1_SetTarget\", \"learnToolsVersion\": \"0.3.4\", \"failureMessage\": \"\", \"exceptionClass\": \"\", \"trace\": \"\"}}, \"*\")"
      ],
      "text/plain": [
       "<IPython.core.display.Javascript object>"
      ]
     },
     "metadata": {},
     "output_type": "display_data"
    },
    {
     "data": {
      "text/markdown": [
       "<span style=\"color:#33cc33\">Correct</span>"
      ],
      "text/plain": [
       "Correct"
      ]
     },
     "metadata": {},
     "output_type": "display_data"
    }
   ],
   "source": [
    "y = home_data['SalePrice']\n",
    "\n",
    "# Check your answer\n",
    "step_1.check()"
   ]
  },
  {
   "cell_type": "code",
   "execution_count": 4,
   "id": "112499ce",
   "metadata": {
    "collapsed": true,
    "execution": {
     "iopub.execute_input": "2022-07-15T10:47:51.303967Z",
     "iopub.status.busy": "2022-07-15T10:47:51.303378Z",
     "iopub.status.idle": "2022-07-15T10:47:51.307069Z",
     "shell.execute_reply": "2022-07-15T10:47:51.306167Z"
    },
    "jupyter": {
     "outputs_hidden": true
    },
    "papermill": {
     "duration": 0.01344,
     "end_time": "2022-07-15T10:47:51.309163",
     "exception": false,
     "start_time": "2022-07-15T10:47:51.295723",
     "status": "completed"
    },
    "tags": []
   },
   "outputs": [],
   "source": [
    "# The lines below will show you a hint or the solution.\n",
    "# step_1.hint() \n",
    "# step_1.solution()"
   ]
  },
  {
   "cell_type": "markdown",
   "id": "58a5f990",
   "metadata": {
    "papermill": {
     "duration": 0.005853,
     "end_time": "2022-07-15T10:47:51.321325",
     "exception": false,
     "start_time": "2022-07-15T10:47:51.315472",
     "status": "completed"
    },
    "tags": []
   },
   "source": [
    "## Step 2: Create X\n",
    "Now you will create a DataFrame called `X` holding the predictive features.\n",
    "\n",
    "Since you want only some columns from the original data, you'll first create a list with the names of the columns you want in `X`.\n",
    "\n",
    "You'll use just the following columns in the list (you can copy and paste the whole list to save some typing, though you'll still need to add quotes):\n",
    "  * LotArea\n",
    "  * YearBuilt\n",
    "  * 1stFlrSF\n",
    "  * 2ndFlrSF\n",
    "  * FullBath\n",
    "  * BedroomAbvGr\n",
    "  * TotRmsAbvGrd\n",
    "\n",
    "After you've created that list of features, use it to create the DataFrame that you'll use to fit the model."
   ]
  },
  {
   "cell_type": "code",
   "execution_count": 5,
   "id": "33997c72",
   "metadata": {
    "execution": {
     "iopub.execute_input": "2022-07-15T10:47:51.335581Z",
     "iopub.status.busy": "2022-07-15T10:47:51.335027Z",
     "iopub.status.idle": "2022-07-15T10:47:51.348724Z",
     "shell.execute_reply": "2022-07-15T10:47:51.347651Z"
    },
    "papermill": {
     "duration": 0.02325,
     "end_time": "2022-07-15T10:47:51.350766",
     "exception": false,
     "start_time": "2022-07-15T10:47:51.327516",
     "status": "completed"
    },
    "tags": []
   },
   "outputs": [
    {
     "data": {
      "application/javascript": [
       "parent.postMessage({\"jupyterEvent\": \"custom.exercise_interaction\", \"data\": {\"outcomeType\": 1, \"valueTowardsCompletion\": 0.25, \"interactionType\": 1, \"questionType\": 2, \"questionId\": \"2_SelectPredictionData\", \"learnToolsVersion\": \"0.3.4\", \"failureMessage\": \"\", \"exceptionClass\": \"\", \"trace\": \"\"}}, \"*\")"
      ],
      "text/plain": [
       "<IPython.core.display.Javascript object>"
      ]
     },
     "metadata": {},
     "output_type": "display_data"
    },
    {
     "data": {
      "text/markdown": [
       "<span style=\"color:#33cc33\">Correct</span>"
      ],
      "text/plain": [
       "Correct"
      ]
     },
     "metadata": {},
     "output_type": "display_data"
    }
   ],
   "source": [
    "# Create the list of features below\n",
    "feature_names = [\"LotArea\",\"YearBuilt\",\"1stFlrSF\",\"2ndFlrSF\",\"FullBath\",\"BedroomAbvGr\",\"TotRmsAbvGrd\"]\n",
    "\n",
    "# Select data corresponding to features in feature_names\n",
    "X = home_data[feature_names]\n",
    "\n",
    "# Check your answer\n",
    "step_2.check()"
   ]
  },
  {
   "cell_type": "code",
   "execution_count": 6,
   "id": "eea98923",
   "metadata": {
    "collapsed": true,
    "execution": {
     "iopub.execute_input": "2022-07-15T10:47:51.365992Z",
     "iopub.status.busy": "2022-07-15T10:47:51.365390Z",
     "iopub.status.idle": "2022-07-15T10:47:51.369143Z",
     "shell.execute_reply": "2022-07-15T10:47:51.368254Z"
    },
    "jupyter": {
     "outputs_hidden": true
    },
    "papermill": {
     "duration": 0.01411,
     "end_time": "2022-07-15T10:47:51.371358",
     "exception": false,
     "start_time": "2022-07-15T10:47:51.357248",
     "status": "completed"
    },
    "tags": []
   },
   "outputs": [],
   "source": [
    "# step_2.hint()\n",
    "# step_2.solution()"
   ]
  },
  {
   "cell_type": "markdown",
   "id": "36abf7d9",
   "metadata": {
    "papermill": {
     "duration": 0.006283,
     "end_time": "2022-07-15T10:47:51.384321",
     "exception": false,
     "start_time": "2022-07-15T10:47:51.378038",
     "status": "completed"
    },
    "tags": []
   },
   "source": [
    "## Review Data\n",
    "Before building a model, take a quick look at **X** to verify it looks sensible"
   ]
  },
  {
   "cell_type": "code",
   "execution_count": 7,
   "id": "804c45d0",
   "metadata": {
    "execution": {
     "iopub.execute_input": "2022-07-15T10:47:51.399428Z",
     "iopub.status.busy": "2022-07-15T10:47:51.399006Z",
     "iopub.status.idle": "2022-07-15T10:47:51.436691Z",
     "shell.execute_reply": "2022-07-15T10:47:51.435067Z"
    },
    "papermill": {
     "duration": 0.049873,
     "end_time": "2022-07-15T10:47:51.440839",
     "exception": false,
     "start_time": "2022-07-15T10:47:51.390966",
     "status": "completed"
    },
    "tags": []
   },
   "outputs": [
    {
     "name": "stdout",
     "output_type": "stream",
     "text": [
      "             LotArea    YearBuilt     1stFlrSF     2ndFlrSF     FullBath  \\\n",
      "count    1460.000000  1460.000000  1460.000000  1460.000000  1460.000000   \n",
      "mean    10516.828082  1971.267808  1162.626712   346.992466     1.565068   \n",
      "std      9981.264932    30.202904   386.587738   436.528436     0.550916   \n",
      "min      1300.000000  1872.000000   334.000000     0.000000     0.000000   \n",
      "25%      7553.500000  1954.000000   882.000000     0.000000     1.000000   \n",
      "50%      9478.500000  1973.000000  1087.000000     0.000000     2.000000   \n",
      "75%     11601.500000  2000.000000  1391.250000   728.000000     2.000000   \n",
      "max    215245.000000  2010.000000  4692.000000  2065.000000     3.000000   \n",
      "\n",
      "       BedroomAbvGr  TotRmsAbvGrd  \n",
      "count   1460.000000   1460.000000  \n",
      "mean       2.866438      6.517808  \n",
      "std        0.815778      1.625393  \n",
      "min        0.000000      2.000000  \n",
      "25%        2.000000      5.000000  \n",
      "50%        3.000000      6.000000  \n",
      "75%        3.000000      7.000000  \n",
      "max        8.000000     14.000000  \n",
      "0    208500\n",
      "1    181500\n",
      "2    223500\n",
      "3    140000\n",
      "4    250000\n",
      "Name: SalePrice, dtype: int64\n"
     ]
    }
   ],
   "source": [
    "# Review data\n",
    "# print description or statistics from X\n",
    "print(X.describe())\n",
    "\n",
    "# print the top few lines\n",
    "print(y.head())"
   ]
  },
  {
   "cell_type": "markdown",
   "id": "cf643c20",
   "metadata": {
    "papermill": {
     "duration": 0.006477,
     "end_time": "2022-07-15T10:47:51.455440",
     "exception": false,
     "start_time": "2022-07-15T10:47:51.448963",
     "status": "completed"
    },
    "tags": []
   },
   "source": [
    "## Step 3: Specify and Fit Model\n",
    "Create a `DecisionTreeRegressor` and save it iowa_model. Ensure you've done the relevant import from sklearn to run this command.\n",
    "\n",
    "Then fit the model you just created using the data in `X` and `y` that you saved above."
   ]
  },
  {
   "cell_type": "code",
   "execution_count": 8,
   "id": "6a194a0d",
   "metadata": {
    "execution": {
     "iopub.execute_input": "2022-07-15T10:47:51.471276Z",
     "iopub.status.busy": "2022-07-15T10:47:51.470588Z",
     "iopub.status.idle": "2022-07-15T10:47:51.489191Z",
     "shell.execute_reply": "2022-07-15T10:47:51.488439Z"
    },
    "papermill": {
     "duration": 0.028857,
     "end_time": "2022-07-15T10:47:51.491374",
     "exception": false,
     "start_time": "2022-07-15T10:47:51.462517",
     "status": "completed"
    },
    "tags": []
   },
   "outputs": [
    {
     "data": {
      "application/javascript": [
       "parent.postMessage({\"jupyterEvent\": \"custom.exercise_interaction\", \"data\": {\"outcomeType\": 1, \"valueTowardsCompletion\": 0.25, \"interactionType\": 1, \"questionType\": 2, \"questionId\": \"3_CreateModel\", \"learnToolsVersion\": \"0.3.4\", \"failureMessage\": \"\", \"exceptionClass\": \"\", \"trace\": \"\"}}, \"*\")"
      ],
      "text/plain": [
       "<IPython.core.display.Javascript object>"
      ]
     },
     "metadata": {},
     "output_type": "display_data"
    },
    {
     "data": {
      "text/markdown": [
       "<span style=\"color:#33cc33\">Correct</span>"
      ],
      "text/plain": [
       "Correct"
      ]
     },
     "metadata": {},
     "output_type": "display_data"
    }
   ],
   "source": [
    "from sklearn.tree import DecisionTreeRegressor\n",
    "#specify the model. \n",
    "#For model reproducibility, set a numeric value for random_state when specifying the model\n",
    "iowa_model = DecisionTreeRegressor(random_state = 1)\n",
    "\n",
    "# Fit the model\n",
    "iowa_model.fit(X,y)\n",
    "\n",
    "# Check your answer\n",
    "step_3.check()"
   ]
  },
  {
   "cell_type": "code",
   "execution_count": 9,
   "id": "08fa7e52",
   "metadata": {
    "collapsed": true,
    "execution": {
     "iopub.execute_input": "2022-07-15T10:47:51.507660Z",
     "iopub.status.busy": "2022-07-15T10:47:51.506906Z",
     "iopub.status.idle": "2022-07-15T10:47:51.510806Z",
     "shell.execute_reply": "2022-07-15T10:47:51.509945Z"
    },
    "jupyter": {
     "outputs_hidden": true
    },
    "papermill": {
     "duration": 0.014336,
     "end_time": "2022-07-15T10:47:51.512768",
     "exception": false,
     "start_time": "2022-07-15T10:47:51.498432",
     "status": "completed"
    },
    "tags": []
   },
   "outputs": [],
   "source": [
    "# step_3.hint()\n",
    "# step_3.solution()"
   ]
  },
  {
   "cell_type": "markdown",
   "id": "e61c381b",
   "metadata": {
    "papermill": {
     "duration": 0.006705,
     "end_time": "2022-07-15T10:47:51.526571",
     "exception": false,
     "start_time": "2022-07-15T10:47:51.519866",
     "status": "completed"
    },
    "tags": []
   },
   "source": [
    "## Step 4: Make Predictions\n",
    "Make predictions with the model's `predict` command using `X` as the data. Save the results to a variable called `predictions`."
   ]
  },
  {
   "cell_type": "code",
   "execution_count": 10,
   "id": "2df013ff",
   "metadata": {
    "execution": {
     "iopub.execute_input": "2022-07-15T10:47:51.543069Z",
     "iopub.status.busy": "2022-07-15T10:47:51.542372Z",
     "iopub.status.idle": "2022-07-15T10:47:51.557036Z",
     "shell.execute_reply": "2022-07-15T10:47:51.555585Z"
    },
    "papermill": {
     "duration": 0.025383,
     "end_time": "2022-07-15T10:47:51.559481",
     "exception": false,
     "start_time": "2022-07-15T10:47:51.534098",
     "status": "completed"
    },
    "tags": []
   },
   "outputs": [
    {
     "name": "stdout",
     "output_type": "stream",
     "text": [
      "[208500. 181500. 223500. ... 266500. 142125. 147500.]\n"
     ]
    },
    {
     "data": {
      "application/javascript": [
       "parent.postMessage({\"jupyterEvent\": \"custom.exercise_interaction\", \"data\": {\"outcomeType\": 1, \"valueTowardsCompletion\": 0.25, \"interactionType\": 1, \"questionType\": 2, \"questionId\": \"4_MakePredictions\", \"learnToolsVersion\": \"0.3.4\", \"failureMessage\": \"\", \"exceptionClass\": \"\", \"trace\": \"\"}}, \"*\")"
      ],
      "text/plain": [
       "<IPython.core.display.Javascript object>"
      ]
     },
     "metadata": {},
     "output_type": "display_data"
    },
    {
     "data": {
      "text/markdown": [
       "<span style=\"color:#33cc33\">Correct</span>"
      ],
      "text/plain": [
       "Correct"
      ]
     },
     "metadata": {},
     "output_type": "display_data"
    }
   ],
   "source": [
    "predictions = iowa_model.predict(X)\n",
    "print(predictions)\n",
    "\n",
    "# Check your answer\n",
    "step_4.check()"
   ]
  },
  {
   "cell_type": "code",
   "execution_count": 11,
   "id": "91744a41",
   "metadata": {
    "collapsed": true,
    "execution": {
     "iopub.execute_input": "2022-07-15T10:47:51.576346Z",
     "iopub.status.busy": "2022-07-15T10:47:51.575955Z",
     "iopub.status.idle": "2022-07-15T10:47:51.580271Z",
     "shell.execute_reply": "2022-07-15T10:47:51.579011Z"
    },
    "jupyter": {
     "outputs_hidden": true
    },
    "papermill": {
     "duration": 0.015634,
     "end_time": "2022-07-15T10:47:51.582540",
     "exception": false,
     "start_time": "2022-07-15T10:47:51.566906",
     "status": "completed"
    },
    "tags": []
   },
   "outputs": [],
   "source": [
    "# step_4.hint()\n",
    "# step_4.solution()"
   ]
  },
  {
   "cell_type": "markdown",
   "id": "f9a7e9fe",
   "metadata": {
    "papermill": {
     "duration": 0.007202,
     "end_time": "2022-07-15T10:47:51.597573",
     "exception": false,
     "start_time": "2022-07-15T10:47:51.590371",
     "status": "completed"
    },
    "tags": []
   },
   "source": [
    "## Think About Your Results\n",
    "\n",
    "Use the `head` method to compare the top few predictions to the actual home values (in `y`) for those same homes. Anything surprising?\n"
   ]
  },
  {
   "cell_type": "code",
   "execution_count": 12,
   "id": "9be8b29f",
   "metadata": {
    "execution": {
     "iopub.execute_input": "2022-07-15T10:47:51.614980Z",
     "iopub.status.busy": "2022-07-15T10:47:51.613683Z",
     "iopub.status.idle": "2022-07-15T10:47:51.624074Z",
     "shell.execute_reply": "2022-07-15T10:47:51.622572Z"
    },
    "papermill": {
     "duration": 0.022214,
     "end_time": "2022-07-15T10:47:51.627102",
     "exception": false,
     "start_time": "2022-07-15T10:47:51.604888",
     "status": "completed"
    },
    "tags": []
   },
   "outputs": [
    {
     "name": "stdout",
     "output_type": "stream",
     "text": [
      "0    208500\n",
      "1    181500\n",
      "2    223500\n",
      "3    140000\n",
      "4    250000\n",
      "Name: SalePrice, dtype: int64\n"
     ]
    },
    {
     "data": {
      "text/plain": [
       "array([208500., 181500., 223500., ..., 266500., 142125., 147500.])"
      ]
     },
     "execution_count": 12,
     "metadata": {},
     "output_type": "execute_result"
    }
   ],
   "source": [
    "# You can write code in this cell\n",
    "print(y.head())\n",
    "predictions"
   ]
  },
  {
   "cell_type": "markdown",
   "id": "33762a05",
   "metadata": {
    "papermill": {
     "duration": 0.007689,
     "end_time": "2022-07-15T10:47:51.642667",
     "exception": false,
     "start_time": "2022-07-15T10:47:51.634978",
     "status": "completed"
    },
    "tags": []
   },
   "source": [
    "It's natural to ask how accurate the model's predictions will be and how you can improve that. That will be you're next step.\n",
    "\n",
    "# Keep Going\n",
    "\n",
    "You are ready for **[Model Validation](https://www.kaggle.com/dansbecker/model-validation).**\n"
   ]
  },
  {
   "cell_type": "markdown",
   "id": "bc06a850",
   "metadata": {
    "papermill": {
     "duration": 0.00719,
     "end_time": "2022-07-15T10:47:51.657528",
     "exception": false,
     "start_time": "2022-07-15T10:47:51.650338",
     "status": "completed"
    },
    "tags": []
   },
   "source": [
    "---\n",
    "\n",
    "\n",
    "\n",
    "\n",
    "*Have questions or comments? Visit the [course discussion forum](https://www.kaggle.com/learn/intro-to-machine-learning/discussion) to chat with other learners.*"
   ]
  }
 ],
 "metadata": {
  "kernelspec": {
   "display_name": "Python 3",
   "language": "python",
   "name": "python3"
  },
  "language_info": {
   "codemirror_mode": {
    "name": "ipython",
    "version": 3
   },
   "file_extension": ".py",
   "mimetype": "text/x-python",
   "name": "python",
   "nbconvert_exporter": "python",
   "pygments_lexer": "ipython3",
   "version": "3.7.12"
  },
  "papermill": {
   "default_parameters": {},
   "duration": 12.81396,
   "end_time": "2022-07-15T10:47:52.387006",
   "environment_variables": {},
   "exception": null,
   "input_path": "__notebook__.ipynb",
   "output_path": "__notebook__.ipynb",
   "parameters": {},
   "start_time": "2022-07-15T10:47:39.573046",
   "version": "2.3.4"
  }
 },
 "nbformat": 4,
 "nbformat_minor": 5
}

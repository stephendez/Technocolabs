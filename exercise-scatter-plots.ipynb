{
 "cells": [
  {
   "cell_type": "markdown",
   "id": "89bd334d",
   "metadata": {
    "papermill": {
     "duration": 0.008107,
     "end_time": "2022-07-12T13:38:52.863861",
     "exception": false,
     "start_time": "2022-07-12T13:38:52.855754",
     "status": "completed"
    },
    "tags": []
   },
   "source": [
    "**This notebook is an exercise in the [Data Visualization](https://www.kaggle.com/learn/data-visualization) course.  You can reference the tutorial at [this link](https://www.kaggle.com/alexisbcook/scatter-plots).**\n",
    "\n",
    "---\n"
   ]
  },
  {
   "cell_type": "markdown",
   "id": "9da1b95c",
   "metadata": {
    "papermill": {
     "duration": 0.006469,
     "end_time": "2022-07-12T13:38:52.877165",
     "exception": false,
     "start_time": "2022-07-12T13:38:52.870696",
     "status": "completed"
    },
    "tags": []
   },
   "source": [
    "In this exercise, you will use your new knowledge to propose a solution to a real-world scenario.  To succeed, you will need to import data into Python, answer questions using the data, and generate **scatter plots** to understand patterns in the data.\n",
    "\n",
    "## Scenario\n",
    "\n",
    "You work for a major candy producer, and your goal is to write a report that your company can use to guide the design of its next product.  Soon after starting your research, you stumble across this [very interesting dataset](https://fivethirtyeight.com/features/the-ultimate-halloween-candy-power-ranking/) containing results from a fun survey to crowdsource favorite candies.\n",
    "\n",
    "## Setup\n",
    "\n",
    "Run the next cell to import and configure the Python libraries that you need to complete the exercise."
   ]
  },
  {
   "cell_type": "code",
   "execution_count": 1,
   "id": "5faa6a88",
   "metadata": {
    "execution": {
     "iopub.execute_input": "2022-07-12T13:38:52.893390Z",
     "iopub.status.busy": "2022-07-12T13:38:52.892538Z",
     "iopub.status.idle": "2022-07-12T13:38:54.028801Z",
     "shell.execute_reply": "2022-07-12T13:38:54.027476Z"
    },
    "papermill": {
     "duration": 1.147902,
     "end_time": "2022-07-12T13:38:54.031720",
     "exception": false,
     "start_time": "2022-07-12T13:38:52.883818",
     "status": "completed"
    },
    "tags": []
   },
   "outputs": [
    {
     "name": "stdout",
     "output_type": "stream",
     "text": [
      "Setup Complete\n"
     ]
    }
   ],
   "source": [
    "import pandas as pd\n",
    "pd.plotting.register_matplotlib_converters()\n",
    "import matplotlib.pyplot as plt\n",
    "%matplotlib inline\n",
    "import seaborn as sns\n",
    "print(\"Setup Complete\")"
   ]
  },
  {
   "cell_type": "markdown",
   "id": "356f268e",
   "metadata": {
    "papermill": {
     "duration": 0.006601,
     "end_time": "2022-07-12T13:38:54.045603",
     "exception": false,
     "start_time": "2022-07-12T13:38:54.039002",
     "status": "completed"
    },
    "tags": []
   },
   "source": [
    "The questions below will give you feedback on your work. Run the following cell to set up our feedback system."
   ]
  },
  {
   "cell_type": "code",
   "execution_count": 2,
   "id": "eba974a4",
   "metadata": {
    "execution": {
     "iopub.execute_input": "2022-07-12T13:38:54.068604Z",
     "iopub.status.busy": "2022-07-12T13:38:54.066832Z",
     "iopub.status.idle": "2022-07-12T13:38:54.144678Z",
     "shell.execute_reply": "2022-07-12T13:38:54.143385Z"
    },
    "papermill": {
     "duration": 0.093525,
     "end_time": "2022-07-12T13:38:54.147537",
     "exception": false,
     "start_time": "2022-07-12T13:38:54.054012",
     "status": "completed"
    },
    "tags": []
   },
   "outputs": [
    {
     "name": "stdout",
     "output_type": "stream",
     "text": [
      "Setup Complete\n"
     ]
    }
   ],
   "source": [
    "# Set up code checking\n",
    "import os\n",
    "if not os.path.exists(\"../input/candy.csv\"):\n",
    "    os.symlink(\"../input/data-for-datavis/candy.csv\", \"../input/candy.csv\") \n",
    "from learntools.core import binder\n",
    "binder.bind(globals())\n",
    "from learntools.data_viz_to_coder.ex4 import *\n",
    "print(\"Setup Complete\")"
   ]
  },
  {
   "cell_type": "markdown",
   "id": "5c3db915",
   "metadata": {
    "papermill": {
     "duration": 0.006677,
     "end_time": "2022-07-12T13:38:54.164770",
     "exception": false,
     "start_time": "2022-07-12T13:38:54.158093",
     "status": "completed"
    },
    "tags": []
   },
   "source": [
    "## Step 1: Load the Data\n",
    "\n",
    "Read the candy data file into `candy_data`.  Use the `\"id\"` column to label the rows."
   ]
  },
  {
   "cell_type": "code",
   "execution_count": 3,
   "id": "2593f7ef",
   "metadata": {
    "execution": {
     "iopub.execute_input": "2022-07-12T13:38:54.180668Z",
     "iopub.status.busy": "2022-07-12T13:38:54.179652Z",
     "iopub.status.idle": "2022-07-12T13:38:54.193206Z",
     "shell.execute_reply": "2022-07-12T13:38:54.192506Z"
    },
    "papermill": {
     "duration": 0.023352,
     "end_time": "2022-07-12T13:38:54.194995",
     "exception": false,
     "start_time": "2022-07-12T13:38:54.171643",
     "status": "completed"
    },
    "tags": []
   },
   "outputs": [
    {
     "data": {
      "application/javascript": [
       "parent.postMessage({\"jupyterEvent\": \"custom.exercise_interaction\", \"data\": {\"outcomeType\": 1, \"valueTowardsCompletion\": 0.3333333333333333, \"interactionType\": 1, \"questionType\": 1, \"questionId\": \"1_LoadData\", \"learnToolsVersion\": \"0.3.4\", \"failureMessage\": \"\", \"exceptionClass\": \"\", \"trace\": \"\"}}, \"*\")"
      ],
      "text/plain": [
       "<IPython.core.display.Javascript object>"
      ]
     },
     "metadata": {},
     "output_type": "display_data"
    },
    {
     "data": {
      "text/markdown": [
       "<span style=\"color:#33cc33\">Correct</span>"
      ],
      "text/plain": [
       "Correct"
      ]
     },
     "metadata": {},
     "output_type": "display_data"
    }
   ],
   "source": [
    "# Path of the file to read\n",
    "candy_filepath = \"../input/candy.csv\"\n",
    "\n",
    "# Fill in the line below to read the file into a variable candy_data\n",
    "candy_data = pd.read_csv(candy_filepath,index_col=\"id\")\n",
    "\n",
    "# Run the line below with no changes to check that you've loaded the data correctly\n",
    "step_1.check()"
   ]
  },
  {
   "cell_type": "code",
   "execution_count": 4,
   "id": "c157944c",
   "metadata": {
    "execution": {
     "iopub.execute_input": "2022-07-12T13:38:54.210790Z",
     "iopub.status.busy": "2022-07-12T13:38:54.210173Z",
     "iopub.status.idle": "2022-07-12T13:38:54.213719Z",
     "shell.execute_reply": "2022-07-12T13:38:54.212979Z"
    },
    "papermill": {
     "duration": 0.01345,
     "end_time": "2022-07-12T13:38:54.215499",
     "exception": false,
     "start_time": "2022-07-12T13:38:54.202049",
     "status": "completed"
    },
    "tags": []
   },
   "outputs": [],
   "source": [
    "# Lines below will give you a hint or solution code\n",
    "#step_1.hint()\n",
    "#step_1.solution()"
   ]
  },
  {
   "cell_type": "markdown",
   "id": "6f46ca7d",
   "metadata": {
    "papermill": {
     "duration": 0.006836,
     "end_time": "2022-07-12T13:38:54.230002",
     "exception": false,
     "start_time": "2022-07-12T13:38:54.223166",
     "status": "completed"
    },
    "tags": []
   },
   "source": [
    "## Step 2: Review the data\n",
    "\n",
    "Use a Python command to print the first five rows of the data."
   ]
  },
  {
   "cell_type": "code",
   "execution_count": 5,
   "id": "cfacfacb",
   "metadata": {
    "execution": {
     "iopub.execute_input": "2022-07-12T13:38:54.245900Z",
     "iopub.status.busy": "2022-07-12T13:38:54.245270Z",
     "iopub.status.idle": "2022-07-12T13:38:54.264177Z",
     "shell.execute_reply": "2022-07-12T13:38:54.263438Z"
    },
    "papermill": {
     "duration": 0.029003,
     "end_time": "2022-07-12T13:38:54.266020",
     "exception": false,
     "start_time": "2022-07-12T13:38:54.237017",
     "status": "completed"
    },
    "tags": []
   },
   "outputs": [
    {
     "data": {
      "text/html": [
       "<div>\n",
       "<style scoped>\n",
       "    .dataframe tbody tr th:only-of-type {\n",
       "        vertical-align: middle;\n",
       "    }\n",
       "\n",
       "    .dataframe tbody tr th {\n",
       "        vertical-align: top;\n",
       "    }\n",
       "\n",
       "    .dataframe thead th {\n",
       "        text-align: right;\n",
       "    }\n",
       "</style>\n",
       "<table border=\"1\" class=\"dataframe\">\n",
       "  <thead>\n",
       "    <tr style=\"text-align: right;\">\n",
       "      <th></th>\n",
       "      <th>competitorname</th>\n",
       "      <th>chocolate</th>\n",
       "      <th>fruity</th>\n",
       "      <th>caramel</th>\n",
       "      <th>peanutyalmondy</th>\n",
       "      <th>nougat</th>\n",
       "      <th>crispedricewafer</th>\n",
       "      <th>hard</th>\n",
       "      <th>bar</th>\n",
       "      <th>pluribus</th>\n",
       "      <th>sugarpercent</th>\n",
       "      <th>pricepercent</th>\n",
       "      <th>winpercent</th>\n",
       "    </tr>\n",
       "    <tr>\n",
       "      <th>id</th>\n",
       "      <th></th>\n",
       "      <th></th>\n",
       "      <th></th>\n",
       "      <th></th>\n",
       "      <th></th>\n",
       "      <th></th>\n",
       "      <th></th>\n",
       "      <th></th>\n",
       "      <th></th>\n",
       "      <th></th>\n",
       "      <th></th>\n",
       "      <th></th>\n",
       "      <th></th>\n",
       "    </tr>\n",
       "  </thead>\n",
       "  <tbody>\n",
       "    <tr>\n",
       "      <th>0</th>\n",
       "      <td>100 Grand</td>\n",
       "      <td>Yes</td>\n",
       "      <td>No</td>\n",
       "      <td>Yes</td>\n",
       "      <td>No</td>\n",
       "      <td>No</td>\n",
       "      <td>Yes</td>\n",
       "      <td>No</td>\n",
       "      <td>Yes</td>\n",
       "      <td>No</td>\n",
       "      <td>0.732</td>\n",
       "      <td>0.860</td>\n",
       "      <td>66.971725</td>\n",
       "    </tr>\n",
       "    <tr>\n",
       "      <th>1</th>\n",
       "      <td>3 Musketeers</td>\n",
       "      <td>Yes</td>\n",
       "      <td>No</td>\n",
       "      <td>No</td>\n",
       "      <td>No</td>\n",
       "      <td>Yes</td>\n",
       "      <td>No</td>\n",
       "      <td>No</td>\n",
       "      <td>Yes</td>\n",
       "      <td>No</td>\n",
       "      <td>0.604</td>\n",
       "      <td>0.511</td>\n",
       "      <td>67.602936</td>\n",
       "    </tr>\n",
       "    <tr>\n",
       "      <th>2</th>\n",
       "      <td>Air Heads</td>\n",
       "      <td>No</td>\n",
       "      <td>Yes</td>\n",
       "      <td>No</td>\n",
       "      <td>No</td>\n",
       "      <td>No</td>\n",
       "      <td>No</td>\n",
       "      <td>No</td>\n",
       "      <td>No</td>\n",
       "      <td>No</td>\n",
       "      <td>0.906</td>\n",
       "      <td>0.511</td>\n",
       "      <td>52.341465</td>\n",
       "    </tr>\n",
       "    <tr>\n",
       "      <th>3</th>\n",
       "      <td>Almond Joy</td>\n",
       "      <td>Yes</td>\n",
       "      <td>No</td>\n",
       "      <td>No</td>\n",
       "      <td>Yes</td>\n",
       "      <td>No</td>\n",
       "      <td>No</td>\n",
       "      <td>No</td>\n",
       "      <td>Yes</td>\n",
       "      <td>No</td>\n",
       "      <td>0.465</td>\n",
       "      <td>0.767</td>\n",
       "      <td>50.347546</td>\n",
       "    </tr>\n",
       "    <tr>\n",
       "      <th>4</th>\n",
       "      <td>Baby Ruth</td>\n",
       "      <td>Yes</td>\n",
       "      <td>No</td>\n",
       "      <td>Yes</td>\n",
       "      <td>Yes</td>\n",
       "      <td>Yes</td>\n",
       "      <td>No</td>\n",
       "      <td>No</td>\n",
       "      <td>Yes</td>\n",
       "      <td>No</td>\n",
       "      <td>0.604</td>\n",
       "      <td>0.767</td>\n",
       "      <td>56.914547</td>\n",
       "    </tr>\n",
       "  </tbody>\n",
       "</table>\n",
       "</div>"
      ],
      "text/plain": [
       "   competitorname chocolate fruity caramel peanutyalmondy nougat  \\\n",
       "id                                                                 \n",
       "0       100 Grand       Yes     No     Yes             No     No   \n",
       "1    3 Musketeers       Yes     No      No             No    Yes   \n",
       "2       Air Heads        No    Yes      No             No     No   \n",
       "3      Almond Joy       Yes     No      No            Yes     No   \n",
       "4       Baby Ruth       Yes     No     Yes            Yes    Yes   \n",
       "\n",
       "   crispedricewafer hard  bar pluribus  sugarpercent  pricepercent  winpercent  \n",
       "id                                                                              \n",
       "0               Yes   No  Yes       No         0.732         0.860   66.971725  \n",
       "1                No   No  Yes       No         0.604         0.511   67.602936  \n",
       "2                No   No   No       No         0.906         0.511   52.341465  \n",
       "3                No   No  Yes       No         0.465         0.767   50.347546  \n",
       "4                No   No  Yes       No         0.604         0.767   56.914547  "
      ]
     },
     "execution_count": 5,
     "metadata": {},
     "output_type": "execute_result"
    }
   ],
   "source": [
    "# Print the first five rows of the data\n",
    "candy_data.head() # Your code here"
   ]
  },
  {
   "cell_type": "markdown",
   "id": "4ccf7e8f",
   "metadata": {
    "papermill": {
     "duration": 0.006899,
     "end_time": "2022-07-12T13:38:54.280240",
     "exception": false,
     "start_time": "2022-07-12T13:38:54.273341",
     "status": "completed"
    },
    "tags": []
   },
   "source": [
    "The dataset contains 83 rows, where each corresponds to a different candy bar.  There are 13 columns:\n",
    "- `'competitorname'` contains the name of the candy bar. \n",
    "- the next **9** columns (from `'chocolate'` to `'pluribus'`) describe the candy.  For instance, rows with chocolate candies have `\"Yes\"` in the `'chocolate'` column (and candies without chocolate have `\"No\"` in the same column).\n",
    "- `'sugarpercent'` provides some indication of the amount of sugar, where higher values signify higher sugar content.\n",
    "- `'pricepercent'` shows the price per unit, relative to the other candies in the dataset.\n",
    "- `'winpercent'` is calculated from the survey results; higher values indicate that the candy was more popular with survey respondents.\n",
    "\n",
    "Use the first five rows of the data to answer the questions below."
   ]
  },
  {
   "cell_type": "code",
   "execution_count": 6,
   "id": "a2c3c8d2",
   "metadata": {
    "execution": {
     "iopub.execute_input": "2022-07-12T13:38:54.296462Z",
     "iopub.status.busy": "2022-07-12T13:38:54.296066Z",
     "iopub.status.idle": "2022-07-12T13:38:54.303123Z",
     "shell.execute_reply": "2022-07-12T13:38:54.302428Z"
    },
    "papermill": {
     "duration": 0.017481,
     "end_time": "2022-07-12T13:38:54.304925",
     "exception": false,
     "start_time": "2022-07-12T13:38:54.287444",
     "status": "completed"
    },
    "tags": []
   },
   "outputs": [
    {
     "data": {
      "application/javascript": [
       "parent.postMessage({\"jupyterEvent\": \"custom.exercise_interaction\", \"data\": {\"outcomeType\": 1, \"valueTowardsCompletion\": 0.3333333333333333, \"interactionType\": 1, \"questionType\": 1, \"questionId\": \"2_ReviewData\", \"learnToolsVersion\": \"0.3.4\", \"failureMessage\": \"\", \"exceptionClass\": \"\", \"trace\": \"\"}}, \"*\")"
      ],
      "text/plain": [
       "<IPython.core.display.Javascript object>"
      ]
     },
     "metadata": {},
     "output_type": "display_data"
    },
    {
     "data": {
      "text/markdown": [
       "<span style=\"color:#33cc33\">Correct</span>"
      ],
      "text/plain": [
       "Correct"
      ]
     },
     "metadata": {},
     "output_type": "display_data"
    }
   ],
   "source": [
    "# Fill in the line below: Which candy was more popular with survey respondents:\n",
    "# '3 Musketeers' or 'Almond Joy'?  (Please enclose your answer in single quotes.)\n",
    "more_popular = '3 Musketeers'\n",
    "\n",
    "# Fill in the line below: Which candy has higher sugar content: 'Air Heads'\n",
    "# or 'Baby Ruth'? (Please enclose your answer in single quotes.)\n",
    "more_sugar = 'Air Heads'\n",
    "\n",
    "# Check your answers\n",
    "step_2.check()"
   ]
  },
  {
   "cell_type": "code",
   "execution_count": 7,
   "id": "73698745",
   "metadata": {
    "execution": {
     "iopub.execute_input": "2022-07-12T13:38:54.321775Z",
     "iopub.status.busy": "2022-07-12T13:38:54.321154Z",
     "iopub.status.idle": "2022-07-12T13:38:54.324618Z",
     "shell.execute_reply": "2022-07-12T13:38:54.323914Z"
    },
    "papermill": {
     "duration": 0.014018,
     "end_time": "2022-07-12T13:38:54.326397",
     "exception": false,
     "start_time": "2022-07-12T13:38:54.312379",
     "status": "completed"
    },
    "tags": []
   },
   "outputs": [],
   "source": [
    "# Lines below will give you a hint or solution code\n",
    "#step_2.hint()\n",
    "#step_2.solution()"
   ]
  },
  {
   "cell_type": "markdown",
   "id": "a6d6d4ae",
   "metadata": {
    "papermill": {
     "duration": 0.007551,
     "end_time": "2022-07-12T13:38:54.341530",
     "exception": false,
     "start_time": "2022-07-12T13:38:54.333979",
     "status": "completed"
    },
    "tags": []
   },
   "source": [
    "## Step 3: The role of sugar\n",
    "\n",
    "Do people tend to prefer candies with higher sugar content?  \n",
    "\n",
    "#### Part A\n",
    "\n",
    "Create a scatter plot that shows the relationship between `'sugarpercent'` (on the horizontal x-axis) and `'winpercent'` (on the vertical y-axis).  _Don't add a regression line just yet -- you'll do that in the next step!_"
   ]
  },
  {
   "cell_type": "code",
   "execution_count": 8,
   "id": "0dd0986e",
   "metadata": {
    "execution": {
     "iopub.execute_input": "2022-07-12T13:38:54.358483Z",
     "iopub.status.busy": "2022-07-12T13:38:54.357798Z",
     "iopub.status.idle": "2022-07-12T13:38:54.582841Z",
     "shell.execute_reply": "2022-07-12T13:38:54.581996Z"
    },
    "papermill": {
     "duration": 0.235727,
     "end_time": "2022-07-12T13:38:54.584764",
     "exception": false,
     "start_time": "2022-07-12T13:38:54.349037",
     "status": "completed"
    },
    "tags": []
   },
   "outputs": [
    {
     "data": {
      "application/javascript": [
       "parent.postMessage({\"jupyterEvent\": \"custom.exercise_interaction\", \"data\": {\"outcomeType\": 1, \"valueTowardsCompletion\": 0.3333333333333333, \"interactionType\": 1, \"questionType\": 2, \"questionId\": \"3.1_PlotBlueScatter\", \"learnToolsVersion\": \"0.3.4\", \"failureMessage\": \"\", \"exceptionClass\": \"\", \"trace\": \"\"}}, \"*\")"
      ],
      "text/plain": [
       "<IPython.core.display.Javascript object>"
      ]
     },
     "metadata": {},
     "output_type": "display_data"
    },
    {
     "data": {
      "text/markdown": [
       "<span style=\"color:#33cc33\">Correct</span>"
      ],
      "text/plain": [
       "Correct"
      ]
     },
     "metadata": {},
     "output_type": "display_data"
    },
    {
     "data": {
      "image/png": "[encoded data removed]",
      "text/plain": [
       "<Figure size 432x288 with 1 Axes>"
      ]
     },
     "metadata": {
      "needs_background": "light"
     },
     "output_type": "display_data"
    }
   ],
   "source": [
    "# Scatter plot showing the relationship between 'sugarpercent' and 'winpercent'\n",
    "sns.scatterplot(x=candy_data['sugarpercent'],y=candy_data['winpercent']) # Your code here\n",
    "\n",
    "# Check your answer\n",
    "step_3.a.check()"
   ]
  },
  {
   "cell_type": "code",
   "execution_count": 9,
   "id": "082872bb",
   "metadata": {
    "execution": {
     "iopub.execute_input": "2022-07-12T13:38:54.602925Z",
     "iopub.status.busy": "2022-07-12T13:38:54.602410Z",
     "iopub.status.idle": "2022-07-12T13:38:54.605698Z",
     "shell.execute_reply": "2022-07-12T13:38:54.604917Z"
    },
    "papermill": {
     "duration": 0.014567,
     "end_time": "2022-07-12T13:38:54.607510",
     "exception": false,
     "start_time": "2022-07-12T13:38:54.592943",
     "status": "completed"
    },
    "tags": []
   },
   "outputs": [],
   "source": [
    "# Lines below will give you a hint or solution code\n",
    "#step_3.a.hint()\n",
    "#step_3.a.solution_plot()"
   ]
  },
  {
   "cell_type": "markdown",
   "id": "2de13487",
   "metadata": {
    "papermill": {
     "duration": 0.007447,
     "end_time": "2022-07-12T13:38:54.622777",
     "exception": false,
     "start_time": "2022-07-12T13:38:54.615330",
     "status": "completed"
    },
    "tags": []
   },
   "source": [
    "#### Part B\n",
    "\n",
    "Does the scatter plot show a **strong** correlation between the two variables?  If so, are candies with more sugar relatively more or less popular with the survey respondents?"
   ]
  },
  {
   "cell_type": "markdown",
   "id": "74b73803",
   "metadata": {
    "papermill": {
     "duration": 0.007532,
     "end_time": "2022-07-12T13:38:54.638169",
     "exception": false,
     "start_time": "2022-07-12T13:38:54.630637",
     "status": "completed"
    },
    "tags": []
   },
   "source": [
    "There is no strong correlation between the two variables. So, we can conclude that the sugar content does not play a strong role in candy popularity."
   ]
  },
  {
   "cell_type": "code",
   "execution_count": 10,
   "id": "f280c45d",
   "metadata": {
    "execution": {
     "iopub.execute_input": "2022-07-12T13:38:54.655806Z",
     "iopub.status.busy": "2022-07-12T13:38:54.655117Z",
     "iopub.status.idle": "2022-07-12T13:38:54.658857Z",
     "shell.execute_reply": "2022-07-12T13:38:54.658165Z"
    },
    "papermill": {
     "duration": 0.014619,
     "end_time": "2022-07-12T13:38:54.660620",
     "exception": false,
     "start_time": "2022-07-12T13:38:54.646001",
     "status": "completed"
    },
    "tags": []
   },
   "outputs": [],
   "source": [
    "#step_3.b.hint()"
   ]
  },
  {
   "cell_type": "code",
   "execution_count": 11,
   "id": "9e920b11",
   "metadata": {
    "execution": {
     "iopub.execute_input": "2022-07-12T13:38:54.678228Z",
     "iopub.status.busy": "2022-07-12T13:38:54.677627Z",
     "iopub.status.idle": "2022-07-12T13:38:54.683947Z",
     "shell.execute_reply": "2022-07-12T13:38:54.683225Z"
    },
    "papermill": {
     "duration": 0.017157,
     "end_time": "2022-07-12T13:38:54.685709",
     "exception": false,
     "start_time": "2022-07-12T13:38:54.668552",
     "status": "completed"
    },
    "tags": []
   },
   "outputs": [
    {
     "data": {
      "application/javascript": [
       "parent.postMessage({\"jupyterEvent\": \"custom.exercise_interaction\", \"data\": {\"interactionType\": 3, \"questionType\": 4, \"questionId\": \"3.2_ThinkBlueScatter\", \"learnToolsVersion\": \"0.3.4\", \"valueTowardsCompletion\": 0.0, \"failureMessage\": \"\", \"exceptionClass\": \"\", \"trace\": \"\", \"outcomeType\": 4}}, \"*\")"
      ],
      "text/plain": [
       "<IPython.core.display.Javascript object>"
      ]
     },
     "metadata": {},
     "output_type": "display_data"
    },
    {
     "data": {
      "text/markdown": [
       "<span style=\"color:#33cc99\">Solution:</span> The scatter plot does not show a strong correlation between the two variables. Since there is no clear relationship between the two variables, this tells us that sugar content does not play a strong role in candy popularity."
      ],
      "text/plain": [
       "Solution: The scatter plot does not show a strong correlation between the two variables. Since there is no clear relationship between the two variables, this tells us that sugar content does not play a strong role in candy popularity."
      ]
     },
     "metadata": {},
     "output_type": "display_data"
    }
   ],
   "source": [
    "# Check your answer (Run this code cell to receive credit!)\n",
    "step_3.b.solution()"
   ]
  },
  {
   "cell_type": "markdown",
   "id": "f3ada328",
   "metadata": {
    "papermill": {
     "duration": 0.008021,
     "end_time": "2022-07-12T13:38:54.701763",
     "exception": false,
     "start_time": "2022-07-12T13:38:54.693742",
     "status": "completed"
    },
    "tags": []
   },
   "source": [
    "## Step 4: Take a closer look\n",
    "\n",
    "#### Part A\n",
    "\n",
    "Create the same scatter plot you created in **Step 3**, but now with a regression line!"
   ]
  },
  {
   "cell_type": "code",
   "execution_count": 12,
   "id": "4417833e",
   "metadata": {
    "execution": {
     "iopub.execute_input": "2022-07-12T13:38:54.720410Z",
     "iopub.status.busy": "2022-07-12T13:38:54.719739Z",
     "iopub.status.idle": "2022-07-12T13:38:54.988958Z",
     "shell.execute_reply": "2022-07-12T13:38:54.988187Z"
    },
    "papermill": {
     "duration": 0.280579,
     "end_time": "2022-07-12T13:38:54.990868",
     "exception": false,
     "start_time": "2022-07-12T13:38:54.710289",
     "status": "completed"
    },
    "tags": []
   },
   "outputs": [
    {
     "data": {
      "application/javascript": [
       "parent.postMessage({\"jupyterEvent\": \"custom.exercise_interaction\", \"data\": {\"outcomeType\": 1, \"valueTowardsCompletion\": 0.3333333333333333, \"interactionType\": 1, \"questionType\": 2, \"questionId\": \"4.1_PlotBlueReg\", \"learnToolsVersion\": \"0.3.4\", \"failureMessage\": \"\", \"exceptionClass\": \"\", \"trace\": \"\"}}, \"*\")"
      ],
      "text/plain": [
       "<IPython.core.display.Javascript object>"
      ]
     },
     "metadata": {},
     "output_type": "display_data"
    },
    {
     "data": {
      "text/markdown": [
       "<span style=\"color:#33cc33\">Correct</span>"
      ],
      "text/plain": [
       "Correct"
      ]
     },
     "metadata": {},
     "output_type": "display_data"
    },
    {
     "data": {
      "image/png": "[encoded data removed]",
      "text/plain": [
       "<Figure size 432x288 with 1 Axes>"
      ]
     },
     "metadata": {
      "needs_background": "light"
     },
     "output_type": "display_data"
    }
   ],
   "source": [
    "# Scatter plot w/ regression line showing the relationship between 'sugarpercent' and 'winpercent'\n",
    "sns.regplot(x=candy_data['sugarpercent'],y=candy_data['winpercent']) # Your code here\n",
    "\n",
    "# Check your answer\n",
    "step_4.a.check()"
   ]
  },
  {
   "cell_type": "code",
   "execution_count": 13,
   "id": "ed2410db",
   "metadata": {
    "execution": {
     "iopub.execute_input": "2022-07-12T13:38:55.011275Z",
     "iopub.status.busy": "2022-07-12T13:38:55.010263Z",
     "iopub.status.idle": "2022-07-12T13:38:55.015350Z",
     "shell.execute_reply": "2022-07-12T13:38:55.014336Z"
    },
    "papermill": {
     "duration": 0.017638,
     "end_time": "2022-07-12T13:38:55.017362",
     "exception": false,
     "start_time": "2022-07-12T13:38:54.999724",
     "status": "completed"
    },
    "tags": []
   },
   "outputs": [],
   "source": [
    "# Lines below will give you a hint or solution code\n",
    "#step_4.a.hint()\n",
    "#step_4.a.solution_plot()"
   ]
  },
  {
   "cell_type": "markdown",
   "id": "85931458",
   "metadata": {
    "papermill": {
     "duration": 0.008421,
     "end_time": "2022-07-12T13:38:55.034527",
     "exception": false,
     "start_time": "2022-07-12T13:38:55.026106",
     "status": "completed"
    },
    "tags": []
   },
   "source": [
    "#### Part B\n",
    "\n",
    "According to the plot above, is there a **slight** correlation between `'winpercent'` and `'sugarpercent'`?  What does this tell you about the candy that people tend to prefer?"
   ]
  },
  {
   "cell_type": "markdown",
   "id": "bdda6c1e",
   "metadata": {
    "papermill": {
     "duration": 0.008312,
     "end_time": "2022-07-12T13:38:55.051553",
     "exception": false,
     "start_time": "2022-07-12T13:38:55.043241",
     "status": "completed"
    },
    "tags": []
   },
   "source": [
    "since there a slight correlation between 'winpercent' and 'sugarpercent' this tells us that the people have a slight preference for candies containing relatively more sugar."
   ]
  },
  {
   "cell_type": "code",
   "execution_count": 14,
   "id": "37380850",
   "metadata": {
    "execution": {
     "iopub.execute_input": "2022-07-12T13:38:55.072284Z",
     "iopub.status.busy": "2022-07-12T13:38:55.071560Z",
     "iopub.status.idle": "2022-07-12T13:38:55.076075Z",
     "shell.execute_reply": "2022-07-12T13:38:55.075301Z"
    },
    "papermill": {
     "duration": 0.01726,
     "end_time": "2022-07-12T13:38:55.078106",
     "exception": false,
     "start_time": "2022-07-12T13:38:55.060846",
     "status": "completed"
    },
    "tags": []
   },
   "outputs": [],
   "source": [
    "#step_4.b.hint()"
   ]
  },
  {
   "cell_type": "code",
   "execution_count": 15,
   "id": "92e487e4",
   "metadata": {
    "execution": {
     "iopub.execute_input": "2022-07-12T13:38:55.097786Z",
     "iopub.status.busy": "2022-07-12T13:38:55.096879Z",
     "iopub.status.idle": "2022-07-12T13:38:55.105920Z",
     "shell.execute_reply": "2022-07-12T13:38:55.104986Z"
    },
    "papermill": {
     "duration": 0.021026,
     "end_time": "2022-07-12T13:38:55.107894",
     "exception": false,
     "start_time": "2022-07-12T13:38:55.086868",
     "status": "completed"
    },
    "tags": []
   },
   "outputs": [
    {
     "data": {
      "application/javascript": [
       "parent.postMessage({\"jupyterEvent\": \"custom.exercise_interaction\", \"data\": {\"interactionType\": 3, \"questionType\": 4, \"questionId\": \"4.2_ThinkBlueReg\", \"learnToolsVersion\": \"0.3.4\", \"valueTowardsCompletion\": 0.0, \"failureMessage\": \"\", \"exceptionClass\": \"\", \"trace\": \"\", \"outcomeType\": 4}}, \"*\")"
      ],
      "text/plain": [
       "<IPython.core.display.Javascript object>"
      ]
     },
     "metadata": {},
     "output_type": "display_data"
    },
    {
     "data": {
      "text/markdown": [
       "<span style=\"color:#33cc99\">Solution:</span> Since the regression line has a slightly positive slope, this tells us that there is a slightly positive correlation between `'winpercent'` and `'sugarpercent'`. Thus, people have a slight preference for candies containing relatively more sugar."
      ],
      "text/plain": [
       "Solution: Since the regression line has a slightly positive slope, this tells us that there is a slightly positive correlation between `'winpercent'` and `'sugarpercent'`. Thus, people have a slight preference for candies containing relatively more sugar."
      ]
     },
     "metadata": {},
     "output_type": "display_data"
    }
   ],
   "source": [
    "# Check your answer (Run this code cell to receive credit!)\n",
    "step_4.b.solution()"
   ]
  },
  {
   "cell_type": "markdown",
   "id": "cd98b6e8",
   "metadata": {
    "papermill": {
     "duration": 0.008709,
     "end_time": "2022-07-12T13:38:55.125858",
     "exception": false,
     "start_time": "2022-07-12T13:38:55.117149",
     "status": "completed"
    },
    "tags": []
   },
   "source": [
    "## Step 5: Chocolate!\n",
    "\n",
    "In the code cell below, create a scatter plot to show the relationship between `'pricepercent'` (on the horizontal x-axis) and `'winpercent'` (on the vertical y-axis). Use the `'chocolate'` column to color-code the points.  _Don't add any regression lines just yet -- you'll do that in the next step!_"
   ]
  },
  {
   "cell_type": "code",
   "execution_count": 16,
   "id": "5543cc5a",
   "metadata": {
    "execution": {
     "iopub.execute_input": "2022-07-12T13:38:55.145438Z",
     "iopub.status.busy": "2022-07-12T13:38:55.144703Z",
     "iopub.status.idle": "2022-07-12T13:38:55.376744Z",
     "shell.execute_reply": "2022-07-12T13:38:55.376023Z"
    },
    "papermill": {
     "duration": 0.24428,
     "end_time": "2022-07-12T13:38:55.378907",
     "exception": false,
     "start_time": "2022-07-12T13:38:55.134627",
     "status": "completed"
    },
    "tags": []
   },
   "outputs": [
    {
     "data": {
      "application/javascript": [
       "parent.postMessage({\"jupyterEvent\": \"custom.exercise_interaction\", \"data\": {\"outcomeType\": 1, \"valueTowardsCompletion\": 0.3333333333333333, \"interactionType\": 1, \"questionType\": 2, \"questionId\": \"5_ColorScatter\", \"learnToolsVersion\": \"0.3.4\", \"failureMessage\": \"\", \"exceptionClass\": \"\", \"trace\": \"\"}}, \"*\")"
      ],
      "text/plain": [
       "<IPython.core.display.Javascript object>"
      ]
     },
     "metadata": {},
     "output_type": "display_data"
    },
    {
     "data": {
      "text/markdown": [
       "<span style=\"color:#33cc33\">Correct</span>"
      ],
      "text/plain": [
       "Correct"
      ]
     },
     "metadata": {},
     "output_type": "display_data"
    },
    {
     "data": {
      "image/png": "[encoded data removed]",
      "text/plain": [
       "<Figure size 432x288 with 1 Axes>"
      ]
     },
     "metadata": {
      "needs_background": "light"
     },
     "output_type": "display_data"
    }
   ],
   "source": [
    "# Scatter plot showing the relationship between 'pricepercent', 'winpercent', and 'chocolate'\n",
    "sns.scatterplot(x=candy_data['pricepercent'],y=candy_data['winpercent'],hue=candy_data['chocolate']) # Your code here\n",
    "\n",
    "# Check your answer\n",
    "step_5.check()"
   ]
  },
  {
   "cell_type": "code",
   "execution_count": 17,
   "id": "7f4a2184",
   "metadata": {
    "execution": {
     "iopub.execute_input": "2022-07-12T13:38:55.400297Z",
     "iopub.status.busy": "2022-07-12T13:38:55.399235Z",
     "iopub.status.idle": "2022-07-12T13:38:55.403043Z",
     "shell.execute_reply": "2022-07-12T13:38:55.402366Z"
    },
    "papermill": {
     "duration": 0.01626,
     "end_time": "2022-07-12T13:38:55.404824",
     "exception": false,
     "start_time": "2022-07-12T13:38:55.388564",
     "status": "completed"
    },
    "tags": []
   },
   "outputs": [],
   "source": [
    "# Lines below will give you a hint or solution code\n",
    "#step_5.hint()\n",
    "#step_5.solution_plot()"
   ]
  },
  {
   "cell_type": "markdown",
   "id": "5013df85",
   "metadata": {
    "papermill": {
     "duration": 0.009176,
     "end_time": "2022-07-12T13:38:55.423585",
     "exception": false,
     "start_time": "2022-07-12T13:38:55.414409",
     "status": "completed"
    },
    "tags": []
   },
   "source": [
    "Can you see any interesting patterns in the scatter plot?  We'll investigate this plot further  by adding regression lines in the next step!\n",
    "\n",
    "## Step 6: Investigate chocolate\n",
    "\n",
    "#### Part A\n",
    "\n",
    "Create the same scatter plot you created in **Step 5**, but now with two regression lines, corresponding to (1) chocolate candies and (2) candies without chocolate."
   ]
  },
  {
   "cell_type": "code",
   "execution_count": 18,
   "id": "6a2cf6b2",
   "metadata": {
    "execution": {
     "iopub.execute_input": "2022-07-12T13:38:55.444197Z",
     "iopub.status.busy": "2022-07-12T13:38:55.443345Z",
     "iopub.status.idle": "2022-07-12T13:38:55.988673Z",
     "shell.execute_reply": "2022-07-12T13:38:55.987850Z"
    },
    "papermill": {
     "duration": 0.55784,
     "end_time": "2022-07-12T13:38:55.990717",
     "exception": false,
     "start_time": "2022-07-12T13:38:55.432877",
     "status": "completed"
    },
    "tags": []
   },
   "outputs": [
    {
     "data": {
      "application/javascript": [
       "parent.postMessage({\"jupyterEvent\": \"custom.exercise_interaction\", \"data\": {\"outcomeType\": 1, \"valueTowardsCompletion\": 0.3333333333333333, \"interactionType\": 1, \"questionType\": 2, \"questionId\": \"6.1_PlotColorReg\", \"learnToolsVersion\": \"0.3.4\", \"failureMessage\": \"\", \"exceptionClass\": \"\", \"trace\": \"\"}}, \"*\")"
      ],
      "text/plain": [
       "<IPython.core.display.Javascript object>"
      ]
     },
     "metadata": {},
     "output_type": "display_data"
    },
    {
     "data": {
      "text/markdown": [
       "<span style=\"color:#33cc33\">Correct</span>"
      ],
      "text/plain": [
       "Correct"
      ]
     },
     "metadata": {},
     "output_type": "display_data"
    },
    {
     "data": {
      "image/png": "[encoded data removed]",
      "text/plain": [
       "<Figure size 416.375x360 with 1 Axes>"
      ]
     },
     "metadata": {
      "needs_background": "light"
     },
     "output_type": "display_data"
    }
   ],
   "source": [
    "# Color-coded scatter plot w/ regression lines\n",
    "sns.lmplot(x='pricepercent',y='winpercent',hue='chocolate', data=candy_data) # Your code here\n",
    "\n",
    "# Check your answer\n",
    "step_6.a.check()"
   ]
  },
  {
   "cell_type": "code",
   "execution_count": 19,
   "id": "031cb48d",
   "metadata": {
    "execution": {
     "iopub.execute_input": "2022-07-12T13:38:56.014815Z",
     "iopub.status.busy": "2022-07-12T13:38:56.014125Z",
     "iopub.status.idle": "2022-07-12T13:38:56.017672Z",
     "shell.execute_reply": "2022-07-12T13:38:56.016945Z"
    },
    "papermill": {
     "duration": 0.018679,
     "end_time": "2022-07-12T13:38:56.019575",
     "exception": false,
     "start_time": "2022-07-12T13:38:56.000896",
     "status": "completed"
    },
    "tags": []
   },
   "outputs": [],
   "source": [
    "# Lines below will give you a hint or solution code\n",
    "#step_6.a.hint()\n",
    "#step_6.a.solution_plot()"
   ]
  },
  {
   "cell_type": "markdown",
   "id": "4fa757cd",
   "metadata": {
    "papermill": {
     "duration": 0.009743,
     "end_time": "2022-07-12T13:38:56.039419",
     "exception": false,
     "start_time": "2022-07-12T13:38:56.029676",
     "status": "completed"
    },
    "tags": []
   },
   "source": [
    "#### Part B\n",
    "\n",
    "Using the regression lines, what conclusions can you draw about the effects of chocolate and price on candy popularity?"
   ]
  },
  {
   "cell_type": "code",
   "execution_count": 20,
   "id": "45d86e45",
   "metadata": {
    "execution": {
     "iopub.execute_input": "2022-07-12T13:38:56.061420Z",
     "iopub.status.busy": "2022-07-12T13:38:56.060677Z",
     "iopub.status.idle": "2022-07-12T13:38:56.065048Z",
     "shell.execute_reply": "2022-07-12T13:38:56.064385Z"
    },
    "papermill": {
     "duration": 0.01764,
     "end_time": "2022-07-12T13:38:56.067010",
     "exception": false,
     "start_time": "2022-07-12T13:38:56.049370",
     "status": "completed"
    },
    "tags": []
   },
   "outputs": [],
   "source": [
    "#step_6.b.hint()"
   ]
  },
  {
   "cell_type": "code",
   "execution_count": 21,
   "id": "d38e40d8",
   "metadata": {
    "execution": {
     "iopub.execute_input": "2022-07-12T13:38:56.089222Z",
     "iopub.status.busy": "2022-07-12T13:38:56.088432Z",
     "iopub.status.idle": "2022-07-12T13:38:56.097460Z",
     "shell.execute_reply": "2022-07-12T13:38:56.096648Z"
    },
    "papermill": {
     "duration": 0.022517,
     "end_time": "2022-07-12T13:38:56.099477",
     "exception": false,
     "start_time": "2022-07-12T13:38:56.076960",
     "status": "completed"
    },
    "tags": []
   },
   "outputs": [
    {
     "data": {
      "application/javascript": [
       "parent.postMessage({\"jupyterEvent\": \"custom.exercise_interaction\", \"data\": {\"interactionType\": 3, \"questionType\": 4, \"questionId\": \"6.2_ThinkColorReg\", \"learnToolsVersion\": \"0.3.4\", \"valueTowardsCompletion\": 0.0, \"failureMessage\": \"\", \"exceptionClass\": \"\", \"trace\": \"\", \"outcomeType\": 4}}, \"*\")"
      ],
      "text/plain": [
       "<IPython.core.display.Javascript object>"
      ]
     },
     "metadata": {},
     "output_type": "display_data"
    },
    {
     "data": {
      "text/markdown": [
       "<span style=\"color:#33cc99\">Solution:</span> We'll begin with the regression line for chocolate candies. Since this line has a slightly positive slope, we can say that more expensive chocolate candies tend to be more popular (than relatively cheaper chocolate candies).  Likewise, since the regression line for candies without chocolate has a negative slope, we can say that if candies don't contain chocolate, they tend to be more popular when they are cheaper.  One important note, however, is that the dataset is quite small -- so we shouldn't invest too much trust in these patterns!  To inspire more confidence in the results, we should add more candies to the dataset."
      ],
      "text/plain": [
       "Solution: We'll begin with the regression line for chocolate candies. Since this line has a slightly positive slope, we can say that more expensive chocolate candies tend to be more popular (than relatively cheaper chocolate candies).  Likewise, since the regression line for candies without chocolate has a negative slope, we can say that if candies don't contain chocolate, they tend to be more popular when they are cheaper.  One important note, however, is that the dataset is quite small -- so we shouldn't invest too much trust in these patterns!  To inspire more confidence in the results, we should add more candies to the dataset."
      ]
     },
     "metadata": {},
     "output_type": "display_data"
    }
   ],
   "source": [
    "# Check your answer (Run this code cell to receive credit!)\n",
    "step_6.b.solution()"
   ]
  },
  {
   "cell_type": "markdown",
   "id": "8e24d091",
   "metadata": {
    "papermill": {
     "duration": 0.010086,
     "end_time": "2022-07-12T13:38:56.119821",
     "exception": false,
     "start_time": "2022-07-12T13:38:56.109735",
     "status": "completed"
    },
    "tags": []
   },
   "source": [
    "## Step 7: Everybody loves chocolate.\n",
    "\n",
    "#### Part A\n",
    "\n",
    "Create a categorical scatter plot to highlight the relationship between `'chocolate'` and `'winpercent'`.  Put `'chocolate'` on the (horizontal) x-axis, and `'winpercent'` on the (vertical) y-axis."
   ]
  },
  {
   "cell_type": "code",
   "execution_count": 22,
   "id": "1d4fb7e8",
   "metadata": {
    "execution": {
     "iopub.execute_input": "2022-07-12T13:38:56.142275Z",
     "iopub.status.busy": "2022-07-12T13:38:56.141902Z",
     "iopub.status.idle": "2022-07-12T13:38:56.266018Z",
     "shell.execute_reply": "2022-07-12T13:38:56.265239Z"
    },
    "papermill": {
     "duration": 0.137965,
     "end_time": "2022-07-12T13:38:56.268157",
     "exception": false,
     "start_time": "2022-07-12T13:38:56.130192",
     "status": "completed"
    },
    "tags": []
   },
   "outputs": [
    {
     "data": {
      "application/javascript": [
       "parent.postMessage({\"jupyterEvent\": \"custom.exercise_interaction\", \"data\": {\"outcomeType\": 1, \"valueTowardsCompletion\": 0.3333333333333333, \"interactionType\": 1, \"questionType\": 2, \"questionId\": \"7.1_PlotSwarm\", \"learnToolsVersion\": \"0.3.4\", \"failureMessage\": \"\", \"exceptionClass\": \"\", \"trace\": \"\"}}, \"*\")"
      ],
      "text/plain": [
       "<IPython.core.display.Javascript object>"
      ]
     },
     "metadata": {},
     "output_type": "display_data"
    },
    {
     "data": {
      "text/markdown": [
       "<span style=\"color:#33cc33\">Correct</span>"
      ],
      "text/plain": [
       "Correct"
      ]
     },
     "metadata": {},
     "output_type": "display_data"
    },
    {
     "data": {
      "image/png": "[encoded data removed]",
      "text/plain": [
       "<Figure size 432x288 with 1 Axes>"
      ]
     },
     "metadata": {
      "needs_background": "light"
     },
     "output_type": "display_data"
    }
   ],
   "source": [
    "# Scatter plot showing the relationship between 'chocolate' and 'winpercent'\n",
    "sns.swarmplot(x=candy_data['chocolate'],y=candy_data['winpercent']) # Your code here\n",
    "\n",
    "# Check your answer\n",
    "step_7.a.check()"
   ]
  },
  {
   "cell_type": "code",
   "execution_count": 23,
   "id": "ff7a2244",
   "metadata": {
    "execution": {
     "iopub.execute_input": "2022-07-12T13:38:56.293123Z",
     "iopub.status.busy": "2022-07-12T13:38:56.292482Z",
     "iopub.status.idle": "2022-07-12T13:38:56.297964Z",
     "shell.execute_reply": "2022-07-12T13:38:56.297193Z"
    },
    "papermill": {
     "duration": 0.020354,
     "end_time": "2022-07-12T13:38:56.300077",
     "exception": false,
     "start_time": "2022-07-12T13:38:56.279723",
     "status": "completed"
    },
    "tags": []
   },
   "outputs": [],
   "source": [
    "# Lines below will give you a hint or solution code\n",
    "#step_7.a.hint()\n",
    "#step_7.a.solution_plot()"
   ]
  },
  {
   "cell_type": "markdown",
   "id": "f79fe55a",
   "metadata": {
    "papermill": {
     "duration": 0.010836,
     "end_time": "2022-07-12T13:38:56.322032",
     "exception": false,
     "start_time": "2022-07-12T13:38:56.311196",
     "status": "completed"
    },
    "tags": []
   },
   "source": [
    "#### Part B\n",
    "\n",
    "You decide to dedicate a section of your report to the fact that chocolate candies tend to be more popular than candies without chocolate.  Which plot is more appropriate to tell this story: the plot from **Step 6**, or the plot from **Step 7**?"
   ]
  },
  {
   "cell_type": "code",
   "execution_count": 24,
   "id": "9af735e1",
   "metadata": {
    "execution": {
     "iopub.execute_input": "2022-07-12T13:38:56.345844Z",
     "iopub.status.busy": "2022-07-12T13:38:56.345469Z",
     "iopub.status.idle": "2022-07-12T13:38:56.350308Z",
     "shell.execute_reply": "2022-07-12T13:38:56.349403Z"
    },
    "papermill": {
     "duration": 0.019504,
     "end_time": "2022-07-12T13:38:56.352654",
     "exception": false,
     "start_time": "2022-07-12T13:38:56.333150",
     "status": "completed"
    },
    "tags": []
   },
   "outputs": [],
   "source": [
    "#step_7.b.hint()"
   ]
  },
  {
   "cell_type": "code",
   "execution_count": 25,
   "id": "8782eaef",
   "metadata": {
    "execution": {
     "iopub.execute_input": "2022-07-12T13:38:56.376034Z",
     "iopub.status.busy": "2022-07-12T13:38:56.375695Z",
     "iopub.status.idle": "2022-07-12T13:38:56.383794Z",
     "shell.execute_reply": "2022-07-12T13:38:56.382686Z"
    },
    "papermill": {
     "duration": 0.022071,
     "end_time": "2022-07-12T13:38:56.385729",
     "exception": false,
     "start_time": "2022-07-12T13:38:56.363658",
     "status": "completed"
    },
    "tags": []
   },
   "outputs": [
    {
     "data": {
      "application/javascript": [
       "parent.postMessage({\"jupyterEvent\": \"custom.exercise_interaction\", \"data\": {\"interactionType\": 3, \"questionType\": 4, \"questionId\": \"7.2_ThinkSwarm\", \"learnToolsVersion\": \"0.3.4\", \"valueTowardsCompletion\": 0.0, \"failureMessage\": \"\", \"exceptionClass\": \"\", \"trace\": \"\", \"outcomeType\": 4}}, \"*\")"
      ],
      "text/plain": [
       "<IPython.core.display.Javascript object>"
      ]
     },
     "metadata": {},
     "output_type": "display_data"
    },
    {
     "data": {
      "text/markdown": [
       "<span style=\"color:#33cc99\">Solution:</span> In this case, the categorical scatter plot from **Step 7** is the more appropriate plot. While both plots tell the desired story, the plot from **Step 6** conveys far more information that could distract from the main point."
      ],
      "text/plain": [
       "Solution: In this case, the categorical scatter plot from **Step 7** is the more appropriate plot. While both plots tell the desired story, the plot from **Step 6** conveys far more information that could distract from the main point."
      ]
     },
     "metadata": {},
     "output_type": "display_data"
    }
   ],
   "source": [
    "# Check your answer (Run this code cell to receive credit!)\n",
    "step_7.b.solution()"
   ]
  },
  {
   "cell_type": "markdown",
   "id": "dcfd1cb3",
   "metadata": {
    "papermill": {
     "duration": 0.011066,
     "end_time": "2022-07-12T13:38:56.408018",
     "exception": false,
     "start_time": "2022-07-12T13:38:56.396952",
     "status": "completed"
    },
    "tags": []
   },
   "source": [
    "## Keep going\n",
    "\n",
    "Explore **[histograms and density plots](https://www.kaggle.com/alexisbcook/distributions)**."
   ]
  },
  {
   "cell_type": "markdown",
   "id": "577a35f2",
   "metadata": {
    "papermill": {
     "duration": 0.011016,
     "end_time": "2022-07-12T13:38:56.430251",
     "exception": false,
     "start_time": "2022-07-12T13:38:56.419235",
     "status": "completed"
    },
    "tags": []
   },
   "source": [
    "---\n",
    "\n",
    "\n",
    "\n",
    "\n",
    "*Have questions or comments? Visit the [course discussion forum](https://www.kaggle.com/learn/data-visualization/discussion) to chat with other learners.*"
   ]
  }
 ],
 "metadata": {
  "kernelspec": {
   "display_name": "Python 3",
   "language": "python",
   "name": "python3"
  },
  "language_info": {
   "codemirror_mode": {
    "name": "ipython",
    "version": 3
   },
   "file_extension": ".py",
   "mimetype": "text/x-python",
   "name": "python",
   "nbconvert_exporter": "python",
   "pygments_lexer": "ipython3",
   "version": "3.7.12"
  },
  "papermill": {
   "default_parameters": {},
   "duration": 12.849155,
   "end_time": "2022-07-12T13:38:57.062481",
   "environment_variables": {},
   "exception": null,
   "input_path": "__notebook__.ipynb",
   "output_path": "__notebook__.ipynb",
   "parameters": {},
   "start_time": "2022-07-12T13:38:44.213326",
   "version": "2.3.4"
  }
 },
 "nbformat": 4,
 "nbformat_minor": 5
}

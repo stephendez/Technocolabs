{
 "cells": [
  {
   "cell_type": "markdown",
   "id": "4b2eafc9",
   "metadata": {
    "papermill": {
     "duration": 0.007644,
     "end_time": "2022-07-15T03:43:13.660026",
     "exception": false,
     "start_time": "2022-07-15T03:43:13.652382",
     "status": "completed"
    },
    "tags": []
   },
   "source": [
    "**This notebook is an exercise in the [Pandas](https://www.kaggle.com/learn/pandas) course.  You can reference the tutorial at [this link](https://www.kaggle.com/residentmario/grouping-and-sorting).**\n",
    "\n",
    "---\n"
   ]
  },
  {
   "cell_type": "markdown",
   "id": "7780ac05",
   "metadata": {
    "papermill": {
     "duration": 0.006086,
     "end_time": "2022-07-15T03:43:13.672725",
     "exception": false,
     "start_time": "2022-07-15T03:43:13.666639",
     "status": "completed"
    },
    "tags": []
   },
   "source": [
    "# Introduction\n",
    "\n",
    "In these exercises we'll apply groupwise analysis to our dataset.\n",
    "\n",
    "Run the code cell below to load the data before running the exercises."
   ]
  },
  {
   "cell_type": "code",
   "execution_count": 1,
   "id": "ecff749f",
   "metadata": {
    "execution": {
     "iopub.execute_input": "2022-07-15T03:43:13.688781Z",
     "iopub.status.busy": "2022-07-15T03:43:13.687142Z",
     "iopub.status.idle": "2022-07-15T03:43:16.768241Z",
     "shell.execute_reply": "2022-07-15T03:43:16.767347Z"
    },
    "papermill": {
     "duration": 3.092225,
     "end_time": "2022-07-15T03:43:16.771318",
     "exception": false,
     "start_time": "2022-07-15T03:43:13.679093",
     "status": "completed"
    },
    "tags": []
   },
   "outputs": [
    {
     "name": "stdout",
     "output_type": "stream",
     "text": [
      "Setup complete.\n"
     ]
    }
   ],
   "source": [
    "import pandas as pd\n",
    "\n",
    "reviews = pd.read_csv(\"../input/wine-reviews/winemag-data-130k-v2.csv\", index_col=0)\n",
    "#pd.set_option(\"display.max_rows\", 5)\n",
    "\n",
    "from learntools.core import binder; binder.bind(globals())\n",
    "from learntools.pandas.grouping_and_sorting import *\n",
    "print(\"Setup complete.\")"
   ]
  },
  {
   "cell_type": "markdown",
   "id": "83f6bfa7",
   "metadata": {
    "papermill": {
     "duration": 0.006208,
     "end_time": "2022-07-15T03:43:16.784232",
     "exception": false,
     "start_time": "2022-07-15T03:43:16.778024",
     "status": "completed"
    },
    "tags": []
   },
   "source": [
    "# Exercises"
   ]
  },
  {
   "cell_type": "markdown",
   "id": "0ccf2ca4",
   "metadata": {
    "papermill": {
     "duration": 0.006237,
     "end_time": "2022-07-15T03:43:16.796873",
     "exception": false,
     "start_time": "2022-07-15T03:43:16.790636",
     "status": "completed"
    },
    "tags": []
   },
   "source": [
    "## 1.\n",
    "Who are the most common wine reviewers in the dataset? Create a `Series` whose index is the `taster_twitter_handle` category from the dataset, and whose values count how many reviews each person wrote."
   ]
  },
  {
   "cell_type": "code",
   "execution_count": 2,
   "id": "03fef3dd",
   "metadata": {
    "execution": {
     "iopub.execute_input": "2022-07-15T03:43:16.811851Z",
     "iopub.status.busy": "2022-07-15T03:43:16.811169Z",
     "iopub.status.idle": "2022-07-15T03:43:16.852598Z",
     "shell.execute_reply": "2022-07-15T03:43:16.851712Z"
    },
    "papermill": {
     "duration": 0.051297,
     "end_time": "2022-07-15T03:43:16.854574",
     "exception": false,
     "start_time": "2022-07-15T03:43:16.803277",
     "status": "completed"
    },
    "tags": []
   },
   "outputs": [
    {
     "data": {
      "application/javascript": [
       "parent.postMessage({\"jupyterEvent\": \"custom.exercise_interaction\", \"data\": {\"outcomeType\": 1, \"valueTowardsCompletion\": 0.16666666666666666, \"interactionType\": 1, \"questionType\": 1, \"questionId\": \"1_ReviewsWritten\", \"learnToolsVersion\": \"0.3.4\", \"failureMessage\": \"\", \"exceptionClass\": \"\", \"trace\": \"\"}}, \"*\")"
      ],
      "text/plain": [
       "<IPython.core.display.Javascript object>"
      ]
     },
     "metadata": {},
     "output_type": "display_data"
    },
    {
     "data": {
      "text/markdown": [
       "<span style=\"color:#33cc33\">Correct:</span> \n",
       "\n",
       "\n",
       "```python\n",
       "reviews_written = reviews.groupby('taster_twitter_handle').size()\n",
       "```\n",
       "or\n",
       "```python\n",
       "reviews_written = reviews.groupby('taster_twitter_handle').taster_twitter_handle.count()\n",
       "```\n"
      ],
      "text/plain": [
       "Correct: \n",
       "\n",
       "\n",
       "```python\n",
       "reviews_written = reviews.groupby('taster_twitter_handle').size()\n",
       "```\n",
       "or\n",
       "```python\n",
       "reviews_written = reviews.groupby('taster_twitter_handle').taster_twitter_handle.count()\n",
       "```"
      ]
     },
     "metadata": {},
     "output_type": "display_data"
    }
   ],
   "source": [
    "# Your code here\n",
    "reviews_written = reviews.groupby('taster_twitter_handle').taster_twitter_handle.count()\n",
    "\n",
    "# Check your answer\n",
    "q1.check()"
   ]
  },
  {
   "cell_type": "code",
   "execution_count": 3,
   "id": "d4c2cdee",
   "metadata": {
    "execution": {
     "iopub.execute_input": "2022-07-15T03:43:16.870539Z",
     "iopub.status.busy": "2022-07-15T03:43:16.869825Z",
     "iopub.status.idle": "2022-07-15T03:43:16.874014Z",
     "shell.execute_reply": "2022-07-15T03:43:16.873053Z"
    },
    "papermill": {
     "duration": 0.014974,
     "end_time": "2022-07-15T03:43:16.876354",
     "exception": false,
     "start_time": "2022-07-15T03:43:16.861380",
     "status": "completed"
    },
    "tags": []
   },
   "outputs": [],
   "source": [
    "#q1.hint()\n",
    "#q1.solution()"
   ]
  },
  {
   "cell_type": "markdown",
   "id": "ccb13461",
   "metadata": {
    "papermill": {
     "duration": 0.006974,
     "end_time": "2022-07-15T03:43:16.890077",
     "exception": false,
     "start_time": "2022-07-15T03:43:16.883103",
     "status": "completed"
    },
    "tags": []
   },
   "source": [
    "## 2.\n",
    "What is the best wine I can buy for a given amount of money? Create a `Series` whose index is wine prices and whose values is the maximum number of points a wine costing that much was given in a review. Sort the values by price, ascending (so that `4.0` dollars is at the top and `3300.0` dollars is at the bottom)."
   ]
  },
  {
   "cell_type": "code",
   "execution_count": 4,
   "id": "5385fadb",
   "metadata": {
    "execution": {
     "iopub.execute_input": "2022-07-15T03:43:16.905472Z",
     "iopub.status.busy": "2022-07-15T03:43:16.905008Z",
     "iopub.status.idle": "2022-07-15T03:43:16.923539Z",
     "shell.execute_reply": "2022-07-15T03:43:16.922089Z"
    },
    "papermill": {
     "duration": 0.028911,
     "end_time": "2022-07-15T03:43:16.925732",
     "exception": false,
     "start_time": "2022-07-15T03:43:16.896821",
     "status": "completed"
    },
    "tags": []
   },
   "outputs": [
    {
     "name": "stdout",
     "output_type": "stream",
     "text": [
      "price\n",
      "4.0       86\n",
      "5.0       87\n",
      "6.0       88\n",
      "7.0       91\n",
      "8.0       91\n",
      "          ..\n",
      "1900.0    98\n",
      "2000.0    97\n",
      "2013.0    91\n",
      "2500.0    96\n",
      "3300.0    88\n",
      "Name: points, Length: 390, dtype: int64\n"
     ]
    },
    {
     "data": {
      "application/javascript": [
       "parent.postMessage({\"jupyterEvent\": \"custom.exercise_interaction\", \"data\": {\"outcomeType\": 1, \"valueTowardsCompletion\": 0.16666666666666666, \"interactionType\": 1, \"questionType\": 1, \"questionId\": \"2_BestRatingPerPrice\", \"learnToolsVersion\": \"0.3.4\", \"failureMessage\": \"\", \"exceptionClass\": \"\", \"trace\": \"\"}}, \"*\")"
      ],
      "text/plain": [
       "<IPython.core.display.Javascript object>"
      ]
     },
     "metadata": {},
     "output_type": "display_data"
    },
    {
     "data": {
      "text/markdown": [
       "<span style=\"color:#33cc33\">Correct</span>"
      ],
      "text/plain": [
       "Correct"
      ]
     },
     "metadata": {},
     "output_type": "display_data"
    }
   ],
   "source": [
    "best_rating_per_price = reviews.groupby('price').points.max().sort_index()\n",
    "print(best_rating_per_price)\n",
    "# Check your answer\n",
    "q2.check()"
   ]
  },
  {
   "cell_type": "code",
   "execution_count": 5,
   "id": "6de95a63",
   "metadata": {
    "execution": {
     "iopub.execute_input": "2022-07-15T03:43:16.941842Z",
     "iopub.status.busy": "2022-07-15T03:43:16.941435Z",
     "iopub.status.idle": "2022-07-15T03:43:16.946046Z",
     "shell.execute_reply": "2022-07-15T03:43:16.944910Z"
    },
    "papermill": {
     "duration": 0.015539,
     "end_time": "2022-07-15T03:43:16.948393",
     "exception": false,
     "start_time": "2022-07-15T03:43:16.932854",
     "status": "completed"
    },
    "tags": []
   },
   "outputs": [],
   "source": [
    "#q2.hint()\n",
    "#q2.solution()"
   ]
  },
  {
   "cell_type": "markdown",
   "id": "ff8f9193",
   "metadata": {
    "papermill": {
     "duration": 0.006757,
     "end_time": "2022-07-15T03:43:16.962229",
     "exception": false,
     "start_time": "2022-07-15T03:43:16.955472",
     "status": "completed"
    },
    "tags": []
   },
   "source": [
    "## 3.\n",
    "What are the minimum and maximum prices for each `variety` of wine? Create a `DataFrame` whose index is the `variety` category from the dataset and whose values are the `min` and `max` values thereof."
   ]
  },
  {
   "cell_type": "code",
   "execution_count": 6,
   "id": "3324b7b9",
   "metadata": {
    "execution": {
     "iopub.execute_input": "2022-07-15T03:43:16.978371Z",
     "iopub.status.busy": "2022-07-15T03:43:16.977955Z",
     "iopub.status.idle": "2022-07-15T03:43:17.009139Z",
     "shell.execute_reply": "2022-07-15T03:43:17.008220Z"
    },
    "papermill": {
     "duration": 0.041986,
     "end_time": "2022-07-15T03:43:17.011285",
     "exception": false,
     "start_time": "2022-07-15T03:43:16.969299",
     "status": "completed"
    },
    "tags": []
   },
   "outputs": [
    {
     "data": {
      "application/javascript": [
       "parent.postMessage({\"jupyterEvent\": \"custom.exercise_interaction\", \"data\": {\"outcomeType\": 1, \"valueTowardsCompletion\": 0.16666666666666666, \"interactionType\": 1, \"questionType\": 1, \"questionId\": \"3_PriceExtremes\", \"learnToolsVersion\": \"0.3.4\", \"failureMessage\": \"\", \"exceptionClass\": \"\", \"trace\": \"\"}}, \"*\")"
      ],
      "text/plain": [
       "<IPython.core.display.Javascript object>"
      ]
     },
     "metadata": {},
     "output_type": "display_data"
    },
    {
     "data": {
      "text/markdown": [
       "<span style=\"color:#33cc33\">Correct</span>"
      ],
      "text/plain": [
       "Correct"
      ]
     },
     "metadata": {},
     "output_type": "display_data"
    }
   ],
   "source": [
    "price_extremes = reviews.groupby('variety').price.agg(['min','max'])\n",
    "\n",
    "# Check your answer\n",
    "q3.check()"
   ]
  },
  {
   "cell_type": "code",
   "execution_count": 7,
   "id": "c8d91bb9",
   "metadata": {
    "execution": {
     "iopub.execute_input": "2022-07-15T03:43:17.028162Z",
     "iopub.status.busy": "2022-07-15T03:43:17.027762Z",
     "iopub.status.idle": "2022-07-15T03:43:17.032382Z",
     "shell.execute_reply": "2022-07-15T03:43:17.031377Z"
    },
    "papermill": {
     "duration": 0.015893,
     "end_time": "2022-07-15T03:43:17.034773",
     "exception": false,
     "start_time": "2022-07-15T03:43:17.018880",
     "status": "completed"
    },
    "tags": []
   },
   "outputs": [],
   "source": [
    "#q3.hint()\n",
    "#q3.solution()"
   ]
  },
  {
   "cell_type": "markdown",
   "id": "ada691ef",
   "metadata": {
    "papermill": {
     "duration": 0.007067,
     "end_time": "2022-07-15T03:43:17.049591",
     "exception": false,
     "start_time": "2022-07-15T03:43:17.042524",
     "status": "completed"
    },
    "tags": []
   },
   "source": [
    "## 4.\n",
    "What are the most expensive wine varieties? Create a variable `sorted_varieties` containing a copy of the dataframe from the previous question where varieties are sorted in descending order based on minimum price, then on maximum price (to break ties)."
   ]
  },
  {
   "cell_type": "code",
   "execution_count": 8,
   "id": "544e00e7",
   "metadata": {
    "execution": {
     "iopub.execute_input": "2022-07-15T03:43:17.066229Z",
     "iopub.status.busy": "2022-07-15T03:43:17.065783Z",
     "iopub.status.idle": "2022-07-15T03:43:17.077665Z",
     "shell.execute_reply": "2022-07-15T03:43:17.076632Z"
    },
    "papermill": {
     "duration": 0.023188,
     "end_time": "2022-07-15T03:43:17.080102",
     "exception": false,
     "start_time": "2022-07-15T03:43:17.056914",
     "status": "completed"
    },
    "tags": []
   },
   "outputs": [
    {
     "data": {
      "application/javascript": [
       "parent.postMessage({\"jupyterEvent\": \"custom.exercise_interaction\", \"data\": {\"outcomeType\": 1, \"valueTowardsCompletion\": 0.16666666666666666, \"interactionType\": 1, \"questionType\": 1, \"questionId\": \"4_SortedVarieties\", \"learnToolsVersion\": \"0.3.4\", \"failureMessage\": \"\", \"exceptionClass\": \"\", \"trace\": \"\"}}, \"*\")"
      ],
      "text/plain": [
       "<IPython.core.display.Javascript object>"
      ]
     },
     "metadata": {},
     "output_type": "display_data"
    },
    {
     "data": {
      "text/markdown": [
       "<span style=\"color:#33cc33\">Correct</span>"
      ],
      "text/plain": [
       "Correct"
      ]
     },
     "metadata": {},
     "output_type": "display_data"
    }
   ],
   "source": [
    "sorted_varieties = price_extremes.sort_values(by=['min','max'], ascending=False)\n",
    "\n",
    "# Check your answer\n",
    "q4.check()"
   ]
  },
  {
   "cell_type": "code",
   "execution_count": 9,
   "id": "d93bcbb4",
   "metadata": {
    "execution": {
     "iopub.execute_input": "2022-07-15T03:43:17.098518Z",
     "iopub.status.busy": "2022-07-15T03:43:17.097474Z",
     "iopub.status.idle": "2022-07-15T03:43:17.102300Z",
     "shell.execute_reply": "2022-07-15T03:43:17.101256Z"
    },
    "papermill": {
     "duration": 0.016031,
     "end_time": "2022-07-15T03:43:17.104575",
     "exception": false,
     "start_time": "2022-07-15T03:43:17.088544",
     "status": "completed"
    },
    "tags": []
   },
   "outputs": [],
   "source": [
    "#q4.hint()\n",
    "#q4.solution()"
   ]
  },
  {
   "cell_type": "markdown",
   "id": "c7047ca8",
   "metadata": {
    "papermill": {
     "duration": 0.007418,
     "end_time": "2022-07-15T03:43:17.119943",
     "exception": false,
     "start_time": "2022-07-15T03:43:17.112525",
     "status": "completed"
    },
    "tags": []
   },
   "source": [
    "## 5.\n",
    "Create a `Series` whose index is reviewers and whose values is the average review score given out by that reviewer. Hint: you will need the `taster_name` and `points` columns."
   ]
  },
  {
   "cell_type": "code",
   "execution_count": 10,
   "id": "f8f93a02",
   "metadata": {
    "execution": {
     "iopub.execute_input": "2022-07-15T03:43:17.137485Z",
     "iopub.status.busy": "2022-07-15T03:43:17.137024Z",
     "iopub.status.idle": "2022-07-15T03:43:17.164914Z",
     "shell.execute_reply": "2022-07-15T03:43:17.163841Z"
    },
    "papermill": {
     "duration": 0.039241,
     "end_time": "2022-07-15T03:43:17.167226",
     "exception": false,
     "start_time": "2022-07-15T03:43:17.127985",
     "status": "completed"
    },
    "tags": []
   },
   "outputs": [
    {
     "data": {
      "application/javascript": [
       "parent.postMessage({\"jupyterEvent\": \"custom.exercise_interaction\", \"data\": {\"outcomeType\": 1, \"valueTowardsCompletion\": 0.16666666666666666, \"interactionType\": 1, \"questionType\": 1, \"questionId\": \"5_ReviewerMeanRatings\", \"learnToolsVersion\": \"0.3.4\", \"failureMessage\": \"\", \"exceptionClass\": \"\", \"trace\": \"\"}}, \"*\")"
      ],
      "text/plain": [
       "<IPython.core.display.Javascript object>"
      ]
     },
     "metadata": {},
     "output_type": "display_data"
    },
    {
     "data": {
      "text/markdown": [
       "<span style=\"color:#33cc33\">Correct</span>"
      ],
      "text/plain": [
       "Correct"
      ]
     },
     "metadata": {},
     "output_type": "display_data"
    }
   ],
   "source": [
    "reviewer_mean_ratings = reviews.groupby('taster_name').points.mean()\n",
    "\n",
    "# Check your answer\n",
    "q5.check()"
   ]
  },
  {
   "cell_type": "code",
   "execution_count": 11,
   "id": "c3232b4e",
   "metadata": {
    "execution": {
     "iopub.execute_input": "2022-07-15T03:43:17.184902Z",
     "iopub.status.busy": "2022-07-15T03:43:17.184487Z",
     "iopub.status.idle": "2022-07-15T03:43:17.188538Z",
     "shell.execute_reply": "2022-07-15T03:43:17.187744Z"
    },
    "papermill": {
     "duration": 0.015252,
     "end_time": "2022-07-15T03:43:17.190488",
     "exception": false,
     "start_time": "2022-07-15T03:43:17.175236",
     "status": "completed"
    },
    "tags": []
   },
   "outputs": [],
   "source": [
    "#q5.hint()\n",
    "#q5.solution()"
   ]
  },
  {
   "cell_type": "markdown",
   "id": "7b2dea0e",
   "metadata": {
    "papermill": {
     "duration": 0.007668,
     "end_time": "2022-07-15T03:43:17.207164",
     "exception": false,
     "start_time": "2022-07-15T03:43:17.199496",
     "status": "completed"
    },
    "tags": []
   },
   "source": [
    "Are there significant differences in the average scores assigned by the various reviewers? Run the cell below to use the `describe()` method to see a summary of the range of values."
   ]
  },
  {
   "cell_type": "code",
   "execution_count": 12,
   "id": "3427e215",
   "metadata": {
    "execution": {
     "iopub.execute_input": "2022-07-15T03:43:17.224822Z",
     "iopub.status.busy": "2022-07-15T03:43:17.224407Z",
     "iopub.status.idle": "2022-07-15T03:43:17.236543Z",
     "shell.execute_reply": "2022-07-15T03:43:17.235798Z"
    },
    "papermill": {
     "duration": 0.023366,
     "end_time": "2022-07-15T03:43:17.238483",
     "exception": false,
     "start_time": "2022-07-15T03:43:17.215117",
     "status": "completed"
    },
    "tags": []
   },
   "outputs": [
    {
     "data": {
      "text/plain": [
       "count    19.000000\n",
       "mean     88.233026\n",
       "std       1.243610\n",
       "min      85.855422\n",
       "25%      87.323501\n",
       "50%      88.536235\n",
       "75%      88.975256\n",
       "max      90.562551\n",
       "Name: points, dtype: float64"
      ]
     },
     "execution_count": 12,
     "metadata": {},
     "output_type": "execute_result"
    }
   ],
   "source": [
    "reviewer_mean_ratings.describe()"
   ]
  },
  {
   "cell_type": "markdown",
   "id": "338207ab",
   "metadata": {
    "papermill": {
     "duration": 0.007852,
     "end_time": "2022-07-15T03:43:17.254648",
     "exception": false,
     "start_time": "2022-07-15T03:43:17.246796",
     "status": "completed"
    },
    "tags": []
   },
   "source": [
    "## 6.\n",
    "What combination of countries and varieties are most common? Create a `Series` whose index is a `MultiIndex`of `{country, variety}` pairs. For example, a pinot noir produced in the US should map to `{\"US\", \"Pinot Noir\"}`. Sort the values in the `Series` in descending order based on wine count."
   ]
  },
  {
   "cell_type": "code",
   "execution_count": 13,
   "id": "cd9af55e",
   "metadata": {
    "execution": {
     "iopub.execute_input": "2022-07-15T03:43:17.273139Z",
     "iopub.status.busy": "2022-07-15T03:43:17.272373Z",
     "iopub.status.idle": "2022-07-15T03:43:17.320194Z",
     "shell.execute_reply": "2022-07-15T03:43:17.319209Z"
    },
    "papermill": {
     "duration": 0.061028,
     "end_time": "2022-07-15T03:43:17.323792",
     "exception": false,
     "start_time": "2022-07-15T03:43:17.262764",
     "status": "completed"
    },
    "tags": []
   },
   "outputs": [
    {
     "data": {
      "application/javascript": [
       "parent.postMessage({\"jupyterEvent\": \"custom.exercise_interaction\", \"data\": {\"outcomeType\": 1, \"valueTowardsCompletion\": 0.16666666666666666, \"interactionType\": 1, \"questionType\": 1, \"questionId\": \"6_GroupbyCountryVariety\", \"learnToolsVersion\": \"0.3.4\", \"failureMessage\": \"\", \"exceptionClass\": \"\", \"trace\": \"\"}}, \"*\")"
      ],
      "text/plain": [
       "<IPython.core.display.Javascript object>"
      ]
     },
     "metadata": {},
     "output_type": "display_data"
    },
    {
     "data": {
      "text/markdown": [
       "<span style=\"color:#33cc33\">Correct</span>"
      ],
      "text/plain": [
       "Correct"
      ]
     },
     "metadata": {},
     "output_type": "display_data"
    }
   ],
   "source": [
    "country_variety_counts = reviews.groupby(['country','variety']).size().sort_values(ascending=False)\n",
    "# Check your answer\n",
    "q6.check()"
   ]
  },
  {
   "cell_type": "code",
   "execution_count": 14,
   "id": "2e258780",
   "metadata": {
    "execution": {
     "iopub.execute_input": "2022-07-15T03:43:17.342934Z",
     "iopub.status.busy": "2022-07-15T03:43:17.342254Z",
     "iopub.status.idle": "2022-07-15T03:43:17.346233Z",
     "shell.execute_reply": "2022-07-15T03:43:17.345288Z"
    },
    "papermill": {
     "duration": 0.015898,
     "end_time": "2022-07-15T03:43:17.348278",
     "exception": false,
     "start_time": "2022-07-15T03:43:17.332380",
     "status": "completed"
    },
    "tags": []
   },
   "outputs": [],
   "source": [
    "#q6.hint()\n",
    "#q6.solution()"
   ]
  },
  {
   "cell_type": "markdown",
   "id": "2901cae2",
   "metadata": {
    "papermill": {
     "duration": 0.007975,
     "end_time": "2022-07-15T03:43:17.364562",
     "exception": false,
     "start_time": "2022-07-15T03:43:17.356587",
     "status": "completed"
    },
    "tags": []
   },
   "source": [
    "# Keep going\n",
    "\n",
    "Move on to the [**data types and missing data**](https://www.kaggle.com/residentmario/data-types-and-missing-values)."
   ]
  },
  {
   "cell_type": "markdown",
   "id": "1029ac7b",
   "metadata": {
    "papermill": {
     "duration": 0.008007,
     "end_time": "2022-07-15T03:43:17.381002",
     "exception": false,
     "start_time": "2022-07-15T03:43:17.372995",
     "status": "completed"
    },
    "tags": []
   },
   "source": [
    "---\n",
    "\n",
    "\n",
    "\n",
    "\n",
    "*Have questions or comments? Visit the [course discussion forum](https://www.kaggle.com/learn/pandas/discussion) to chat with other learners.*"
   ]
  }
 ],
 "metadata": {
  "kernelspec": {
   "display_name": "Python 3",
   "language": "python",
   "name": "python3"
  },
  "language_info": {
   "codemirror_mode": {
    "name": "ipython",
    "version": 3
   },
   "file_extension": ".py",
   "mimetype": "text/x-python",
   "name": "python",
   "nbconvert_exporter": "python",
   "pygments_lexer": "ipython3",
   "version": "3.7.12"
  },
  "papermill": {
   "default_parameters": {},
   "duration": 15.557485,
   "end_time": "2022-07-15T03:43:18.211549",
   "environment_variables": {},
   "exception": null,
   "input_path": "__notebook__.ipynb",
   "output_path": "__notebook__.ipynb",
   "parameters": {},
   "start_time": "2022-07-15T03:43:02.654064",
   "version": "2.3.4"
  }
 },
 "nbformat": 4,
 "nbformat_minor": 5
}

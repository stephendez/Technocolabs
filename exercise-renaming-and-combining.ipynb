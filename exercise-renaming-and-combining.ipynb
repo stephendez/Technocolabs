{
 "cells": [
  {
   "cell_type": "markdown",
   "id": "e55b16af",
   "metadata": {
    "papermill": {
     "duration": 0.006668,
     "end_time": "2022-07-15T10:00:56.547186",
     "exception": false,
     "start_time": "2022-07-15T10:00:56.540518",
     "status": "completed"
    },
    "tags": []
   },
   "source": [
    "**This notebook is an exercise in the [Pandas](https://www.kaggle.com/learn/pandas) course.  You can reference the tutorial at [this link](https://www.kaggle.com/residentmario/renaming-and-combining).**\n",
    "\n",
    "---\n"
   ]
  },
  {
   "cell_type": "markdown",
   "id": "af0eb66b",
   "metadata": {
    "papermill": {
     "duration": 0.005318,
     "end_time": "2022-07-15T10:00:56.558386",
     "exception": false,
     "start_time": "2022-07-15T10:00:56.553068",
     "status": "completed"
    },
    "tags": []
   },
   "source": [
    "# Introduction\n",
    "\n",
    "Run the following cell to load your data and some utility functions."
   ]
  },
  {
   "cell_type": "code",
   "execution_count": 1,
   "id": "52ea8d8b",
   "metadata": {
    "execution": {
     "iopub.execute_input": "2022-07-15T10:00:56.571383Z",
     "iopub.status.busy": "2022-07-15T10:00:56.570954Z",
     "iopub.status.idle": "2022-07-15T10:01:00.508018Z",
     "shell.execute_reply": "2022-07-15T10:01:00.506801Z"
    },
    "papermill": {
     "duration": 3.947089,
     "end_time": "2022-07-15T10:01:00.511121",
     "exception": false,
     "start_time": "2022-07-15T10:00:56.564032",
     "status": "completed"
    },
    "tags": []
   },
   "outputs": [
    {
     "name": "stdout",
     "output_type": "stream",
     "text": [
      "Setup complete.\n"
     ]
    }
   ],
   "source": [
    "import pandas as pd\n",
    "\n",
    "reviews = pd.read_csv(\"../input/wine-reviews/winemag-data-130k-v2.csv\", index_col=0)\n",
    "\n",
    "from learntools.core import binder; binder.bind(globals())\n",
    "from learntools.pandas.renaming_and_combining import *\n",
    "print(\"Setup complete.\")"
   ]
  },
  {
   "cell_type": "markdown",
   "id": "d0e1dded",
   "metadata": {
    "papermill": {
     "duration": 0.005485,
     "end_time": "2022-07-15T10:01:00.522517",
     "exception": false,
     "start_time": "2022-07-15T10:01:00.517032",
     "status": "completed"
    },
    "tags": []
   },
   "source": [
    "# Exercises\n",
    "\n",
    "View the first several lines of your data by running the cell below:"
   ]
  },
  {
   "cell_type": "code",
   "execution_count": 2,
   "id": "33bcd714",
   "metadata": {
    "execution": {
     "iopub.execute_input": "2022-07-15T10:01:00.535793Z",
     "iopub.status.busy": "2022-07-15T10:01:00.535187Z",
     "iopub.status.idle": "2022-07-15T10:01:00.561563Z",
     "shell.execute_reply": "2022-07-15T10:01:00.560661Z"
    },
    "papermill": {
     "duration": 0.035715,
     "end_time": "2022-07-15T10:01:00.563812",
     "exception": false,
     "start_time": "2022-07-15T10:01:00.528097",
     "status": "completed"
    },
    "tags": []
   },
   "outputs": [
    {
     "data": {
      "text/html": [
       "<div>\n",
       "<style scoped>\n",
       "    .dataframe tbody tr th:only-of-type {\n",
       "        vertical-align: middle;\n",
       "    }\n",
       "\n",
       "    .dataframe tbody tr th {\n",
       "        vertical-align: top;\n",
       "    }\n",
       "\n",
       "    .dataframe thead th {\n",
       "        text-align: right;\n",
       "    }\n",
       "</style>\n",
       "<table border=\"1\" class=\"dataframe\">\n",
       "  <thead>\n",
       "    <tr style=\"text-align: right;\">\n",
       "      <th></th>\n",
       "      <th>country</th>\n",
       "      <th>description</th>\n",
       "      <th>designation</th>\n",
       "      <th>points</th>\n",
       "      <th>price</th>\n",
       "      <th>province</th>\n",
       "      <th>region_1</th>\n",
       "      <th>region_2</th>\n",
       "      <th>taster_name</th>\n",
       "      <th>taster_twitter_handle</th>\n",
       "      <th>title</th>\n",
       "      <th>variety</th>\n",
       "      <th>winery</th>\n",
       "    </tr>\n",
       "  </thead>\n",
       "  <tbody>\n",
       "    <tr>\n",
       "      <th>0</th>\n",
       "      <td>Italy</td>\n",
       "      <td>Aromas include tropical fruit, broom, brimston...</td>\n",
       "      <td>Vulkà Bianco</td>\n",
       "      <td>87</td>\n",
       "      <td>NaN</td>\n",
       "      <td>Sicily &amp; Sardinia</td>\n",
       "      <td>Etna</td>\n",
       "      <td>NaN</td>\n",
       "      <td>Kerin O’Keefe</td>\n",
       "      <td>@kerinokeefe</td>\n",
       "      <td>Nicosia 2013 Vulkà Bianco  (Etna)</td>\n",
       "      <td>White Blend</td>\n",
       "      <td>Nicosia</td>\n",
       "    </tr>\n",
       "    <tr>\n",
       "      <th>1</th>\n",
       "      <td>Portugal</td>\n",
       "      <td>This is ripe and fruity, a wine that is smooth...</td>\n",
       "      <td>Avidagos</td>\n",
       "      <td>87</td>\n",
       "      <td>15.0</td>\n",
       "      <td>Douro</td>\n",
       "      <td>NaN</td>\n",
       "      <td>NaN</td>\n",
       "      <td>Roger Voss</td>\n",
       "      <td>@vossroger</td>\n",
       "      <td>Quinta dos Avidagos 2011 Avidagos Red (Douro)</td>\n",
       "      <td>Portuguese Red</td>\n",
       "      <td>Quinta dos Avidagos</td>\n",
       "    </tr>\n",
       "    <tr>\n",
       "      <th>2</th>\n",
       "      <td>US</td>\n",
       "      <td>Tart and snappy, the flavors of lime flesh and...</td>\n",
       "      <td>NaN</td>\n",
       "      <td>87</td>\n",
       "      <td>14.0</td>\n",
       "      <td>Oregon</td>\n",
       "      <td>Willamette Valley</td>\n",
       "      <td>Willamette Valley</td>\n",
       "      <td>Paul Gregutt</td>\n",
       "      <td>@paulgwine</td>\n",
       "      <td>Rainstorm 2013 Pinot Gris (Willamette Valley)</td>\n",
       "      <td>Pinot Gris</td>\n",
       "      <td>Rainstorm</td>\n",
       "    </tr>\n",
       "    <tr>\n",
       "      <th>3</th>\n",
       "      <td>US</td>\n",
       "      <td>Pineapple rind, lemon pith and orange blossom ...</td>\n",
       "      <td>Reserve Late Harvest</td>\n",
       "      <td>87</td>\n",
       "      <td>13.0</td>\n",
       "      <td>Michigan</td>\n",
       "      <td>Lake Michigan Shore</td>\n",
       "      <td>NaN</td>\n",
       "      <td>Alexander Peartree</td>\n",
       "      <td>NaN</td>\n",
       "      <td>St. Julian 2013 Reserve Late Harvest Riesling ...</td>\n",
       "      <td>Riesling</td>\n",
       "      <td>St. Julian</td>\n",
       "    </tr>\n",
       "    <tr>\n",
       "      <th>4</th>\n",
       "      <td>US</td>\n",
       "      <td>Much like the regular bottling from 2012, this...</td>\n",
       "      <td>Vintner's Reserve Wild Child Block</td>\n",
       "      <td>87</td>\n",
       "      <td>65.0</td>\n",
       "      <td>Oregon</td>\n",
       "      <td>Willamette Valley</td>\n",
       "      <td>Willamette Valley</td>\n",
       "      <td>Paul Gregutt</td>\n",
       "      <td>@paulgwine</td>\n",
       "      <td>Sweet Cheeks 2012 Vintner's Reserve Wild Child...</td>\n",
       "      <td>Pinot Noir</td>\n",
       "      <td>Sweet Cheeks</td>\n",
       "    </tr>\n",
       "  </tbody>\n",
       "</table>\n",
       "</div>"
      ],
      "text/plain": [
       "    country                                        description  \\\n",
       "0     Italy  Aromas include tropical fruit, broom, brimston...   \n",
       "1  Portugal  This is ripe and fruity, a wine that is smooth...   \n",
       "2        US  Tart and snappy, the flavors of lime flesh and...   \n",
       "3        US  Pineapple rind, lemon pith and orange blossom ...   \n",
       "4        US  Much like the regular bottling from 2012, this...   \n",
       "\n",
       "                          designation  points  price           province  \\\n",
       "0                        Vulkà Bianco      87    NaN  Sicily & Sardinia   \n",
       "1                            Avidagos      87   15.0              Douro   \n",
       "2                                 NaN      87   14.0             Oregon   \n",
       "3                Reserve Late Harvest      87   13.0           Michigan   \n",
       "4  Vintner's Reserve Wild Child Block      87   65.0             Oregon   \n",
       "\n",
       "              region_1           region_2         taster_name  \\\n",
       "0                 Etna                NaN       Kerin O’Keefe   \n",
       "1                  NaN                NaN          Roger Voss   \n",
       "2    Willamette Valley  Willamette Valley        Paul Gregutt   \n",
       "3  Lake Michigan Shore                NaN  Alexander Peartree   \n",
       "4    Willamette Valley  Willamette Valley        Paul Gregutt   \n",
       "\n",
       "  taster_twitter_handle                                              title  \\\n",
       "0          @kerinokeefe                  Nicosia 2013 Vulkà Bianco  (Etna)   \n",
       "1            @vossroger      Quinta dos Avidagos 2011 Avidagos Red (Douro)   \n",
       "2           @paulgwine       Rainstorm 2013 Pinot Gris (Willamette Valley)   \n",
       "3                   NaN  St. Julian 2013 Reserve Late Harvest Riesling ...   \n",
       "4           @paulgwine   Sweet Cheeks 2012 Vintner's Reserve Wild Child...   \n",
       "\n",
       "          variety               winery  \n",
       "0     White Blend              Nicosia  \n",
       "1  Portuguese Red  Quinta dos Avidagos  \n",
       "2      Pinot Gris            Rainstorm  \n",
       "3        Riesling           St. Julian  \n",
       "4      Pinot Noir         Sweet Cheeks  "
      ]
     },
     "execution_count": 2,
     "metadata": {},
     "output_type": "execute_result"
    }
   ],
   "source": [
    "reviews.head()"
   ]
  },
  {
   "cell_type": "markdown",
   "id": "f177b87b",
   "metadata": {
    "papermill": {
     "duration": 0.006442,
     "end_time": "2022-07-15T10:01:00.576578",
     "exception": false,
     "start_time": "2022-07-15T10:01:00.570136",
     "status": "completed"
    },
    "tags": []
   },
   "source": [
    "## 1.\n",
    "`region_1` and `region_2` are pretty uninformative names for locale columns in the dataset. Create a copy of `reviews` with these columns renamed to `region` and `locale`, respectively."
   ]
  },
  {
   "cell_type": "code",
   "execution_count": 3,
   "id": "148f7e35",
   "metadata": {
    "execution": {
     "iopub.execute_input": "2022-07-15T10:01:00.591337Z",
     "iopub.status.busy": "2022-07-15T10:01:00.590775Z",
     "iopub.status.idle": "2022-07-15T10:01:00.623063Z",
     "shell.execute_reply": "2022-07-15T10:01:00.621840Z"
    },
    "papermill": {
     "duration": 0.042347,
     "end_time": "2022-07-15T10:01:00.625192",
     "exception": false,
     "start_time": "2022-07-15T10:01:00.582845",
     "status": "completed"
    },
    "tags": []
   },
   "outputs": [
    {
     "data": {
      "application/javascript": [
       "parent.postMessage({\"jupyterEvent\": \"custom.exercise_interaction\", \"data\": {\"outcomeType\": 1, \"valueTowardsCompletion\": 0.25, \"interactionType\": 1, \"questionType\": 1, \"questionId\": \"1_RenameCols\", \"learnToolsVersion\": \"0.3.4\", \"failureMessage\": \"\", \"exceptionClass\": \"\", \"trace\": \"\"}}, \"*\")"
      ],
      "text/plain": [
       "<IPython.core.display.Javascript object>"
      ]
     },
     "metadata": {},
     "output_type": "display_data"
    },
    {
     "data": {
      "text/markdown": [
       "<span style=\"color:#33cc33\">Correct</span>"
      ],
      "text/plain": [
       "Correct"
      ]
     },
     "metadata": {},
     "output_type": "display_data"
    }
   ],
   "source": [
    "# Your code here\n",
    "renamed = reviews.rename(columns={'region_1':'region','region_2':'locale'})\n",
    "\n",
    "# Check your answer\n",
    "q1.check()"
   ]
  },
  {
   "cell_type": "code",
   "execution_count": 4,
   "id": "97b1e4f5",
   "metadata": {
    "execution": {
     "iopub.execute_input": "2022-07-15T10:01:00.639513Z",
     "iopub.status.busy": "2022-07-15T10:01:00.639113Z",
     "iopub.status.idle": "2022-07-15T10:01:00.643571Z",
     "shell.execute_reply": "2022-07-15T10:01:00.642481Z"
    },
    "papermill": {
     "duration": 0.014125,
     "end_time": "2022-07-15T10:01:00.645605",
     "exception": false,
     "start_time": "2022-07-15T10:01:00.631480",
     "status": "completed"
    },
    "tags": []
   },
   "outputs": [],
   "source": [
    "#q1.hint()\n",
    "#q1.solution()"
   ]
  },
  {
   "cell_type": "markdown",
   "id": "b4719a9b",
   "metadata": {
    "papermill": {
     "duration": 0.006074,
     "end_time": "2022-07-15T10:01:00.658110",
     "exception": false,
     "start_time": "2022-07-15T10:01:00.652036",
     "status": "completed"
    },
    "tags": []
   },
   "source": [
    "## 2.\n",
    "Set the index name in the dataset to `wines`."
   ]
  },
  {
   "cell_type": "code",
   "execution_count": 5,
   "id": "8c7ba323",
   "metadata": {
    "execution": {
     "iopub.execute_input": "2022-07-15T10:01:00.672515Z",
     "iopub.status.busy": "2022-07-15T10:01:00.672101Z",
     "iopub.status.idle": "2022-07-15T10:01:00.706223Z",
     "shell.execute_reply": "2022-07-15T10:01:00.705134Z"
    },
    "papermill": {
     "duration": 0.044291,
     "end_time": "2022-07-15T10:01:00.708707",
     "exception": false,
     "start_time": "2022-07-15T10:01:00.664416",
     "status": "completed"
    },
    "tags": []
   },
   "outputs": [
    {
     "data": {
      "application/javascript": [
       "parent.postMessage({\"jupyterEvent\": \"custom.exercise_interaction\", \"data\": {\"outcomeType\": 1, \"valueTowardsCompletion\": 0.25, \"interactionType\": 1, \"questionType\": 1, \"questionId\": \"2_RenameIndex\", \"learnToolsVersion\": \"0.3.4\", \"failureMessage\": \"\", \"exceptionClass\": \"\", \"trace\": \"\"}}, \"*\")"
      ],
      "text/plain": [
       "<IPython.core.display.Javascript object>"
      ]
     },
     "metadata": {},
     "output_type": "display_data"
    },
    {
     "data": {
      "text/markdown": [
       "<span style=\"color:#33cc33\">Correct</span>"
      ],
      "text/plain": [
       "Correct"
      ]
     },
     "metadata": {},
     "output_type": "display_data"
    }
   ],
   "source": [
    "reindexed = reviews.rename_axis('wines',axis='rows')\n",
    "\n",
    "# Check your answer\n",
    "q2.check()"
   ]
  },
  {
   "cell_type": "code",
   "execution_count": 6,
   "id": "791cd051",
   "metadata": {
    "execution": {
     "iopub.execute_input": "2022-07-15T10:01:00.724352Z",
     "iopub.status.busy": "2022-07-15T10:01:00.723711Z",
     "iopub.status.idle": "2022-07-15T10:01:00.727297Z",
     "shell.execute_reply": "2022-07-15T10:01:00.726553Z"
    },
    "papermill": {
     "duration": 0.013859,
     "end_time": "2022-07-15T10:01:00.729231",
     "exception": false,
     "start_time": "2022-07-15T10:01:00.715372",
     "status": "completed"
    },
    "tags": []
   },
   "outputs": [],
   "source": [
    "#q2.hint()\n",
    "#q2.solution()"
   ]
  },
  {
   "cell_type": "markdown",
   "id": "5a1f1af8",
   "metadata": {
    "papermill": {
     "duration": 0.006342,
     "end_time": "2022-07-15T10:01:00.742385",
     "exception": false,
     "start_time": "2022-07-15T10:01:00.736043",
     "status": "completed"
    },
    "tags": []
   },
   "source": [
    "## 3.\n",
    "The [Things on Reddit](https://www.kaggle.com/residentmario/things-on-reddit/data) dataset includes product links from a selection of top-ranked forums (\"subreddits\") on reddit.com. Run the cell below to load a dataframe of products mentioned on the */r/gaming* subreddit and another dataframe for products mentioned on the *r//movies* subreddit."
   ]
  },
  {
   "cell_type": "code",
   "execution_count": 7,
   "id": "91338ce1",
   "metadata": {
    "execution": {
     "iopub.execute_input": "2022-07-15T10:01:00.757684Z",
     "iopub.status.busy": "2022-07-15T10:01:00.757064Z",
     "iopub.status.idle": "2022-07-15T10:01:00.771495Z",
     "shell.execute_reply": "2022-07-15T10:01:00.770708Z"
    },
    "papermill": {
     "duration": 0.024652,
     "end_time": "2022-07-15T10:01:00.773769",
     "exception": false,
     "start_time": "2022-07-15T10:01:00.749117",
     "status": "completed"
    },
    "tags": []
   },
   "outputs": [],
   "source": [
    "gaming_products = pd.read_csv(\"../input/things-on-reddit/top-things/top-things/reddits/g/gaming.csv\")\n",
    "gaming_products['subreddit'] = \"r/gaming\"\n",
    "movie_products = pd.read_csv(\"../input/things-on-reddit/top-things/top-things/reddits/m/movies.csv\")\n",
    "movie_products['subreddit'] = \"r/movies\""
   ]
  },
  {
   "cell_type": "markdown",
   "id": "d8789dbf",
   "metadata": {
    "papermill": {
     "duration": 0.006468,
     "end_time": "2022-07-15T10:01:00.786967",
     "exception": false,
     "start_time": "2022-07-15T10:01:00.780499",
     "status": "completed"
    },
    "tags": []
   },
   "source": [
    "Create a `DataFrame` of products mentioned on *either* subreddit."
   ]
  },
  {
   "cell_type": "code",
   "execution_count": 8,
   "id": "d0e8020d",
   "metadata": {
    "execution": {
     "iopub.execute_input": "2022-07-15T10:01:00.802281Z",
     "iopub.status.busy": "2022-07-15T10:01:00.801662Z",
     "iopub.status.idle": "2022-07-15T10:01:00.813893Z",
     "shell.execute_reply": "2022-07-15T10:01:00.812913Z"
    },
    "papermill": {
     "duration": 0.022414,
     "end_time": "2022-07-15T10:01:00.816043",
     "exception": false,
     "start_time": "2022-07-15T10:01:00.793629",
     "status": "completed"
    },
    "tags": []
   },
   "outputs": [
    {
     "data": {
      "application/javascript": [
       "parent.postMessage({\"jupyterEvent\": \"custom.exercise_interaction\", \"data\": {\"outcomeType\": 1, \"valueTowardsCompletion\": 0.25, \"interactionType\": 1, \"questionType\": 2, \"questionId\": \"3_ConcatReddit\", \"learnToolsVersion\": \"0.3.4\", \"failureMessage\": \"\", \"exceptionClass\": \"\", \"trace\": \"\"}}, \"*\")"
      ],
      "text/plain": [
       "<IPython.core.display.Javascript object>"
      ]
     },
     "metadata": {},
     "output_type": "display_data"
    },
    {
     "data": {
      "text/markdown": [
       "<span style=\"color:#33cc33\">Correct</span>"
      ],
      "text/plain": [
       "Correct"
      ]
     },
     "metadata": {},
     "output_type": "display_data"
    }
   ],
   "source": [
    "combined_products = pd.concat([gaming_products,movie_products])\n",
    "\n",
    "# Check your answer\n",
    "q3.check()"
   ]
  },
  {
   "cell_type": "code",
   "execution_count": 9,
   "id": "88b53cf6",
   "metadata": {
    "execution": {
     "iopub.execute_input": "2022-07-15T10:01:00.832002Z",
     "iopub.status.busy": "2022-07-15T10:01:00.831385Z",
     "iopub.status.idle": "2022-07-15T10:01:00.834884Z",
     "shell.execute_reply": "2022-07-15T10:01:00.834151Z"
    },
    "papermill": {
     "duration": 0.013816,
     "end_time": "2022-07-15T10:01:00.836807",
     "exception": false,
     "start_time": "2022-07-15T10:01:00.822991",
     "status": "completed"
    },
    "tags": []
   },
   "outputs": [],
   "source": [
    "#q3.hint()\n",
    "#q3.solution()"
   ]
  },
  {
   "cell_type": "markdown",
   "id": "273caea9",
   "metadata": {
    "papermill": {
     "duration": 0.006657,
     "end_time": "2022-07-15T10:01:00.851005",
     "exception": false,
     "start_time": "2022-07-15T10:01:00.844348",
     "status": "completed"
    },
    "tags": []
   },
   "source": [
    "## 4.\n",
    "The [Powerlifting Database](https://www.kaggle.com/open-powerlifting/powerlifting-database) dataset on Kaggle includes one CSV table for powerlifting meets and a separate one for powerlifting competitors. Run the cell below to load these datasets into dataframes:"
   ]
  },
  {
   "cell_type": "code",
   "execution_count": 10,
   "id": "ddc62761",
   "metadata": {
    "execution": {
     "iopub.execute_input": "2022-07-15T10:01:00.866484Z",
     "iopub.status.busy": "2022-07-15T10:01:00.866062Z",
     "iopub.status.idle": "2022-07-15T10:01:01.712278Z",
     "shell.execute_reply": "2022-07-15T10:01:01.710867Z"
    },
    "papermill": {
     "duration": 0.857017,
     "end_time": "2022-07-15T10:01:01.714892",
     "exception": false,
     "start_time": "2022-07-15T10:01:00.857875",
     "status": "completed"
    },
    "tags": []
   },
   "outputs": [],
   "source": [
    "powerlifting_meets = pd.read_csv(\"../input/powerlifting-database/meets.csv\")\n",
    "powerlifting_competitors = pd.read_csv(\"../input/powerlifting-database/openpowerlifting.csv\")"
   ]
  },
  {
   "cell_type": "markdown",
   "id": "33def432",
   "metadata": {
    "papermill": {
     "duration": 0.007367,
     "end_time": "2022-07-15T10:01:01.729568",
     "exception": false,
     "start_time": "2022-07-15T10:01:01.722201",
     "status": "completed"
    },
    "tags": []
   },
   "source": [
    "Both tables include references to a `MeetID`, a unique key for each meet (competition) included in the database. Using this, generate a dataset combining the two tables into one."
   ]
  },
  {
   "cell_type": "code",
   "execution_count": 11,
   "id": "6467ef41",
   "metadata": {
    "execution": {
     "iopub.execute_input": "2022-07-15T10:01:01.745650Z",
     "iopub.status.busy": "2022-07-15T10:01:01.745244Z",
     "iopub.status.idle": "2022-07-15T10:01:02.812600Z",
     "shell.execute_reply": "2022-07-15T10:01:02.811276Z"
    },
    "papermill": {
     "duration": 1.078644,
     "end_time": "2022-07-15T10:01:02.815295",
     "exception": false,
     "start_time": "2022-07-15T10:01:01.736651",
     "status": "completed"
    },
    "tags": []
   },
   "outputs": [
    {
     "data": {
      "application/javascript": [
       "parent.postMessage({\"jupyterEvent\": \"custom.exercise_interaction\", \"data\": {\"outcomeType\": 1, \"valueTowardsCompletion\": 0.25, \"interactionType\": 1, \"questionType\": 2, \"questionId\": \"4_JoinLifting\", \"learnToolsVersion\": \"0.3.4\", \"failureMessage\": \"\", \"exceptionClass\": \"\", \"trace\": \"\"}}, \"*\")"
      ],
      "text/plain": [
       "<IPython.core.display.Javascript object>"
      ]
     },
     "metadata": {},
     "output_type": "display_data"
    },
    {
     "data": {
      "text/markdown": [
       "<span style=\"color:#33cc33\">Correct</span>"
      ],
      "text/plain": [
       "Correct"
      ]
     },
     "metadata": {},
     "output_type": "display_data"
    }
   ],
   "source": [
    "powerlifting_combined = powerlifting_meets.set_index(\"MeetID\").join(powerlifting_competitors.set_index(\"MeetID\"))\n",
    "\n",
    "# Check your answer\n",
    "q4.check()"
   ]
  },
  {
   "cell_type": "code",
   "execution_count": 12,
   "id": "ccff8588",
   "metadata": {
    "execution": {
     "iopub.execute_input": "2022-07-15T10:01:02.833241Z",
     "iopub.status.busy": "2022-07-15T10:01:02.832083Z",
     "iopub.status.idle": "2022-07-15T10:01:02.837366Z",
     "shell.execute_reply": "2022-07-15T10:01:02.836487Z"
    },
    "papermill": {
     "duration": 0.016705,
     "end_time": "2022-07-15T10:01:02.839735",
     "exception": false,
     "start_time": "2022-07-15T10:01:02.823030",
     "status": "completed"
    },
    "tags": []
   },
   "outputs": [],
   "source": [
    "#q4.hint()\n",
    "#q4.solution()"
   ]
  },
  {
   "cell_type": "markdown",
   "id": "f8243069",
   "metadata": {
    "papermill": {
     "duration": 0.007175,
     "end_time": "2022-07-15T10:01:02.854876",
     "exception": false,
     "start_time": "2022-07-15T10:01:02.847701",
     "status": "completed"
    },
    "tags": []
   },
   "source": [
    "# Congratulations!\n",
    "\n",
    "You've finished the Pandas micro-course.  Many data scientists feel efficiency with Pandas is the most useful and practical skill they have, because it allows you to progress quickly in any project you have.\n",
    "\n",
    "If you'd like to apply your new skills to examining geospatial data, you're encouraged to check out our **[Geospatial Analysis](https://www.kaggle.com/learn/geospatial-analysis)** micro-course.\n",
    "\n",
    "You can also take advantage of your Pandas skills by entering a **[Kaggle Competition](https://www.kaggle.com/competitions)** or by answering a question you find interesting using **[Kaggle Datasets](https://www.kaggle.com/datasets)**."
   ]
  },
  {
   "cell_type": "markdown",
   "id": "17339dcb",
   "metadata": {
    "papermill": {
     "duration": 0.007119,
     "end_time": "2022-07-15T10:01:02.869401",
     "exception": false,
     "start_time": "2022-07-15T10:01:02.862282",
     "status": "completed"
    },
    "tags": []
   },
   "source": [
    "---\n",
    "\n",
    "\n",
    "\n",
    "\n",
    "*Have questions or comments? Visit the [course discussion forum](https://www.kaggle.com/learn/pandas/discussion) to chat with other learners.*"
   ]
  }
 ],
 "metadata": {
  "kernelspec": {
   "display_name": "Python 3",
   "language": "python",
   "name": "python3"
  },
  "language_info": {
   "codemirror_mode": {
    "name": "ipython",
    "version": 3
   },
   "file_extension": ".py",
   "mimetype": "text/x-python",
   "name": "python",
   "nbconvert_exporter": "python",
   "pygments_lexer": "ipython3",
   "version": "3.7.12"
  },
  "papermill": {
   "default_parameters": {},
   "duration": 16.979537,
   "end_time": "2022-07-15T10:01:03.597834",
   "environment_variables": {},
   "exception": null,
   "input_path": "__notebook__.ipynb",
   "output_path": "__notebook__.ipynb",
   "parameters": {},
   "start_time": "2022-07-15T10:00:46.618297",
   "version": "2.3.4"
  }
 },
 "nbformat": 4,
 "nbformat_minor": 5
}

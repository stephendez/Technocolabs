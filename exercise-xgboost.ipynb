{
 "cells": [
  {
   "cell_type": "markdown",
   "id": "4bdf39c9",
   "metadata": {
    "papermill": {
     "duration": 0.007226,
     "end_time": "2022-07-15T18:32:57.623017",
     "exception": false,
     "start_time": "2022-07-15T18:32:57.615791",
     "status": "completed"
    },
    "tags": []
   },
   "source": [
    "**This notebook is an exercise in the [Intermediate Machine Learning](https://www.kaggle.com/learn/intermediate-machine-learning) course.  You can reference the tutorial at [this link](https://www.kaggle.com/alexisbcook/xgboost).**\n",
    "\n",
    "---\n"
   ]
  },
  {
   "cell_type": "markdown",
   "id": "ef20e28d",
   "metadata": {
    "papermill": {
     "duration": 0.005896,
     "end_time": "2022-07-15T18:32:57.635241",
     "exception": false,
     "start_time": "2022-07-15T18:32:57.629345",
     "status": "completed"
    },
    "tags": []
   },
   "source": [
    "In this exercise, you will use your new knowledge to train a model with **gradient boosting**.\n",
    "\n",
    "# Setup\n",
    "\n",
    "The questions below will give you feedback on your work. Run the following cell to set up the feedback system."
   ]
  },
  {
   "cell_type": "code",
   "execution_count": 1,
   "id": "31e211aa",
   "metadata": {
    "execution": {
     "iopub.execute_input": "2022-07-15T18:32:57.650898Z",
     "iopub.status.busy": "2022-07-15T18:32:57.650011Z",
     "iopub.status.idle": "2022-07-15T18:33:00.255147Z",
     "shell.execute_reply": "2022-07-15T18:33:00.254118Z"
    },
    "papermill": {
     "duration": 2.61646,
     "end_time": "2022-07-15T18:33:00.258076",
     "exception": false,
     "start_time": "2022-07-15T18:32:57.641616",
     "status": "completed"
    },
    "tags": []
   },
   "outputs": [
    {
     "name": "stdout",
     "output_type": "stream",
     "text": [
      "Setup Complete\n"
     ]
    }
   ],
   "source": [
    "# Set up code checking\n",
    "import os\n",
    "if not os.path.exists(\"../input/train.csv\"):\n",
    "    os.symlink(\"../input/home-data-for-ml-course/train.csv\", \"../input/train.csv\")  \n",
    "    os.symlink(\"../input/home-data-for-ml-course/test.csv\", \"../input/test.csv\") \n",
    "from learntools.core import binder\n",
    "binder.bind(globals())\n",
    "from learntools.ml_intermediate.ex6 import *\n",
    "print(\"Setup Complete\")"
   ]
  },
  {
   "cell_type": "markdown",
   "id": "26eca105",
   "metadata": {
    "papermill": {
     "duration": 0.00597,
     "end_time": "2022-07-15T18:33:00.270985",
     "exception": false,
     "start_time": "2022-07-15T18:33:00.265015",
     "status": "completed"
    },
    "tags": []
   },
   "source": [
    "You will work with the [Housing Prices Competition for Kaggle Learn Users](https://www.kaggle.com/c/home-data-for-ml-course) dataset from the previous exercise. \n",
    "\n",
    "![Ames Housing dataset image](https://i.imgur.com/lTJVG4e.png)\n",
    "\n",
    "Run the next code cell without changes to load the training and validation sets in `X_train`, `X_valid`, `y_train`, and `y_valid`.  The test set is loaded in `X_test`."
   ]
  },
  {
   "cell_type": "code",
   "execution_count": 2,
   "id": "5eeae8c0",
   "metadata": {
    "execution": {
     "iopub.execute_input": "2022-07-15T18:33:00.284955Z",
     "iopub.status.busy": "2022-07-15T18:33:00.284532Z",
     "iopub.status.idle": "2022-07-15T18:33:00.480812Z",
     "shell.execute_reply": "2022-07-15T18:33:00.479454Z"
    },
    "papermill": {
     "duration": 0.206418,
     "end_time": "2022-07-15T18:33:00.483502",
     "exception": false,
     "start_time": "2022-07-15T18:33:00.277084",
     "status": "completed"
    },
    "tags": []
   },
   "outputs": [],
   "source": [
    "import pandas as pd\n",
    "from sklearn.model_selection import train_test_split\n",
    "\n",
    "# Read the data\n",
    "X = pd.read_csv('../input/train.csv', index_col='Id')\n",
    "X_test_full = pd.read_csv('../input/test.csv', index_col='Id')\n",
    "\n",
    "# Remove rows with missing target, separate target from predictors\n",
    "X.dropna(axis=0, subset=['SalePrice'], inplace=True)\n",
    "y = X.SalePrice              \n",
    "X.drop(['SalePrice'], axis=1, inplace=True)\n",
    "\n",
    "# Break off validation set from training data\n",
    "X_train_full, X_valid_full, y_train, y_valid = train_test_split(X, y, train_size=0.8, test_size=0.2,\n",
    "                                                                random_state=0)\n",
    "\n",
    "# \"Cardinality\" means the number of unique values in a column\n",
    "# Select categorical columns with relatively low cardinality (convenient but arbitrary)\n",
    "low_cardinality_cols = [cname for cname in X_train_full.columns if X_train_full[cname].nunique() < 10 and \n",
    "                        X_train_full[cname].dtype == \"object\"]\n",
    "\n",
    "# Select numeric columns\n",
    "numeric_cols = [cname for cname in X_train_full.columns if X_train_full[cname].dtype in ['int64', 'float64']]\n",
    "\n",
    "# Keep selected columns only\n",
    "my_cols = low_cardinality_cols + numeric_cols\n",
    "X_train = X_train_full[my_cols].copy()\n",
    "X_valid = X_valid_full[my_cols].copy()\n",
    "X_test = X_test_full[my_cols].copy()\n",
    "\n",
    "# One-hot encode the data (to shorten the code, we use pandas)\n",
    "X_train = pd.get_dummies(X_train)\n",
    "X_valid = pd.get_dummies(X_valid)\n",
    "X_test = pd.get_dummies(X_test)\n",
    "X_train, X_valid = X_train.align(X_valid, join='left', axis=1)\n",
    "X_train, X_test = X_train.align(X_test, join='left', axis=1)"
   ]
  },
  {
   "cell_type": "markdown",
   "id": "aa142e78",
   "metadata": {
    "papermill": {
     "duration": 0.006212,
     "end_time": "2022-07-15T18:33:00.495805",
     "exception": false,
     "start_time": "2022-07-15T18:33:00.489593",
     "status": "completed"
    },
    "tags": []
   },
   "source": [
    "# Step 1: Build model\n",
    "\n",
    "### Part A\n",
    "\n",
    "In this step, you'll build and train your first model with gradient boosting.\n",
    "\n",
    "- Begin by setting `my_model_1` to an XGBoost model.  Use the [XGBRegressor](https://xgboost.readthedocs.io/en/latest/python/python_api.html#xgboost.XGBRegressor) class, and set the random seed to 0 (`random_state=0`).  **Leave all other parameters as default.**\n",
    "- Then, fit the model to the training data in `X_train` and `y_train`."
   ]
  },
  {
   "cell_type": "code",
   "execution_count": 3,
   "id": "67aadc3a",
   "metadata": {
    "execution": {
     "iopub.execute_input": "2022-07-15T18:33:00.509574Z",
     "iopub.status.busy": "2022-07-15T18:33:00.509154Z",
     "iopub.status.idle": "2022-07-15T18:33:01.443168Z",
     "shell.execute_reply": "2022-07-15T18:33:01.442274Z"
    },
    "papermill": {
     "duration": 0.94387,
     "end_time": "2022-07-15T18:33:01.445690",
     "exception": false,
     "start_time": "2022-07-15T18:33:00.501820",
     "status": "completed"
    },
    "tags": []
   },
   "outputs": [
    {
     "data": {
      "application/javascript": [
       "parent.postMessage({\"jupyterEvent\": \"custom.exercise_interaction\", \"data\": {\"outcomeType\": 1, \"valueTowardsCompletion\": 0.5, \"interactionType\": 1, \"questionType\": 2, \"questionId\": \"1.1_Model1A\", \"learnToolsVersion\": \"0.3.4\", \"failureMessage\": \"\", \"exceptionClass\": \"\", \"trace\": \"\"}}, \"*\")"
      ],
      "text/plain": [
       "<IPython.core.display.Javascript object>"
      ]
     },
     "metadata": {},
     "output_type": "display_data"
    },
    {
     "data": {
      "text/markdown": [
       "<span style=\"color:#33cc33\">Correct</span>"
      ],
      "text/plain": [
       "Correct"
      ]
     },
     "metadata": {},
     "output_type": "display_data"
    }
   ],
   "source": [
    "from xgboost import XGBRegressor\n",
    "\n",
    "# Define the model\n",
    "my_model_1 = XGBRegressor(random_state=0) # Your code here\n",
    "\n",
    "# Fit the model\n",
    "my_model_1.fit(X_train, y_train) # Your code here\n",
    "\n",
    "# Check your answer\n",
    "step_1.a.check()"
   ]
  },
  {
   "cell_type": "code",
   "execution_count": 4,
   "id": "0b7ff906",
   "metadata": {
    "execution": {
     "iopub.execute_input": "2022-07-15T18:33:01.460318Z",
     "iopub.status.busy": "2022-07-15T18:33:01.459934Z",
     "iopub.status.idle": "2022-07-15T18:33:01.464375Z",
     "shell.execute_reply": "2022-07-15T18:33:01.463204Z"
    },
    "papermill": {
     "duration": 0.014527,
     "end_time": "2022-07-15T18:33:01.466615",
     "exception": false,
     "start_time": "2022-07-15T18:33:01.452088",
     "status": "completed"
    },
    "tags": []
   },
   "outputs": [],
   "source": [
    "# Lines below will give you a hint or solution code\n",
    "#step_1.a.hint()\n",
    "#step_1.a.solution()"
   ]
  },
  {
   "cell_type": "markdown",
   "id": "dbc8c005",
   "metadata": {
    "papermill": {
     "duration": 0.005994,
     "end_time": "2022-07-15T18:33:01.478997",
     "exception": false,
     "start_time": "2022-07-15T18:33:01.473003",
     "status": "completed"
    },
    "tags": []
   },
   "source": [
    "### Part B\n",
    "\n",
    "Set `predictions_1` to the model's predictions for the validation data.  Recall that the validation features are stored in `X_valid`."
   ]
  },
  {
   "cell_type": "code",
   "execution_count": 5,
   "id": "a0451049",
   "metadata": {
    "execution": {
     "iopub.execute_input": "2022-07-15T18:33:01.493440Z",
     "iopub.status.busy": "2022-07-15T18:33:01.493076Z",
     "iopub.status.idle": "2022-07-15T18:33:01.528048Z",
     "shell.execute_reply": "2022-07-15T18:33:01.527095Z"
    },
    "papermill": {
     "duration": 0.044969,
     "end_time": "2022-07-15T18:33:01.530539",
     "exception": false,
     "start_time": "2022-07-15T18:33:01.485570",
     "status": "completed"
    },
    "tags": []
   },
   "outputs": [
    {
     "data": {
      "application/javascript": [
       "parent.postMessage({\"jupyterEvent\": \"custom.exercise_interaction\", \"data\": {\"outcomeType\": 1, \"valueTowardsCompletion\": 0.5, \"interactionType\": 1, \"questionType\": 2, \"questionId\": \"1.2_Model1B\", \"learnToolsVersion\": \"0.3.4\", \"failureMessage\": \"\", \"exceptionClass\": \"\", \"trace\": \"\"}}, \"*\")"
      ],
      "text/plain": [
       "<IPython.core.display.Javascript object>"
      ]
     },
     "metadata": {},
     "output_type": "display_data"
    },
    {
     "data": {
      "text/markdown": [
       "<span style=\"color:#33cc33\">Correct</span>"
      ],
      "text/plain": [
       "Correct"
      ]
     },
     "metadata": {},
     "output_type": "display_data"
    }
   ],
   "source": [
    "from sklearn.metrics import mean_absolute_error\n",
    "\n",
    "# Get predictions\n",
    "predictions_1 = my_model_1.predict(X_valid) # Your code here\n",
    "\n",
    "# Check your answer\n",
    "step_1.b.check()"
   ]
  },
  {
   "cell_type": "code",
   "execution_count": 6,
   "id": "897b9884",
   "metadata": {
    "execution": {
     "iopub.execute_input": "2022-07-15T18:33:01.546492Z",
     "iopub.status.busy": "2022-07-15T18:33:01.546125Z",
     "iopub.status.idle": "2022-07-15T18:33:01.550395Z",
     "shell.execute_reply": "2022-07-15T18:33:01.549540Z"
    },
    "papermill": {
     "duration": 0.014453,
     "end_time": "2022-07-15T18:33:01.552611",
     "exception": false,
     "start_time": "2022-07-15T18:33:01.538158",
     "status": "completed"
    },
    "tags": []
   },
   "outputs": [],
   "source": [
    "# Lines below will give you a hint or solution code\n",
    "#step_1.b.hint()\n",
    "#step_1.b.solution()"
   ]
  },
  {
   "cell_type": "markdown",
   "id": "6c366afd",
   "metadata": {
    "papermill": {
     "duration": 0.006819,
     "end_time": "2022-07-15T18:33:01.566327",
     "exception": false,
     "start_time": "2022-07-15T18:33:01.559508",
     "status": "completed"
    },
    "tags": []
   },
   "source": [
    "### Part C\n",
    "\n",
    "Finally, use the `mean_absolute_error()` function to calculate the mean absolute error (MAE) corresponding to the predictions for the validation set.  Recall that the labels for the validation data are stored in `y_valid`."
   ]
  },
  {
   "cell_type": "code",
   "execution_count": 7,
   "id": "3f10c910",
   "metadata": {
    "execution": {
     "iopub.execute_input": "2022-07-15T18:33:01.581794Z",
     "iopub.status.busy": "2022-07-15T18:33:01.581074Z",
     "iopub.status.idle": "2022-07-15T18:33:01.593385Z",
     "shell.execute_reply": "2022-07-15T18:33:01.592021Z"
    },
    "papermill": {
     "duration": 0.022922,
     "end_time": "2022-07-15T18:33:01.596114",
     "exception": false,
     "start_time": "2022-07-15T18:33:01.573192",
     "status": "completed"
    },
    "tags": []
   },
   "outputs": [
    {
     "name": "stdout",
     "output_type": "stream",
     "text": [
      "Mean Absolute Error: 17662.736729452055\n"
     ]
    },
    {
     "data": {
      "application/javascript": [
       "parent.postMessage({\"jupyterEvent\": \"custom.exercise_interaction\", \"data\": {\"outcomeType\": 1, \"valueTowardsCompletion\": 0.5, \"interactionType\": 1, \"questionType\": 2, \"questionId\": \"1.3_Model1C\", \"learnToolsVersion\": \"0.3.4\", \"failureMessage\": \"\", \"exceptionClass\": \"\", \"trace\": \"\"}}, \"*\")"
      ],
      "text/plain": [
       "<IPython.core.display.Javascript object>"
      ]
     },
     "metadata": {},
     "output_type": "display_data"
    },
    {
     "data": {
      "text/markdown": [
       "<span style=\"color:#33cc33\">Correct</span>"
      ],
      "text/plain": [
       "Correct"
      ]
     },
     "metadata": {},
     "output_type": "display_data"
    }
   ],
   "source": [
    "# Calculate MAE\n",
    "mae_1 = mean_absolute_error(predictions_1, y_valid) # Your code here\n",
    "\n",
    "# Uncomment to print MAE\n",
    "print(\"Mean Absolute Error:\" , mae_1)\n",
    "\n",
    "# Check your answer\n",
    "step_1.c.check()"
   ]
  },
  {
   "cell_type": "code",
   "execution_count": 8,
   "id": "0a3ad99b",
   "metadata": {
    "execution": {
     "iopub.execute_input": "2022-07-15T18:33:01.612905Z",
     "iopub.status.busy": "2022-07-15T18:33:01.612104Z",
     "iopub.status.idle": "2022-07-15T18:33:01.616924Z",
     "shell.execute_reply": "2022-07-15T18:33:01.616052Z"
    },
    "papermill": {
     "duration": 0.01575,
     "end_time": "2022-07-15T18:33:01.619178",
     "exception": false,
     "start_time": "2022-07-15T18:33:01.603428",
     "status": "completed"
    },
    "tags": []
   },
   "outputs": [],
   "source": [
    "# Lines below will give you a hint or solution code\n",
    "#step_1.c.hint()\n",
    "#step_1.c.solution()"
   ]
  },
  {
   "cell_type": "markdown",
   "id": "636aa53b",
   "metadata": {
    "papermill": {
     "duration": 0.006751,
     "end_time": "2022-07-15T18:33:01.633014",
     "exception": false,
     "start_time": "2022-07-15T18:33:01.626263",
     "status": "completed"
    },
    "tags": []
   },
   "source": [
    "# Step 2: Improve the model\n",
    "\n",
    "Now that you've trained a default model as baseline, it's time to tinker with the parameters, to see if you can get better performance!\n",
    "- Begin by setting `my_model_2` to an XGBoost model, using the [XGBRegressor](https://xgboost.readthedocs.io/en/latest/python/python_api.html#xgboost.XGBRegressor) class.  Use what you learned in the previous tutorial to figure out how to change the default parameters (like `n_estimators` and `learning_rate`) to get better results.\n",
    "- Then, fit the model to the training data in `X_train` and `y_train`.\n",
    "- Set `predictions_2` to the model's predictions for the validation data.  Recall that the validation features are stored in `X_valid`.\n",
    "- Finally, use the `mean_absolute_error()` function to calculate the mean absolute error (MAE) corresponding to the predictions on the validation set.  Recall that the labels for the validation data are stored in `y_valid`.\n",
    "\n",
    "In order for this step to be marked correct, your model in `my_model_2` must attain lower MAE than the model in `my_model_1`. "
   ]
  },
  {
   "cell_type": "code",
   "execution_count": 9,
   "id": "8cb4121c",
   "metadata": {
    "execution": {
     "iopub.execute_input": "2022-07-15T18:33:01.649212Z",
     "iopub.status.busy": "2022-07-15T18:33:01.648240Z",
     "iopub.status.idle": "2022-07-15T18:33:11.814857Z",
     "shell.execute_reply": "2022-07-15T18:33:11.813698Z"
    },
    "papermill": {
     "duration": 10.177317,
     "end_time": "2022-07-15T18:33:11.817349",
     "exception": false,
     "start_time": "2022-07-15T18:33:01.640032",
     "status": "completed"
    },
    "tags": []
   },
   "outputs": [
    {
     "name": "stdout",
     "output_type": "stream",
     "text": [
      "Mean Absolute Error: 16688.691513270547\n"
     ]
    },
    {
     "data": {
      "application/javascript": [
       "parent.postMessage({\"jupyterEvent\": \"custom.exercise_interaction\", \"data\": {\"outcomeType\": 1, \"valueTowardsCompletion\": 0.5, \"interactionType\": 1, \"questionType\": 2, \"questionId\": \"2_Model2\", \"learnToolsVersion\": \"0.3.4\", \"failureMessage\": \"\", \"exceptionClass\": \"\", \"trace\": \"\"}}, \"*\")"
      ],
      "text/plain": [
       "<IPython.core.display.Javascript object>"
      ]
     },
     "metadata": {},
     "output_type": "display_data"
    },
    {
     "data": {
      "text/markdown": [
       "<span style=\"color:#33cc33\">Correct</span>"
      ],
      "text/plain": [
       "Correct"
      ]
     },
     "metadata": {},
     "output_type": "display_data"
    }
   ],
   "source": [
    "# Define the model\n",
    "my_model_2 = XGBRegressor(n_estimators=1000, learning_rate=0.05) # Your code here\n",
    "\n",
    "# Fit the model\n",
    "my_model_2.fit(X_train, y_train) # Your code here\n",
    "\n",
    "# Get predictions\n",
    "predictions_2 = my_model_2.predict(X_valid) # Your code here\n",
    "\n",
    "# Calculate MAE\n",
    "mae_2 = mean_absolute_error(predictions_2, y_valid) # Your code here\n",
    "\n",
    "# Uncomment to print MAE\n",
    "print(\"Mean Absolute Error:\" , mae_2)\n",
    "\n",
    "# Check your answer\n",
    "step_2.check()"
   ]
  },
  {
   "cell_type": "code",
   "execution_count": 10,
   "id": "7e5fe56f",
   "metadata": {
    "execution": {
     "iopub.execute_input": "2022-07-15T18:33:11.835521Z",
     "iopub.status.busy": "2022-07-15T18:33:11.834585Z",
     "iopub.status.idle": "2022-07-15T18:33:11.839224Z",
     "shell.execute_reply": "2022-07-15T18:33:11.838127Z"
    },
    "papermill": {
     "duration": 0.015946,
     "end_time": "2022-07-15T18:33:11.841383",
     "exception": false,
     "start_time": "2022-07-15T18:33:11.825437",
     "status": "completed"
    },
    "tags": []
   },
   "outputs": [],
   "source": [
    "# Lines below will give you a hint or solution code\n",
    "#step_2.hint()\n",
    "#step_2.solution()"
   ]
  },
  {
   "cell_type": "markdown",
   "id": "746f1c1c",
   "metadata": {
    "papermill": {
     "duration": 0.006878,
     "end_time": "2022-07-15T18:33:11.855560",
     "exception": false,
     "start_time": "2022-07-15T18:33:11.848682",
     "status": "completed"
    },
    "tags": []
   },
   "source": [
    "# Step 3: Break the model\n",
    "\n",
    "In this step, you will create a model that performs worse than the original model in Step 1.  This will help you to develop your intuition for how to set parameters.  You might even find that you accidentally get better performance, which is ultimately a nice problem to have and a valuable learning experience!\n",
    "- Begin by setting `my_model_3` to an XGBoost model, using the [XGBRegressor](https://xgboost.readthedocs.io/en/latest/python/python_api.html#xgboost.XGBRegressor) class.  Use what you learned in the previous tutorial to figure out how to change the default parameters (like `n_estimators` and `learning_rate`) to design a model to get high MAE.\n",
    "- Then, fit the model to the training data in `X_train` and `y_train`.\n",
    "- Set `predictions_3` to the model's predictions for the validation data.  Recall that the validation features are stored in `X_valid`.\n",
    "- Finally, use the `mean_absolute_error()` function to calculate the mean absolute error (MAE) corresponding to the predictions on the validation set.  Recall that the labels for the validation data are stored in `y_valid`.\n",
    "\n",
    "In order for this step to be marked correct, your model in `my_model_3` must attain higher MAE than the model in `my_model_1`. "
   ]
  },
  {
   "cell_type": "code",
   "execution_count": 11,
   "id": "5dd86bf5",
   "metadata": {
    "execution": {
     "iopub.execute_input": "2022-07-15T18:33:11.871968Z",
     "iopub.status.busy": "2022-07-15T18:33:11.871234Z",
     "iopub.status.idle": "2022-07-15T18:33:11.940366Z",
     "shell.execute_reply": "2022-07-15T18:33:11.939292Z"
    },
    "papermill": {
     "duration": 0.079932,
     "end_time": "2022-07-15T18:33:11.942791",
     "exception": false,
     "start_time": "2022-07-15T18:33:11.862859",
     "status": "completed"
    },
    "tags": []
   },
   "outputs": [
    {
     "name": "stdout",
     "output_type": "stream",
     "text": [
      "Mean Absolute Error: 127895.0828807256\n"
     ]
    },
    {
     "data": {
      "application/javascript": [
       "parent.postMessage({\"jupyterEvent\": \"custom.exercise_interaction\", \"data\": {\"outcomeType\": 1, \"valueTowardsCompletion\": 0.5, \"interactionType\": 1, \"questionType\": 2, \"questionId\": \"3_Model3\", \"learnToolsVersion\": \"0.3.4\", \"failureMessage\": \"\", \"exceptionClass\": \"\", \"trace\": \"\"}}, \"*\")"
      ],
      "text/plain": [
       "<IPython.core.display.Javascript object>"
      ]
     },
     "metadata": {},
     "output_type": "display_data"
    },
    {
     "data": {
      "text/markdown": [
       "<span style=\"color:#33cc33\">Correct</span>"
      ],
      "text/plain": [
       "Correct"
      ]
     },
     "metadata": {},
     "output_type": "display_data"
    }
   ],
   "source": [
    "# Define the model\n",
    "my_model_3 = XGBRegressor(n_estimators=1)\n",
    "\n",
    "# Fit the model\n",
    "my_model_3.fit(X_train, y_train) # Your code here\n",
    "\n",
    "# Get predictions\n",
    "predictions_3 = my_model_3.predict(X_valid)\n",
    "\n",
    "# Calculate MAE\n",
    "mae_3 = mean_absolute_error(predictions_3, y_valid)\n",
    "\n",
    "# Uncomment to print MAE\n",
    "print(\"Mean Absolute Error:\" , mae_3)\n",
    "\n",
    "# Check your answer\n",
    "step_3.check()"
   ]
  },
  {
   "cell_type": "code",
   "execution_count": 12,
   "id": "47294554",
   "metadata": {
    "execution": {
     "iopub.execute_input": "2022-07-15T18:33:11.961185Z",
     "iopub.status.busy": "2022-07-15T18:33:11.960366Z",
     "iopub.status.idle": "2022-07-15T18:33:11.964949Z",
     "shell.execute_reply": "2022-07-15T18:33:11.964097Z"
    },
    "papermill": {
     "duration": 0.015479,
     "end_time": "2022-07-15T18:33:11.966894",
     "exception": false,
     "start_time": "2022-07-15T18:33:11.951415",
     "status": "completed"
    },
    "tags": []
   },
   "outputs": [],
   "source": [
    "# Lines below will give you a hint or solution code\n",
    "#step_3.hint()\n",
    "#step_3.solution()"
   ]
  },
  {
   "cell_type": "markdown",
   "id": "e8ef55bf",
   "metadata": {
    "papermill": {
     "duration": 0.007383,
     "end_time": "2022-07-15T18:33:11.981921",
     "exception": false,
     "start_time": "2022-07-15T18:33:11.974538",
     "status": "completed"
    },
    "tags": []
   },
   "source": [
    "# Keep going\n",
    "\n",
    "Continue to learn about **[data leakage](https://www.kaggle.com/alexisbcook/data-leakage)**.  This is an important issue for a data scientist to understand, and it has the potential to ruin your models in subtle and dangerous ways!"
   ]
  },
  {
   "cell_type": "markdown",
   "id": "3891d5e3",
   "metadata": {
    "papermill": {
     "duration": 0.007429,
     "end_time": "2022-07-15T18:33:11.997040",
     "exception": false,
     "start_time": "2022-07-15T18:33:11.989611",
     "status": "completed"
    },
    "tags": []
   },
   "source": [
    "---\n",
    "\n",
    "\n",
    "\n",
    "\n",
    "*Have questions or comments? Visit the [course discussion forum](https://www.kaggle.com/learn/intermediate-machine-learning/discussion) to chat with other learners.*"
   ]
  }
 ],
 "metadata": {
  "kernelspec": {
   "display_name": "Python 3",
   "language": "python",
   "name": "python3"
  },
  "language_info": {
   "codemirror_mode": {
    "name": "ipython",
    "version": 3
   },
   "file_extension": ".py",
   "mimetype": "text/x-python",
   "name": "python",
   "nbconvert_exporter": "python",
   "pygments_lexer": "ipython3",
   "version": "3.7.12"
  },
  "papermill": {
   "default_parameters": {},
   "duration": 25.919678,
   "end_time": "2022-07-15T18:33:12.726144",
   "environment_variables": {},
   "exception": null,
   "input_path": "__notebook__.ipynb",
   "output_path": "__notebook__.ipynb",
   "parameters": {},
   "start_time": "2022-07-15T18:32:46.806466",
   "version": "2.3.4"
  }
 },
 "nbformat": 4,
 "nbformat_minor": 5
}

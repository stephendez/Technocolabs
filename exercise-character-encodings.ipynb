{
 "cells": [
  {
   "cell_type": "markdown",
   "id": "bdb9336a",
   "metadata": {
    "papermill": {
     "duration": 0.004919,
     "end_time": "2022-07-10T12:16:29.160235",
     "exception": false,
     "start_time": "2022-07-10T12:16:29.155316",
     "status": "completed"
    },
    "tags": []
   },
   "source": [
    "**This notebook is an exercise in the [Data Cleaning](https://www.kaggle.com/learn/data-cleaning) course.  You can reference the tutorial at [this link](https://www.kaggle.com/alexisbcook/character-encodings).**\n",
    "\n",
    "---\n"
   ]
  },
  {
   "cell_type": "markdown",
   "id": "ce1a8744",
   "metadata": {
    "papermill": {
     "duration": 0.003433,
     "end_time": "2022-07-10T12:16:29.167706",
     "exception": false,
     "start_time": "2022-07-10T12:16:29.164273",
     "status": "completed"
    },
    "tags": []
   },
   "source": [
    "In this exercise, you'll apply what you learned in the **Character encodings** tutorial.\n",
    "\n",
    "# Setup\n",
    "\n",
    "The questions below will give you feedback on your work. Run the following cell to set up the feedback system."
   ]
  },
  {
   "cell_type": "code",
   "execution_count": 1,
   "id": "1a29eef2",
   "metadata": {
    "execution": {
     "iopub.execute_input": "2022-07-10T12:16:29.177766Z",
     "iopub.status.busy": "2022-07-10T12:16:29.176666Z",
     "iopub.status.idle": "2022-07-10T12:16:29.264627Z",
     "shell.execute_reply": "2022-07-10T12:16:29.263778Z"
    },
    "papermill": {
     "duration": 0.096308,
     "end_time": "2022-07-10T12:16:29.267908",
     "exception": false,
     "start_time": "2022-07-10T12:16:29.171600",
     "status": "completed"
    },
    "tags": []
   },
   "outputs": [
    {
     "name": "stdout",
     "output_type": "stream",
     "text": [
      "Setup Complete\n"
     ]
    }
   ],
   "source": [
    "from learntools.core import binder\n",
    "binder.bind(globals())\n",
    "from learntools.data_cleaning.ex4 import *\n",
    "print(\"Setup Complete\")"
   ]
  },
  {
   "cell_type": "markdown",
   "id": "265d9aa9",
   "metadata": {
    "papermill": {
     "duration": 0.005364,
     "end_time": "2022-07-10T12:16:29.278419",
     "exception": false,
     "start_time": "2022-07-10T12:16:29.273055",
     "status": "completed"
    },
    "tags": []
   },
   "source": [
    "# Get our environment set up\n",
    "\n",
    "The first thing we'll need to do is load in the libraries we'll be using."
   ]
  },
  {
   "cell_type": "code",
   "execution_count": 2,
   "id": "46ce823f",
   "metadata": {
    "execution": {
     "iopub.execute_input": "2022-07-10T12:16:29.288571Z",
     "iopub.status.busy": "2022-07-10T12:16:29.287912Z",
     "iopub.status.idle": "2022-07-10T12:16:29.293598Z",
     "shell.execute_reply": "2022-07-10T12:16:29.292584Z"
    },
    "papermill": {
     "duration": 0.013437,
     "end_time": "2022-07-10T12:16:29.295653",
     "exception": false,
     "start_time": "2022-07-10T12:16:29.282216",
     "status": "completed"
    },
    "tags": []
   },
   "outputs": [],
   "source": [
    "# modules we'll use\n",
    "import pandas as pd\n",
    "import numpy as np\n",
    "\n",
    "# helpful character encoding module\n",
    "import chardet\n",
    "\n",
    "# set seed for reproducibility\n",
    "np.random.seed(0)"
   ]
  },
  {
   "cell_type": "markdown",
   "id": "7d9abc58",
   "metadata": {
    "papermill": {
     "duration": 0.003599,
     "end_time": "2022-07-10T12:16:29.303188",
     "exception": false,
     "start_time": "2022-07-10T12:16:29.299589",
     "status": "completed"
    },
    "tags": []
   },
   "source": [
    "# 1) What are encodings?\n",
    "\n",
    "You're working with a dataset composed of bytes.  Run the code cell below to print a sample entry."
   ]
  },
  {
   "cell_type": "code",
   "execution_count": 3,
   "id": "4dfea4c6",
   "metadata": {
    "execution": {
     "iopub.execute_input": "2022-07-10T12:16:29.312425Z",
     "iopub.status.busy": "2022-07-10T12:16:29.311742Z",
     "iopub.status.idle": "2022-07-10T12:16:29.316911Z",
     "shell.execute_reply": "2022-07-10T12:16:29.316273Z"
    },
    "papermill": {
     "duration": 0.012719,
     "end_time": "2022-07-10T12:16:29.319556",
     "exception": false,
     "start_time": "2022-07-10T12:16:29.306837",
     "status": "completed"
    },
    "tags": []
   },
   "outputs": [
    {
     "name": "stdout",
     "output_type": "stream",
     "text": [
      "b'\\xa7A\\xa6n'\n",
      "data type: <class 'bytes'>\n"
     ]
    }
   ],
   "source": [
    "sample_entry = b'\\xa7A\\xa6n'\n",
    "print(sample_entry)\n",
    "print('data type:', type(sample_entry))"
   ]
  },
  {
   "cell_type": "markdown",
   "id": "66b70867",
   "metadata": {
    "papermill": {
     "duration": 0.005313,
     "end_time": "2022-07-10T12:16:29.330313",
     "exception": false,
     "start_time": "2022-07-10T12:16:29.325000",
     "status": "completed"
    },
    "tags": []
   },
   "source": [
    "You notice that it doesn't use the standard UTF-8 encoding. \n",
    "\n",
    "Use the next code cell to create a variable `new_entry` that changes the encoding from `\"big5-tw\"` to `\"utf-8\"`.  `new_entry` should have the bytes datatype."
   ]
  },
  {
   "cell_type": "code",
   "execution_count": 4,
   "id": "e3b7ec70",
   "metadata": {
    "execution": {
     "iopub.execute_input": "2022-07-10T12:16:29.340019Z",
     "iopub.status.busy": "2022-07-10T12:16:29.339008Z",
     "iopub.status.idle": "2022-07-10T12:16:29.348834Z",
     "shell.execute_reply": "2022-07-10T12:16:29.348133Z"
    },
    "papermill": {
     "duration": 0.016444,
     "end_time": "2022-07-10T12:16:29.350562",
     "exception": false,
     "start_time": "2022-07-10T12:16:29.334118",
     "status": "completed"
    },
    "tags": []
   },
   "outputs": [
    {
     "data": {
      "application/javascript": [
       "parent.postMessage({\"jupyterEvent\": \"custom.exercise_interaction\", \"data\": {\"outcomeType\": 1, \"valueTowardsCompletion\": 0.3333333333333333, \"interactionType\": 1, \"questionType\": 1, \"questionId\": \"1_EncodingsIntro\", \"learnToolsVersion\": \"0.3.4\", \"failureMessage\": \"\", \"exceptionClass\": \"\", \"trace\": \"\"}}, \"*\")"
      ],
      "text/plain": [
       "<IPython.core.display.Javascript object>"
      ]
     },
     "metadata": {},
     "output_type": "display_data"
    },
    {
     "data": {
      "text/markdown": [
       "<span style=\"color:#33cc33\">Correct</span>"
      ],
      "text/plain": [
       "Correct"
      ]
     },
     "metadata": {},
     "output_type": "display_data"
    }
   ],
   "source": [
    "new_entry = sample_entry.decode(\"big5-tw\")\n",
    "new_entry = new_entry.encode(\"utf-8\")\n",
    "\n",
    "# Check your answer\n",
    "q1.check()"
   ]
  },
  {
   "cell_type": "code",
   "execution_count": 5,
   "id": "fa911d75",
   "metadata": {
    "execution": {
     "iopub.execute_input": "2022-07-10T12:16:29.359946Z",
     "iopub.status.busy": "2022-07-10T12:16:29.359423Z",
     "iopub.status.idle": "2022-07-10T12:16:29.362709Z",
     "shell.execute_reply": "2022-07-10T12:16:29.362080Z"
    },
    "papermill": {
     "duration": 0.009829,
     "end_time": "2022-07-10T12:16:29.364369",
     "exception": false,
     "start_time": "2022-07-10T12:16:29.354540",
     "status": "completed"
    },
    "tags": []
   },
   "outputs": [],
   "source": [
    "# Lines below will give you a hint or solution code\n",
    "#q1.hint()\n",
    "#q1.solution()"
   ]
  },
  {
   "cell_type": "markdown",
   "id": "d17480e3",
   "metadata": {
    "papermill": {
     "duration": 0.003709,
     "end_time": "2022-07-10T12:16:29.372040",
     "exception": false,
     "start_time": "2022-07-10T12:16:29.368331",
     "status": "completed"
    },
    "tags": []
   },
   "source": [
    "# 2) Reading in files with encoding problems\n",
    "\n",
    "Use the code cell below to read in this file at path `\"../input/fatal-police-shootings-in-the-us/PoliceKillingsUS.csv\"`.  \n",
    "\n",
    "Figure out what the correct encoding should be and read in the file to a DataFrame `police_killings`."
   ]
  },
  {
   "cell_type": "code",
   "execution_count": 6,
   "id": "58d3669e",
   "metadata": {
    "execution": {
     "iopub.execute_input": "2022-07-10T12:16:29.381584Z",
     "iopub.status.busy": "2022-07-10T12:16:29.380985Z",
     "iopub.status.idle": "2022-07-10T12:16:29.404981Z",
     "shell.execute_reply": "2022-07-10T12:16:29.403781Z"
    },
    "papermill": {
     "duration": 0.031394,
     "end_time": "2022-07-10T12:16:29.407347",
     "exception": false,
     "start_time": "2022-07-10T12:16:29.375953",
     "status": "completed"
    },
    "tags": []
   },
   "outputs": [
    {
     "data": {
      "application/javascript": [
       "parent.postMessage({\"jupyterEvent\": \"custom.exercise_interaction\", \"data\": {\"outcomeType\": 1, \"valueTowardsCompletion\": 0.3333333333333333, \"interactionType\": 1, \"questionType\": 1, \"questionId\": \"2_ReadIn\", \"learnToolsVersion\": \"0.3.4\", \"failureMessage\": \"\", \"exceptionClass\": \"\", \"trace\": \"\"}}, \"*\")"
      ],
      "text/plain": [
       "<IPython.core.display.Javascript object>"
      ]
     },
     "metadata": {},
     "output_type": "display_data"
    },
    {
     "data": {
      "text/markdown": [
       "<span style=\"color:#33cc33\">Correct</span>"
      ],
      "text/plain": [
       "Correct"
      ]
     },
     "metadata": {},
     "output_type": "display_data"
    }
   ],
   "source": [
    "# TODO: Load in the DataFrame correctly.\n",
    "police_killings = pd.read_csv(\"../input/fatal-police-shootings-in-the-us/PoliceKillingsUS.csv\",encoding = \"Windows-1252\")\n",
    "\n",
    "# Check your answer\n",
    "q2.check()"
   ]
  },
  {
   "cell_type": "markdown",
   "id": "61296c9b",
   "metadata": {
    "papermill": {
     "duration": 0.004247,
     "end_time": "2022-07-10T12:16:29.416067",
     "exception": false,
     "start_time": "2022-07-10T12:16:29.411820",
     "status": "completed"
    },
    "tags": []
   },
   "source": [
    "Feel free to use any additional code cells for supplemental work.  To get credit for finishing this question, you'll need to run `q2.check()` and get a result of **Correct**."
   ]
  },
  {
   "cell_type": "code",
   "execution_count": 7,
   "id": "fd6d8a82",
   "metadata": {
    "execution": {
     "iopub.execute_input": "2022-07-10T12:16:29.425560Z",
     "iopub.status.busy": "2022-07-10T12:16:29.425224Z",
     "iopub.status.idle": "2022-07-10T12:16:31.391167Z",
     "shell.execute_reply": "2022-07-10T12:16:31.390166Z"
    },
    "papermill": {
     "duration": 1.973919,
     "end_time": "2022-07-10T12:16:31.394019",
     "exception": false,
     "start_time": "2022-07-10T12:16:29.420100",
     "status": "completed"
    },
    "tags": []
   },
   "outputs": [
    {
     "name": "stdout",
     "output_type": "stream",
     "text": [
      "{'encoding': 'Windows-1252', 'confidence': 0.73, 'language': ''}\n"
     ]
    }
   ],
   "source": [
    "with open(\"../input/fatal-police-shootings-in-the-us/PoliceKillingsUS.csv\",\"rb\") as dt:\n",
    "    result = chardet.detect(dt.read(1000000))\n",
    "print(result)"
   ]
  },
  {
   "cell_type": "code",
   "execution_count": 8,
   "id": "44eb35d0",
   "metadata": {
    "execution": {
     "iopub.execute_input": "2022-07-10T12:16:31.405397Z",
     "iopub.status.busy": "2022-07-10T12:16:31.404544Z",
     "iopub.status.idle": "2022-07-10T12:16:31.409062Z",
     "shell.execute_reply": "2022-07-10T12:16:31.408173Z"
    },
    "papermill": {
     "duration": 0.012274,
     "end_time": "2022-07-10T12:16:31.411113",
     "exception": false,
     "start_time": "2022-07-10T12:16:31.398839",
     "status": "completed"
    },
    "tags": []
   },
   "outputs": [],
   "source": [
    "# Lines below will give you a hint or solution code\n",
    "#q2.hint()\n",
    "#q2.solution()"
   ]
  },
  {
   "cell_type": "markdown",
   "id": "ac27d3c0",
   "metadata": {
    "papermill": {
     "duration": 0.004373,
     "end_time": "2022-07-10T12:16:31.419835",
     "exception": false,
     "start_time": "2022-07-10T12:16:31.415462",
     "status": "completed"
    },
    "tags": []
   },
   "source": [
    "# 3) Saving your files with UTF-8 encoding\n",
    "\n",
    "Save a version of the police killings dataset to CSV with UTF-8 encoding.  Your answer will be marked correct after saving this file.  \n",
    "\n",
    "Note: When using the `to_csv()` method, supply only the name of the file (e.g., `\"my_file.csv\"`).  This saves the file at the filepath `\"/kaggle/working/my_file.csv\"`."
   ]
  },
  {
   "cell_type": "code",
   "execution_count": 9,
   "id": "c912befa",
   "metadata": {
    "execution": {
     "iopub.execute_input": "2022-07-10T12:16:31.430257Z",
     "iopub.status.busy": "2022-07-10T12:16:31.429865Z",
     "iopub.status.idle": "2022-07-10T12:16:31.461565Z",
     "shell.execute_reply": "2022-07-10T12:16:31.460510Z"
    },
    "papermill": {
     "duration": 0.039494,
     "end_time": "2022-07-10T12:16:31.463680",
     "exception": false,
     "start_time": "2022-07-10T12:16:31.424186",
     "status": "completed"
    },
    "tags": []
   },
   "outputs": [
    {
     "data": {
      "application/javascript": [
       "parent.postMessage({\"jupyterEvent\": \"custom.exercise_interaction\", \"data\": {\"outcomeType\": 1, \"valueTowardsCompletion\": 0.3333333333333333, \"interactionType\": 1, \"questionType\": 2, \"questionId\": \"3_SaveCSV\", \"learnToolsVersion\": \"0.3.4\", \"failureMessage\": \"\", \"exceptionClass\": \"\", \"trace\": \"\"}}, \"*\")"
      ],
      "text/plain": [
       "<IPython.core.display.Javascript object>"
      ]
     },
     "metadata": {},
     "output_type": "display_data"
    },
    {
     "data": {
      "text/markdown": [
       "<span style=\"color:#33cc33\">Correct</span>"
      ],
      "text/plain": [
       "Correct"
      ]
     },
     "metadata": {},
     "output_type": "display_data"
    }
   ],
   "source": [
    "# TODO: Save the police killings dataset to CSV\n",
    "police_killings.to_csv(\"/kaggle/working/my_file.csv\")\n",
    "\n",
    "# Check your answer\n",
    "q3.check()"
   ]
  },
  {
   "cell_type": "code",
   "execution_count": 10,
   "id": "a25b7d68",
   "metadata": {
    "execution": {
     "iopub.execute_input": "2022-07-10T12:16:31.474728Z",
     "iopub.status.busy": "2022-07-10T12:16:31.473792Z",
     "iopub.status.idle": "2022-07-10T12:16:31.477823Z",
     "shell.execute_reply": "2022-07-10T12:16:31.477122Z"
    },
    "papermill": {
     "duration": 0.01133,
     "end_time": "2022-07-10T12:16:31.479604",
     "exception": false,
     "start_time": "2022-07-10T12:16:31.468274",
     "status": "completed"
    },
    "tags": []
   },
   "outputs": [],
   "source": [
    "# Lines below will give you a hint or solution code\n",
    "#q3.hint()\n",
    "#q3.solution()"
   ]
  },
  {
   "cell_type": "markdown",
   "id": "eee12386",
   "metadata": {
    "papermill": {
     "duration": 0.004236,
     "end_time": "2022-07-10T12:16:31.488409",
     "exception": false,
     "start_time": "2022-07-10T12:16:31.484173",
     "status": "completed"
    },
    "tags": []
   },
   "source": [
    "# (Optional) More practice\n",
    "\n",
    "Check out [this dataset of files in different character encodings](https://www.kaggle.com/rtatman/character-encoding-examples). Can you read in all the files with their original encodings and them save them out as UTF-8 files?\n",
    "\n",
    "If you have a file that's in UTF-8 but has just a couple of weird-looking characters in it, you can try out the [ftfy module](https://ftfy.readthedocs.io/en/latest/#) and see if it helps. \n",
    "\n",
    "# Keep going\n",
    "\n",
    "In the final lesson, learn how to [**clean up inconsistent text entries**](https://www.kaggle.com/alexisbcook/inconsistent-data-entry) in your dataset."
   ]
  },
  {
   "cell_type": "markdown",
   "id": "710d121f",
   "metadata": {
    "papermill": {
     "duration": 0.004347,
     "end_time": "2022-07-10T12:16:31.497283",
     "exception": false,
     "start_time": "2022-07-10T12:16:31.492936",
     "status": "completed"
    },
    "tags": []
   },
   "source": [
    "---\n",
    "\n",
    "\n",
    "\n",
    "\n",
    "*Have questions or comments? Visit the [course discussion forum](https://www.kaggle.com/learn/data-cleaning/discussion) to chat with other learners.*"
   ]
  }
 ],
 "metadata": {
  "kernelspec": {
   "display_name": "Python 3",
   "language": "python",
   "name": "python3"
  },
  "language_info": {
   "codemirror_mode": {
    "name": "ipython",
    "version": 3
   },
   "file_extension": ".py",
   "mimetype": "text/x-python",
   "name": "python",
   "nbconvert_exporter": "python",
   "pygments_lexer": "ipython3",
   "version": "3.7.12"
  },
  "papermill": {
   "default_parameters": {},
   "duration": 11.13588,
   "end_time": "2022-07-10T12:16:32.122547",
   "environment_variables": {},
   "exception": null,
   "input_path": "__notebook__.ipynb",
   "output_path": "__notebook__.ipynb",
   "parameters": {},
   "start_time": "2022-07-10T12:16:20.986667",
   "version": "2.3.4"
  }
 },
 "nbformat": 4,
 "nbformat_minor": 5
}

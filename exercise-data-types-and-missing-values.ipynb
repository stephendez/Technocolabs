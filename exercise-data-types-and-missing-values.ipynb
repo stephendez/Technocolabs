{
 "cells": [
  {
   "cell_type": "markdown",
   "id": "9ec03c19",
   "metadata": {
    "papermill": {
     "duration": 0.005727,
     "end_time": "2022-07-15T06:33:38.576960",
     "exception": false,
     "start_time": "2022-07-15T06:33:38.571233",
     "status": "completed"
    },
    "tags": []
   },
   "source": [
    "**This notebook is an exercise in the [Pandas](https://www.kaggle.com/learn/pandas) course.  You can reference the tutorial at [this link](https://www.kaggle.com/residentmario/data-types-and-missing-values).**\n",
    "\n",
    "---\n"
   ]
  },
  {
   "cell_type": "markdown",
   "id": "fd7991e3",
   "metadata": {
    "papermill": {
     "duration": 0.004412,
     "end_time": "2022-07-15T06:33:38.586405",
     "exception": false,
     "start_time": "2022-07-15T06:33:38.581993",
     "status": "completed"
    },
    "tags": []
   },
   "source": [
    "# Introduction\n",
    "\n",
    "Run the following cell to load your data and some utility functions."
   ]
  },
  {
   "cell_type": "code",
   "execution_count": 1,
   "id": "0324ce24",
   "metadata": {
    "execution": {
     "iopub.execute_input": "2022-07-15T06:33:38.598525Z",
     "iopub.status.busy": "2022-07-15T06:33:38.598063Z",
     "iopub.status.idle": "2022-07-15T06:33:41.759860Z",
     "shell.execute_reply": "2022-07-15T06:33:41.758654Z"
    },
    "papermill": {
     "duration": 3.171664,
     "end_time": "2022-07-15T06:33:41.762817",
     "exception": false,
     "start_time": "2022-07-15T06:33:38.591153",
     "status": "completed"
    },
    "tags": []
   },
   "outputs": [
    {
     "name": "stdout",
     "output_type": "stream",
     "text": [
      "Setup complete.\n"
     ]
    }
   ],
   "source": [
    "import pandas as pd\n",
    "\n",
    "reviews = pd.read_csv(\"../input/wine-reviews/winemag-data-130k-v2.csv\", index_col=0)\n",
    "\n",
    "from learntools.core import binder; binder.bind(globals())\n",
    "from learntools.pandas.data_types_and_missing_data import *\n",
    "print(\"Setup complete.\")"
   ]
  },
  {
   "cell_type": "markdown",
   "id": "a1920f3f",
   "metadata": {
    "papermill": {
     "duration": 0.004643,
     "end_time": "2022-07-15T06:33:41.772493",
     "exception": false,
     "start_time": "2022-07-15T06:33:41.767850",
     "status": "completed"
    },
    "tags": []
   },
   "source": [
    "# Exercises"
   ]
  },
  {
   "cell_type": "markdown",
   "id": "66f0db00",
   "metadata": {
    "papermill": {
     "duration": 0.004589,
     "end_time": "2022-07-15T06:33:41.781951",
     "exception": false,
     "start_time": "2022-07-15T06:33:41.777362",
     "status": "completed"
    },
    "tags": []
   },
   "source": [
    "## 1. \n",
    "What is the data type of the `points` column in the dataset?"
   ]
  },
  {
   "cell_type": "code",
   "execution_count": 2,
   "id": "f52e6300",
   "metadata": {
    "execution": {
     "iopub.execute_input": "2022-07-15T06:33:41.793846Z",
     "iopub.status.busy": "2022-07-15T06:33:41.792933Z",
     "iopub.status.idle": "2022-07-15T06:33:41.806631Z",
     "shell.execute_reply": "2022-07-15T06:33:41.805437Z"
    },
    "papermill": {
     "duration": 0.022128,
     "end_time": "2022-07-15T06:33:41.808893",
     "exception": false,
     "start_time": "2022-07-15T06:33:41.786765",
     "status": "completed"
    },
    "tags": []
   },
   "outputs": [
    {
     "data": {
      "application/javascript": [
       "parent.postMessage({\"jupyterEvent\": \"custom.exercise_interaction\", \"data\": {\"outcomeType\": 1, \"valueTowardsCompletion\": 0.25, \"interactionType\": 1, \"questionType\": 1, \"questionId\": \"1_PointsDtype\", \"learnToolsVersion\": \"0.3.4\", \"failureMessage\": \"\", \"exceptionClass\": \"\", \"trace\": \"\"}}, \"*\")"
      ],
      "text/plain": [
       "<IPython.core.display.Javascript object>"
      ]
     },
     "metadata": {},
     "output_type": "display_data"
    },
    {
     "data": {
      "text/markdown": [
       "<span style=\"color:#33cc33\">Correct</span>"
      ],
      "text/plain": [
       "Correct"
      ]
     },
     "metadata": {},
     "output_type": "display_data"
    }
   ],
   "source": [
    "# Your code here\n",
    "dtype = reviews.points.dtype\n",
    "\n",
    "# Check your answer\n",
    "q1.check()"
   ]
  },
  {
   "cell_type": "code",
   "execution_count": 3,
   "id": "d5f4e333",
   "metadata": {
    "execution": {
     "iopub.execute_input": "2022-07-15T06:33:41.821869Z",
     "iopub.status.busy": "2022-07-15T06:33:41.820810Z",
     "iopub.status.idle": "2022-07-15T06:33:41.826479Z",
     "shell.execute_reply": "2022-07-15T06:33:41.825031Z"
    },
    "papermill": {
     "duration": 0.015298,
     "end_time": "2022-07-15T06:33:41.829538",
     "exception": false,
     "start_time": "2022-07-15T06:33:41.814240",
     "status": "completed"
    },
    "tags": []
   },
   "outputs": [],
   "source": [
    "#q1.hint()\n",
    "#q1.solution()"
   ]
  },
  {
   "cell_type": "markdown",
   "id": "728431a2",
   "metadata": {
    "papermill": {
     "duration": 0.004955,
     "end_time": "2022-07-15T06:33:41.839786",
     "exception": false,
     "start_time": "2022-07-15T06:33:41.834831",
     "status": "completed"
    },
    "tags": []
   },
   "source": [
    "## 2. \n",
    "Create a Series from entries in the `points` column, but convert the entries to strings. Hint: strings are `str` in native Python."
   ]
  },
  {
   "cell_type": "code",
   "execution_count": 4,
   "id": "6e8ddd19",
   "metadata": {
    "execution": {
     "iopub.execute_input": "2022-07-15T06:33:41.853328Z",
     "iopub.status.busy": "2022-07-15T06:33:41.852937Z",
     "iopub.status.idle": "2022-07-15T06:33:41.996039Z",
     "shell.execute_reply": "2022-07-15T06:33:41.994690Z"
    },
    "papermill": {
     "duration": 0.152825,
     "end_time": "2022-07-15T06:33:41.998668",
     "exception": false,
     "start_time": "2022-07-15T06:33:41.845843",
     "status": "completed"
    },
    "tags": []
   },
   "outputs": [
    {
     "data": {
      "application/javascript": [
       "parent.postMessage({\"jupyterEvent\": \"custom.exercise_interaction\", \"data\": {\"outcomeType\": 1, \"valueTowardsCompletion\": 0.25, \"interactionType\": 1, \"questionType\": 1, \"questionId\": \"2_StrPoints\", \"learnToolsVersion\": \"0.3.4\", \"failureMessage\": \"\", \"exceptionClass\": \"\", \"trace\": \"\"}}, \"*\")"
      ],
      "text/plain": [
       "<IPython.core.display.Javascript object>"
      ]
     },
     "metadata": {},
     "output_type": "display_data"
    },
    {
     "data": {
      "text/markdown": [
       "<span style=\"color:#33cc33\">Correct</span>"
      ],
      "text/plain": [
       "Correct"
      ]
     },
     "metadata": {},
     "output_type": "display_data"
    }
   ],
   "source": [
    "point_strings = reviews.points.astype('str')\n",
    "\n",
    "# Check your answer\n",
    "q2.check()"
   ]
  },
  {
   "cell_type": "code",
   "execution_count": 5,
   "id": "28d9ee17",
   "metadata": {
    "execution": {
     "iopub.execute_input": "2022-07-15T06:33:42.013545Z",
     "iopub.status.busy": "2022-07-15T06:33:42.013138Z",
     "iopub.status.idle": "2022-07-15T06:33:42.018916Z",
     "shell.execute_reply": "2022-07-15T06:33:42.017277Z"
    },
    "papermill": {
     "duration": 0.016288,
     "end_time": "2022-07-15T06:33:42.021590",
     "exception": false,
     "start_time": "2022-07-15T06:33:42.005302",
     "status": "completed"
    },
    "tags": []
   },
   "outputs": [],
   "source": [
    "#q2.hint()\n",
    "#q2.solution()"
   ]
  },
  {
   "cell_type": "markdown",
   "id": "f35e38c2",
   "metadata": {
    "papermill": {
     "duration": 0.005439,
     "end_time": "2022-07-15T06:33:42.032613",
     "exception": false,
     "start_time": "2022-07-15T06:33:42.027174",
     "status": "completed"
    },
    "tags": []
   },
   "source": [
    "## 3.\n",
    "Sometimes the price column is null. How many reviews in the dataset are missing a price?"
   ]
  },
  {
   "cell_type": "code",
   "execution_count": 6,
   "id": "6f87029b",
   "metadata": {
    "execution": {
     "iopub.execute_input": "2022-07-15T06:33:42.046573Z",
     "iopub.status.busy": "2022-07-15T06:33:42.044970Z",
     "iopub.status.idle": "2022-07-15T06:33:42.057026Z",
     "shell.execute_reply": "2022-07-15T06:33:42.055840Z"
    },
    "papermill": {
     "duration": 0.021548,
     "end_time": "2022-07-15T06:33:42.059662",
     "exception": false,
     "start_time": "2022-07-15T06:33:42.038114",
     "status": "completed"
    },
    "tags": []
   },
   "outputs": [
    {
     "data": {
      "application/javascript": [
       "parent.postMessage({\"jupyterEvent\": \"custom.exercise_interaction\", \"data\": {\"outcomeType\": 1, \"valueTowardsCompletion\": 0.25, \"interactionType\": 1, \"questionType\": 1, \"questionId\": \"3_CountMissingPrices\", \"learnToolsVersion\": \"0.3.4\", \"failureMessage\": \"\", \"exceptionClass\": \"\", \"trace\": \"\"}}, \"*\")"
      ],
      "text/plain": [
       "<IPython.core.display.Javascript object>"
      ]
     },
     "metadata": {},
     "output_type": "display_data"
    },
    {
     "data": {
      "text/markdown": [
       "<span style=\"color:#33cc33\">Correct</span>"
      ],
      "text/plain": [
       "Correct"
      ]
     },
     "metadata": {},
     "output_type": "display_data"
    }
   ],
   "source": [
    "n_missing_prices = pd.isnull(reviews.price).sum()\n",
    "\n",
    "# Check your answer\n",
    "q3.check()"
   ]
  },
  {
   "cell_type": "code",
   "execution_count": 7,
   "id": "7f99249e",
   "metadata": {
    "execution": {
     "iopub.execute_input": "2022-07-15T06:33:42.073357Z",
     "iopub.status.busy": "2022-07-15T06:33:42.072986Z",
     "iopub.status.idle": "2022-07-15T06:33:42.078345Z",
     "shell.execute_reply": "2022-07-15T06:33:42.076933Z"
    },
    "papermill": {
     "duration": 0.015241,
     "end_time": "2022-07-15T06:33:42.080996",
     "exception": false,
     "start_time": "2022-07-15T06:33:42.065755",
     "status": "completed"
    },
    "tags": []
   },
   "outputs": [],
   "source": [
    "#q3.hint()\n",
    "#q3.solution()"
   ]
  },
  {
   "cell_type": "markdown",
   "id": "be0cc691",
   "metadata": {
    "papermill": {
     "duration": 0.005657,
     "end_time": "2022-07-15T06:33:42.092591",
     "exception": false,
     "start_time": "2022-07-15T06:33:42.086934",
     "status": "completed"
    },
    "tags": []
   },
   "source": [
    "## 4.\n",
    "What are the most common wine-producing regions? Create a Series counting the number of times each value occurs in the `region_1` field. This field is often missing data, so replace missing values with `Unknown`. Sort in descending order.  Your output should look something like this:\n",
    "\n",
    "```\n",
    "Unknown                    21247\n",
    "Napa Valley                 4480\n",
    "                           ...  \n",
    "Bardolino Superiore            1\n",
    "Primitivo del Tarantino        1\n",
    "Name: region_1, Length: 1230, dtype: int64\n",
    "```"
   ]
  },
  {
   "cell_type": "code",
   "execution_count": 8,
   "id": "b3d5259a",
   "metadata": {
    "execution": {
     "iopub.execute_input": "2022-07-15T06:33:42.106247Z",
     "iopub.status.busy": "2022-07-15T06:33:42.105876Z",
     "iopub.status.idle": "2022-07-15T06:33:42.184396Z",
     "shell.execute_reply": "2022-07-15T06:33:42.183166Z"
    },
    "papermill": {
     "duration": 0.088584,
     "end_time": "2022-07-15T06:33:42.186972",
     "exception": false,
     "start_time": "2022-07-15T06:33:42.098388",
     "status": "completed"
    },
    "tags": []
   },
   "outputs": [
    {
     "data": {
      "application/javascript": [
       "parent.postMessage({\"jupyterEvent\": \"custom.exercise_interaction\", \"data\": {\"outcomeType\": 1, \"valueTowardsCompletion\": 0.25, \"interactionType\": 1, \"questionType\": 2, \"questionId\": \"4_ReviewsPerRegion\", \"learnToolsVersion\": \"0.3.4\", \"failureMessage\": \"\", \"exceptionClass\": \"\", \"trace\": \"\"}}, \"*\")"
      ],
      "text/plain": [
       "<IPython.core.display.Javascript object>"
      ]
     },
     "metadata": {},
     "output_type": "display_data"
    },
    {
     "data": {
      "text/markdown": [
       "<span style=\"color:#33cc33\">Correct</span>"
      ],
      "text/plain": [
       "Correct"
      ]
     },
     "metadata": {},
     "output_type": "display_data"
    }
   ],
   "source": [
    "\n",
    "reviews_per_region = reviews.region_1.fillna('Unknown').value_counts().sort_values(ascending=False)\n",
    "\n",
    "# Check your answer\n",
    "q4.check()"
   ]
  },
  {
   "cell_type": "code",
   "execution_count": 9,
   "id": "57b30232",
   "metadata": {
    "execution": {
     "iopub.execute_input": "2022-07-15T06:33:42.201010Z",
     "iopub.status.busy": "2022-07-15T06:33:42.200599Z",
     "iopub.status.idle": "2022-07-15T06:33:42.205099Z",
     "shell.execute_reply": "2022-07-15T06:33:42.203835Z"
    },
    "papermill": {
     "duration": 0.014366,
     "end_time": "2022-07-15T06:33:42.207539",
     "exception": false,
     "start_time": "2022-07-15T06:33:42.193173",
     "status": "completed"
    },
    "tags": []
   },
   "outputs": [],
   "source": [
    "#q4.hint()\n",
    "#q4.solution()"
   ]
  },
  {
   "cell_type": "markdown",
   "id": "a70036bb",
   "metadata": {
    "papermill": {
     "duration": 0.005883,
     "end_time": "2022-07-15T06:33:42.219619",
     "exception": false,
     "start_time": "2022-07-15T06:33:42.213736",
     "status": "completed"
    },
    "tags": []
   },
   "source": [
    "# Keep going\n",
    "\n",
    "Move on to **[renaming and combining](https://www.kaggle.com/residentmario/renaming-and-combining)**."
   ]
  },
  {
   "cell_type": "markdown",
   "id": "46d50d6d",
   "metadata": {
    "papermill": {
     "duration": 0.005771,
     "end_time": "2022-07-15T06:33:42.231541",
     "exception": false,
     "start_time": "2022-07-15T06:33:42.225770",
     "status": "completed"
    },
    "tags": []
   },
   "source": [
    "---\n",
    "\n",
    "\n",
    "\n",
    "\n",
    "*Have questions or comments? Visit the [course discussion forum](https://www.kaggle.com/learn/pandas/discussion) to chat with other learners.*"
   ]
  }
 ],
 "metadata": {
  "kernelspec": {
   "display_name": "Python 3",
   "language": "python",
   "name": "python3"
  },
  "language_info": {
   "codemirror_mode": {
    "name": "ipython",
    "version": 3
   },
   "file_extension": ".py",
   "mimetype": "text/x-python",
   "name": "python",
   "nbconvert_exporter": "python",
   "pygments_lexer": "ipython3",
   "version": "3.7.12"
  },
  "papermill": {
   "default_parameters": {},
   "duration": 16.375458,
   "end_time": "2022-07-15T06:33:42.960780",
   "environment_variables": {},
   "exception": null,
   "input_path": "__notebook__.ipynb",
   "output_path": "__notebook__.ipynb",
   "parameters": {},
   "start_time": "2022-07-15T06:33:26.585322",
   "version": "2.3.4"
  }
 },
 "nbformat": 4,
 "nbformat_minor": 5
}

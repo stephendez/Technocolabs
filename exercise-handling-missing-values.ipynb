{
 "cells": [
  {
   "cell_type": "markdown",
   "id": "39568713",
   "metadata": {
    "papermill": {
     "duration": 0.008239,
     "end_time": "2022-07-10T06:46:14.735921",
     "exception": false,
     "start_time": "2022-07-10T06:46:14.727682",
     "status": "completed"
    },
    "tags": []
   },
   "source": [
    "**This notebook is an exercise in the [Data Cleaning](https://www.kaggle.com/learn/data-cleaning) course.  You can reference the tutorial at [this link](https://www.kaggle.com/alexisbcook/handling-missing-values).**\n",
    "\n",
    "---\n"
   ]
  },
  {
   "cell_type": "markdown",
   "id": "7dd28768",
   "metadata": {
    "papermill": {
     "duration": 0.006975,
     "end_time": "2022-07-10T06:46:14.750403",
     "exception": false,
     "start_time": "2022-07-10T06:46:14.743428",
     "status": "completed"
    },
    "tags": []
   },
   "source": [
    "In this exercise, you'll apply what you learned in the **Handling missing values** tutorial.\n",
    "\n",
    "# Setup\n",
    "\n",
    "The questions below will give you feedback on your work. Run the following cell to set up the feedback system."
   ]
  },
  {
   "cell_type": "code",
   "execution_count": 1,
   "id": "5d8a60cd",
   "metadata": {
    "execution": {
     "iopub.execute_input": "2022-07-10T06:46:14.767274Z",
     "iopub.status.busy": "2022-07-10T06:46:14.766455Z",
     "iopub.status.idle": "2022-07-10T06:46:19.740052Z",
     "shell.execute_reply": "2022-07-10T06:46:19.738902Z"
    },
    "papermill": {
     "duration": 4.985049,
     "end_time": "2022-07-10T06:46:19.742681",
     "exception": false,
     "start_time": "2022-07-10T06:46:14.757632",
     "status": "completed"
    },
    "tags": []
   },
   "outputs": [
    {
     "name": "stderr",
     "output_type": "stream",
     "text": [
      "/opt/conda/lib/python3.7/site-packages/ipykernel_launcher.py:3: DtypeWarning: Columns (22,32) have mixed types.Specify dtype option on import or set low_memory=False.\n",
      "  This is separate from the ipykernel package so we can avoid doing imports until\n"
     ]
    },
    {
     "name": "stdout",
     "output_type": "stream",
     "text": [
      "Setup Complete\n"
     ]
    }
   ],
   "source": [
    "from learntools.core import binder\n",
    "binder.bind(globals())\n",
    "from learntools.data_cleaning.ex1 import *\n",
    "print(\"Setup Complete\")"
   ]
  },
  {
   "cell_type": "markdown",
   "id": "4f377926",
   "metadata": {
    "papermill": {
     "duration": 0.007428,
     "end_time": "2022-07-10T06:46:19.757680",
     "exception": false,
     "start_time": "2022-07-10T06:46:19.750252",
     "status": "completed"
    },
    "tags": []
   },
   "source": [
    "# 1) Take a first look at the data\n",
    "\n",
    "Run the next code cell to load in the libraries and dataset you'll use to complete the exercise."
   ]
  },
  {
   "cell_type": "code",
   "execution_count": 2,
   "id": "63548471",
   "metadata": {
    "execution": {
     "iopub.execute_input": "2022-07-10T06:46:19.773921Z",
     "iopub.status.busy": "2022-07-10T06:46:19.773550Z",
     "iopub.status.idle": "2022-07-10T06:46:21.435099Z",
     "shell.execute_reply": "2022-07-10T06:46:21.434012Z"
    },
    "papermill": {
     "duration": 1.672832,
     "end_time": "2022-07-10T06:46:21.437803",
     "exception": false,
     "start_time": "2022-07-10T06:46:19.764971",
     "status": "completed"
    },
    "tags": []
   },
   "outputs": [
    {
     "name": "stderr",
     "output_type": "stream",
     "text": [
      "/opt/conda/lib/python3.7/site-packages/IPython/core/interactiveshell.py:3552: DtypeWarning: Columns (22,32) have mixed types.Specify dtype option on import or set low_memory=False.\n",
      "  exec(code_obj, self.user_global_ns, self.user_ns)\n"
     ]
    }
   ],
   "source": [
    "# modules we'll use\n",
    "import pandas as pd\n",
    "import numpy as np\n",
    "\n",
    "# read in all our data\n",
    "sf_permits = pd.read_csv(\"../input/building-permit-applications-data/Building_Permits.csv\")\n",
    "\n",
    "# set seed for reproducibility\n",
    "np.random.seed(0) "
   ]
  },
  {
   "cell_type": "markdown",
   "id": "73d5aaa1",
   "metadata": {
    "papermill": {
     "duration": 0.007291,
     "end_time": "2022-07-10T06:46:21.452401",
     "exception": false,
     "start_time": "2022-07-10T06:46:21.445110",
     "status": "completed"
    },
    "tags": []
   },
   "source": [
    "Use the code cell below to print the first five rows of the `sf_permits` DataFrame."
   ]
  },
  {
   "cell_type": "code",
   "execution_count": 3,
   "id": "043ea323",
   "metadata": {
    "execution": {
     "iopub.execute_input": "2022-07-10T06:46:21.469347Z",
     "iopub.status.busy": "2022-07-10T06:46:21.468444Z",
     "iopub.status.idle": "2022-07-10T06:46:21.969240Z",
     "shell.execute_reply": "2022-07-10T06:46:21.968045Z"
    },
    "papermill": {
     "duration": 0.511947,
     "end_time": "2022-07-10T06:46:21.971652",
     "exception": false,
     "start_time": "2022-07-10T06:46:21.459705",
     "status": "completed"
    },
    "tags": []
   },
   "outputs": [
    {
     "data": {
      "text/plain": [
       "Permit Number                  0\n",
       "Permit Type                    0\n",
       "Permit Type Definition         0\n",
       "Permit Creation Date           0\n",
       "Block                          0\n",
       "Lot                            0\n",
       "Street Number                  0\n",
       "Street Number Suffix      196684\n",
       "Street Name                    0\n",
       "Street Suffix               2768\n",
       "dtype: int64"
      ]
     },
     "execution_count": 3,
     "metadata": {},
     "output_type": "execute_result"
    }
   ],
   "source": [
    "null_count = sf_permits.isnull().sum()\n",
    "null_count[:10]"
   ]
  },
  {
   "cell_type": "markdown",
   "id": "14ca87a0",
   "metadata": {
    "papermill": {
     "duration": 0.007309,
     "end_time": "2022-07-10T06:46:21.986845",
     "exception": false,
     "start_time": "2022-07-10T06:46:21.979536",
     "status": "completed"
    },
    "tags": []
   },
   "source": [
    "Does the dataset have any missing values?  Once you have an answer, run the code cell below to get credit for your work."
   ]
  },
  {
   "cell_type": "code",
   "execution_count": 4,
   "id": "d04ff75b",
   "metadata": {
    "execution": {
     "iopub.execute_input": "2022-07-10T06:46:22.003918Z",
     "iopub.status.busy": "2022-07-10T06:46:22.003549Z",
     "iopub.status.idle": "2022-07-10T06:46:22.012675Z",
     "shell.execute_reply": "2022-07-10T06:46:22.011663Z"
    },
    "papermill": {
     "duration": 0.020594,
     "end_time": "2022-07-10T06:46:22.015051",
     "exception": false,
     "start_time": "2022-07-10T06:46:21.994457",
     "status": "completed"
    },
    "tags": []
   },
   "outputs": [
    {
     "data": {
      "application/javascript": [
       "parent.postMessage({\"jupyterEvent\": \"custom.exercise_interaction\", \"data\": {\"outcomeType\": 1, \"valueTowardsCompletion\": 0.16666666666666666, \"interactionType\": 1, \"questionType\": 4, \"questionId\": \"1_TakeFirstLook\", \"learnToolsVersion\": \"0.3.4\", \"failureMessage\": \"\", \"exceptionClass\": \"\", \"trace\": \"\"}}, \"*\")"
      ],
      "text/plain": [
       "<IPython.core.display.Javascript object>"
      ]
     },
     "metadata": {},
     "output_type": "display_data"
    },
    {
     "data": {
      "text/markdown": [
       "<span style=\"color:#33cc33\">Correct:</span> \n",
       "\n",
       "The first five rows of the data does show that several columns have missing values.  You can see this in the \"Street Number Suffix\", \"Proposed Construction Type\" and \"Site Permit\" columns, among others."
      ],
      "text/plain": [
       "Correct: \n",
       "\n",
       "The first five rows of the data does show that several columns have missing values.  You can see this in the \"Street Number Suffix\", \"Proposed Construction Type\" and \"Site Permit\" columns, among others."
      ]
     },
     "metadata": {},
     "output_type": "display_data"
    }
   ],
   "source": [
    "# Check your answer (Run this code cell to receive credit!)\n",
    "q1.check()"
   ]
  },
  {
   "cell_type": "code",
   "execution_count": 5,
   "id": "940cbf6d",
   "metadata": {
    "execution": {
     "iopub.execute_input": "2022-07-10T06:46:22.032958Z",
     "iopub.status.busy": "2022-07-10T06:46:22.032548Z",
     "iopub.status.idle": "2022-07-10T06:46:22.036942Z",
     "shell.execute_reply": "2022-07-10T06:46:22.035775Z"
    },
    "papermill": {
     "duration": 0.016337,
     "end_time": "2022-07-10T06:46:22.039369",
     "exception": false,
     "start_time": "2022-07-10T06:46:22.023032",
     "status": "completed"
    },
    "tags": []
   },
   "outputs": [],
   "source": [
    "# Line below will give you a hint\n",
    "#q1.hint()"
   ]
  },
  {
   "cell_type": "markdown",
   "id": "4003eb23",
   "metadata": {
    "papermill": {
     "duration": 0.007854,
     "end_time": "2022-07-10T06:46:22.055282",
     "exception": false,
     "start_time": "2022-07-10T06:46:22.047428",
     "status": "completed"
    },
    "tags": []
   },
   "source": [
    "# 2) How many missing data points do we have?\n",
    "\n",
    "What percentage of the values in the dataset are missing?  Your answer should be a number between 0 and 100.  (If 1/4 of the values in the dataset are missing, the answer is 25.)"
   ]
  },
  {
   "cell_type": "code",
   "execution_count": 6,
   "id": "cd2509d2",
   "metadata": {
    "execution": {
     "iopub.execute_input": "2022-07-10T06:46:22.073276Z",
     "iopub.status.busy": "2022-07-10T06:46:22.072755Z",
     "iopub.status.idle": "2022-07-10T06:46:22.082971Z",
     "shell.execute_reply": "2022-07-10T06:46:22.081848Z"
    },
    "papermill": {
     "duration": 0.021984,
     "end_time": "2022-07-10T06:46:22.085329",
     "exception": false,
     "start_time": "2022-07-10T06:46:22.063345",
     "status": "completed"
    },
    "tags": []
   },
   "outputs": [
    {
     "data": {
      "application/javascript": [
       "parent.postMessage({\"jupyterEvent\": \"custom.exercise_interaction\", \"data\": {\"outcomeType\": 1, \"valueTowardsCompletion\": 0.16666666666666666, \"interactionType\": 1, \"questionType\": 1, \"questionId\": \"2_PercentMissingValues\", \"learnToolsVersion\": \"0.3.4\", \"failureMessage\": \"\", \"exceptionClass\": \"\", \"trace\": \"\"}}, \"*\")"
      ],
      "text/plain": [
       "<IPython.core.display.Javascript object>"
      ]
     },
     "metadata": {},
     "output_type": "display_data"
    },
    {
     "data": {
      "text/markdown": [
       "<span style=\"color:#33cc33\">Correct</span>"
      ],
      "text/plain": [
       "Correct"
      ]
     },
     "metadata": {},
     "output_type": "display_data"
    }
   ],
   "source": [
    "# TODO: Your code here!\n",
    "tot_cells = np.product(sf_permits.shape)\n",
    "tot_missing = null_count.sum()\n",
    "percent_missing = (tot_missing/tot_cells)*100\n",
    "\n",
    "# Check your answer\n",
    "q2.check()"
   ]
  },
  {
   "cell_type": "code",
   "execution_count": 7,
   "id": "7e843ae1",
   "metadata": {
    "execution": {
     "iopub.execute_input": "2022-07-10T06:46:22.103950Z",
     "iopub.status.busy": "2022-07-10T06:46:22.103599Z",
     "iopub.status.idle": "2022-07-10T06:46:22.107897Z",
     "shell.execute_reply": "2022-07-10T06:46:22.106726Z"
    },
    "papermill": {
     "duration": 0.016799,
     "end_time": "2022-07-10T06:46:22.110254",
     "exception": false,
     "start_time": "2022-07-10T06:46:22.093455",
     "status": "completed"
    },
    "tags": []
   },
   "outputs": [],
   "source": [
    "# Lines below will give you a hint or solution code\n",
    "#q2.hint()\n",
    "#q2.solution()"
   ]
  },
  {
   "cell_type": "markdown",
   "id": "7741243e",
   "metadata": {
    "papermill": {
     "duration": 0.008009,
     "end_time": "2022-07-10T06:46:22.126825",
     "exception": false,
     "start_time": "2022-07-10T06:46:22.118816",
     "status": "completed"
    },
    "tags": []
   },
   "source": [
    "# 3) Figure out why the data is missing\n",
    "\n",
    "Look at the columns **\"Street Number Suffix\"** and **\"Zipcode\"** from the [San Francisco Building Permits dataset](https://www.kaggle.com/aparnashastry/building-permit-applications-data). Both of these contain missing values. \n",
    "- Which, if either, are missing because they don't exist? \n",
    "- Which, if either, are missing because they weren't recorded?  \n",
    "\n",
    "Once you have an answer, run the code cell below."
   ]
  },
  {
   "cell_type": "code",
   "execution_count": 8,
   "id": "88dba0bd",
   "metadata": {
    "execution": {
     "iopub.execute_input": "2022-07-10T06:46:22.145564Z",
     "iopub.status.busy": "2022-07-10T06:46:22.145146Z",
     "iopub.status.idle": "2022-07-10T06:46:22.153358Z",
     "shell.execute_reply": "2022-07-10T06:46:22.152261Z"
    },
    "papermill": {
     "duration": 0.020601,
     "end_time": "2022-07-10T06:46:22.155562",
     "exception": false,
     "start_time": "2022-07-10T06:46:22.134961",
     "status": "completed"
    },
    "tags": []
   },
   "outputs": [
    {
     "data": {
      "application/javascript": [
       "parent.postMessage({\"jupyterEvent\": \"custom.exercise_interaction\", \"data\": {\"outcomeType\": 1, \"valueTowardsCompletion\": 0.16666666666666666, \"interactionType\": 1, \"questionType\": 4, \"questionId\": \"3_WhyDataMissing\", \"learnToolsVersion\": \"0.3.4\", \"failureMessage\": \"\", \"exceptionClass\": \"\", \"trace\": \"\"}}, \"*\")"
      ],
      "text/plain": [
       "<IPython.core.display.Javascript object>"
      ]
     },
     "metadata": {},
     "output_type": "display_data"
    },
    {
     "data": {
      "text/markdown": [
       "<span style=\"color:#33cc33\">Correct:</span> \n",
       "\n",
       "If a value in the \"Street Number Suffix\" column is missing, it is likely because it does not exist. If a value in the \"Zipcode\" column is missing, it was not recorded."
      ],
      "text/plain": [
       "Correct: \n",
       "\n",
       "If a value in the \"Street Number Suffix\" column is missing, it is likely because it does not exist. If a value in the \"Zipcode\" column is missing, it was not recorded."
      ]
     },
     "metadata": {},
     "output_type": "display_data"
    }
   ],
   "source": [
    "# Check your answer (Run this code cell to receive credit!)\n",
    "q3.check()"
   ]
  },
  {
   "cell_type": "code",
   "execution_count": 9,
   "id": "56553f73",
   "metadata": {
    "execution": {
     "iopub.execute_input": "2022-07-10T06:46:22.174106Z",
     "iopub.status.busy": "2022-07-10T06:46:22.173749Z",
     "iopub.status.idle": "2022-07-10T06:46:22.177646Z",
     "shell.execute_reply": "2022-07-10T06:46:22.176627Z"
    },
    "papermill": {
     "duration": 0.01595,
     "end_time": "2022-07-10T06:46:22.179839",
     "exception": false,
     "start_time": "2022-07-10T06:46:22.163889",
     "status": "completed"
    },
    "tags": []
   },
   "outputs": [],
   "source": [
    "# Line below will give you a hint\n",
    "#q3.hint()"
   ]
  },
  {
   "cell_type": "markdown",
   "id": "b86e50c5",
   "metadata": {
    "papermill": {
     "duration": 0.008177,
     "end_time": "2022-07-10T06:46:22.196411",
     "exception": false,
     "start_time": "2022-07-10T06:46:22.188234",
     "status": "completed"
    },
    "tags": []
   },
   "source": [
    "# 4) Drop missing values: rows\n",
    "\n",
    "If you removed all of the rows of `sf_permits` with missing values, how many rows are left?\n",
    "\n",
    "**Note**: Do not change the value of `sf_permits` when checking this.  "
   ]
  },
  {
   "cell_type": "code",
   "execution_count": 10,
   "id": "9e609d99",
   "metadata": {
    "execution": {
     "iopub.execute_input": "2022-07-10T06:46:22.214913Z",
     "iopub.status.busy": "2022-07-10T06:46:22.214250Z",
     "iopub.status.idle": "2022-07-10T06:46:22.729326Z",
     "shell.execute_reply": "2022-07-10T06:46:22.728171Z"
    },
    "papermill": {
     "duration": 0.527896,
     "end_time": "2022-07-10T06:46:22.732589",
     "exception": false,
     "start_time": "2022-07-10T06:46:22.204693",
     "status": "completed"
    },
    "tags": []
   },
   "outputs": [
    {
     "data": {
      "text/html": [
       "<div>\n",
       "<style scoped>\n",
       "    .dataframe tbody tr th:only-of-type {\n",
       "        vertical-align: middle;\n",
       "    }\n",
       "\n",
       "    .dataframe tbody tr th {\n",
       "        vertical-align: top;\n",
       "    }\n",
       "\n",
       "    .dataframe thead th {\n",
       "        text-align: right;\n",
       "    }\n",
       "</style>\n",
       "<table border=\"1\" class=\"dataframe\">\n",
       "  <thead>\n",
       "    <tr style=\"text-align: right;\">\n",
       "      <th></th>\n",
       "      <th>Permit Number</th>\n",
       "      <th>Permit Type</th>\n",
       "      <th>Permit Type Definition</th>\n",
       "      <th>Permit Creation Date</th>\n",
       "      <th>Block</th>\n",
       "      <th>Lot</th>\n",
       "      <th>Street Number</th>\n",
       "      <th>Street Number Suffix</th>\n",
       "      <th>Street Name</th>\n",
       "      <th>Street Suffix</th>\n",
       "      <th>...</th>\n",
       "      <th>Existing Construction Type</th>\n",
       "      <th>Existing Construction Type Description</th>\n",
       "      <th>Proposed Construction Type</th>\n",
       "      <th>Proposed Construction Type Description</th>\n",
       "      <th>Site Permit</th>\n",
       "      <th>Supervisor District</th>\n",
       "      <th>Neighborhoods - Analysis Boundaries</th>\n",
       "      <th>Zipcode</th>\n",
       "      <th>Location</th>\n",
       "      <th>Record ID</th>\n",
       "    </tr>\n",
       "  </thead>\n",
       "  <tbody>\n",
       "  </tbody>\n",
       "</table>\n",
       "<p>0 rows × 43 columns</p>\n",
       "</div>"
      ],
      "text/plain": [
       "Empty DataFrame\n",
       "Columns: [Permit Number, Permit Type, Permit Type Definition, Permit Creation Date, Block, Lot, Street Number, Street Number Suffix, Street Name, Street Suffix, Unit, Unit Suffix, Description, Current Status, Current Status Date, Filed Date, Issued Date, Completed Date, First Construction Document Date, Structural Notification, Number of Existing Stories, Number of Proposed Stories, Voluntary Soft-Story Retrofit, Fire Only Permit, Permit Expiration Date, Estimated Cost, Revised Cost, Existing Use, Existing Units, Proposed Use, Proposed Units, Plansets, TIDF Compliance, Existing Construction Type, Existing Construction Type Description, Proposed Construction Type, Proposed Construction Type Description, Site Permit, Supervisor District, Neighborhoods - Analysis Boundaries, Zipcode, Location, Record ID]\n",
       "Index: []\n",
       "\n",
       "[0 rows x 43 columns]"
      ]
     },
     "execution_count": 10,
     "metadata": {},
     "output_type": "execute_result"
    }
   ],
   "source": [
    "# TODO: Your code here!\n",
    "sf_permits.dropna()\n"
   ]
  },
  {
   "cell_type": "markdown",
   "id": "4287c9c5",
   "metadata": {
    "papermill": {
     "duration": 0.008641,
     "end_time": "2022-07-10T06:46:22.753464",
     "exception": false,
     "start_time": "2022-07-10T06:46:22.744823",
     "status": "completed"
    },
    "tags": []
   },
   "source": [
    "Once you have an answer, run the code cell below."
   ]
  },
  {
   "cell_type": "code",
   "execution_count": 11,
   "id": "2dbb1a3d",
   "metadata": {
    "execution": {
     "iopub.execute_input": "2022-07-10T06:46:22.772968Z",
     "iopub.status.busy": "2022-07-10T06:46:22.772298Z",
     "iopub.status.idle": "2022-07-10T06:46:22.780724Z",
     "shell.execute_reply": "2022-07-10T06:46:22.779841Z"
    },
    "papermill": {
     "duration": 0.020818,
     "end_time": "2022-07-10T06:46:22.783025",
     "exception": false,
     "start_time": "2022-07-10T06:46:22.762207",
     "status": "completed"
    },
    "tags": []
   },
   "outputs": [
    {
     "data": {
      "application/javascript": [
       "parent.postMessage({\"jupyterEvent\": \"custom.exercise_interaction\", \"data\": {\"outcomeType\": 1, \"valueTowardsCompletion\": 0.16666666666666666, \"interactionType\": 1, \"questionType\": 4, \"questionId\": \"4_DropMissingRows\", \"learnToolsVersion\": \"0.3.4\", \"failureMessage\": \"\", \"exceptionClass\": \"\", \"trace\": \"\"}}, \"*\")"
      ],
      "text/plain": [
       "<IPython.core.display.Javascript object>"
      ]
     },
     "metadata": {},
     "output_type": "display_data"
    },
    {
     "data": {
      "text/markdown": [
       "<span style=\"color:#33cc33\">Correct:</span> \n",
       "\n",
       "There are no rows remaining in the dataset!"
      ],
      "text/plain": [
       "Correct: \n",
       "\n",
       "There are no rows remaining in the dataset!"
      ]
     },
     "metadata": {},
     "output_type": "display_data"
    }
   ],
   "source": [
    "# Check your answer (Run this code cell to receive credit!)\n",
    "q4.check()"
   ]
  },
  {
   "cell_type": "code",
   "execution_count": 12,
   "id": "24ef6cb9",
   "metadata": {
    "execution": {
     "iopub.execute_input": "2022-07-10T06:46:22.803130Z",
     "iopub.status.busy": "2022-07-10T06:46:22.802440Z",
     "iopub.status.idle": "2022-07-10T06:46:22.806843Z",
     "shell.execute_reply": "2022-07-10T06:46:22.806054Z"
    },
    "papermill": {
     "duration": 0.017134,
     "end_time": "2022-07-10T06:46:22.809015",
     "exception": false,
     "start_time": "2022-07-10T06:46:22.791881",
     "status": "completed"
    },
    "tags": []
   },
   "outputs": [],
   "source": [
    "# Line below will give you a hint\n",
    "#q4.hint()"
   ]
  },
  {
   "cell_type": "markdown",
   "id": "74abbd80",
   "metadata": {
    "papermill": {
     "duration": 0.008594,
     "end_time": "2022-07-10T06:46:22.826667",
     "exception": false,
     "start_time": "2022-07-10T06:46:22.818073",
     "status": "completed"
    },
    "tags": []
   },
   "source": [
    "# 5) Drop missing values: columns\n",
    "\n",
    "Now try removing all the columns with empty values.  \n",
    "- Create a new DataFrame called `sf_permits_with_na_dropped` that has all of the columns with empty values removed.  \n",
    "- How many columns were removed from the original `sf_permits` DataFrame? Use this number to set the value of the `dropped_columns` variable below."
   ]
  },
  {
   "cell_type": "code",
   "execution_count": 13,
   "id": "a1cc9185",
   "metadata": {
    "execution": {
     "iopub.execute_input": "2022-07-10T06:46:22.846875Z",
     "iopub.status.busy": "2022-07-10T06:46:22.846105Z",
     "iopub.status.idle": "2022-07-10T06:46:23.360176Z",
     "shell.execute_reply": "2022-07-10T06:46:23.358884Z"
    },
    "papermill": {
     "duration": 0.527126,
     "end_time": "2022-07-10T06:46:23.362911",
     "exception": false,
     "start_time": "2022-07-10T06:46:22.835785",
     "status": "completed"
    },
    "tags": []
   },
   "outputs": [
    {
     "data": {
      "application/javascript": [
       "parent.postMessage({\"jupyterEvent\": \"custom.exercise_interaction\", \"data\": {\"outcomeType\": 1, \"valueTowardsCompletion\": 0.16666666666666666, \"interactionType\": 1, \"questionType\": 1, \"questionId\": \"5_DropMissingCols\", \"learnToolsVersion\": \"0.3.4\", \"failureMessage\": \"\", \"exceptionClass\": \"\", \"trace\": \"\"}}, \"*\")"
      ],
      "text/plain": [
       "<IPython.core.display.Javascript object>"
      ]
     },
     "metadata": {},
     "output_type": "display_data"
    },
    {
     "data": {
      "text/markdown": [
       "<span style=\"color:#33cc33\">Correct</span>"
      ],
      "text/plain": [
       "Correct"
      ]
     },
     "metadata": {},
     "output_type": "display_data"
    }
   ],
   "source": [
    "# TODO: Your code here\n",
    "sf_permits_with_na_dropped = sf_permits.dropna(axis=1)\n",
    "\n",
    "dropped_columns = sf_permits.shape[1] - sf_permits_with_na_dropped.shape[1]\n",
    "\n",
    "# Check your answer\n",
    "q5.check()"
   ]
  },
  {
   "cell_type": "code",
   "execution_count": 14,
   "id": "fac5e889",
   "metadata": {
    "execution": {
     "iopub.execute_input": "2022-07-10T06:46:23.383482Z",
     "iopub.status.busy": "2022-07-10T06:46:23.383101Z",
     "iopub.status.idle": "2022-07-10T06:46:23.388518Z",
     "shell.execute_reply": "2022-07-10T06:46:23.387473Z"
    },
    "papermill": {
     "duration": 0.018502,
     "end_time": "2022-07-10T06:46:23.390850",
     "exception": false,
     "start_time": "2022-07-10T06:46:23.372348",
     "status": "completed"
    },
    "tags": []
   },
   "outputs": [],
   "source": [
    "# Lines below will give you a hint or solution code\n",
    "#q5.hint()\n",
    "#q5.solution()"
   ]
  },
  {
   "cell_type": "markdown",
   "id": "39388260",
   "metadata": {
    "papermill": {
     "duration": 0.008986,
     "end_time": "2022-07-10T06:46:23.409079",
     "exception": false,
     "start_time": "2022-07-10T06:46:23.400093",
     "status": "completed"
    },
    "tags": []
   },
   "source": [
    "# 6) Fill in missing values automatically\n",
    "\n",
    "Try replacing all the NaN's in the `sf_permits` data with the one that comes directly after it and then replacing any remaining NaN's with 0.  Set the result to a new DataFrame `sf_permits_with_na_imputed`."
   ]
  },
  {
   "cell_type": "code",
   "execution_count": 15,
   "id": "caec13bb",
   "metadata": {
    "execution": {
     "iopub.execute_input": "2022-07-10T06:46:23.429372Z",
     "iopub.status.busy": "2022-07-10T06:46:23.428954Z",
     "iopub.status.idle": "2022-07-10T06:46:24.900115Z",
     "shell.execute_reply": "2022-07-10T06:46:24.899180Z"
    },
    "papermill": {
     "duration": 1.483868,
     "end_time": "2022-07-10T06:46:24.902173",
     "exception": false,
     "start_time": "2022-07-10T06:46:23.418305",
     "status": "completed"
    },
    "tags": []
   },
   "outputs": [
    {
     "data": {
      "application/javascript": [
       "parent.postMessage({\"jupyterEvent\": \"custom.exercise_interaction\", \"data\": {\"outcomeType\": 1, \"valueTowardsCompletion\": 0.16666666666666666, \"interactionType\": 1, \"questionType\": 1, \"questionId\": \"6_ImputeAutomatically\", \"learnToolsVersion\": \"0.3.4\", \"failureMessage\": \"\", \"exceptionClass\": \"\", \"trace\": \"\"}}, \"*\")"
      ],
      "text/plain": [
       "<IPython.core.display.Javascript object>"
      ]
     },
     "metadata": {},
     "output_type": "display_data"
    },
    {
     "data": {
      "text/markdown": [
       "<span style=\"color:#33cc33\">Correct</span>"
      ],
      "text/plain": [
       "Correct"
      ]
     },
     "metadata": {},
     "output_type": "display_data"
    }
   ],
   "source": [
    "# TODO: Your code here\n",
    "sf_permits_with_na_imputed = sf_permits.fillna(method='bfill',axis=0).fillna(0)\n",
    "\n",
    "# Check your answer\n",
    "q6.check()"
   ]
  },
  {
   "cell_type": "code",
   "execution_count": 16,
   "id": "9de82b21",
   "metadata": {
    "execution": {
     "iopub.execute_input": "2022-07-10T06:46:24.924436Z",
     "iopub.status.busy": "2022-07-10T06:46:24.923861Z",
     "iopub.status.idle": "2022-07-10T06:46:24.927225Z",
     "shell.execute_reply": "2022-07-10T06:46:24.926471Z"
    },
    "papermill": {
     "duration": 0.0167,
     "end_time": "2022-07-10T06:46:24.929409",
     "exception": false,
     "start_time": "2022-07-10T06:46:24.912709",
     "status": "completed"
    },
    "tags": []
   },
   "outputs": [],
   "source": [
    "# Lines below will give you a hint or solution code\n",
    "#q6.hint()\n",
    "#q6.solution()"
   ]
  },
  {
   "cell_type": "markdown",
   "id": "ad47f561",
   "metadata": {
    "papermill": {
     "duration": 0.009589,
     "end_time": "2022-07-10T06:46:24.948496",
     "exception": false,
     "start_time": "2022-07-10T06:46:24.938907",
     "status": "completed"
    },
    "tags": []
   },
   "source": [
    "# More practice\n",
    "\n",
    "If you're looking for more practice handling missing values:\n",
    "\n",
    "* Check out [this noteboook](https://www.kaggle.com/alexisbcook/missing-values) on handling missing values using scikit-learn's imputer. \n",
    "* Look back at the \"Zipcode\" column in the `sf_permits` dataset, which has some missing values. How would you go about figuring out what the actual zipcode of each address should be? (You might try using another dataset. You can search for datasets about San Fransisco on the [Datasets listing](https://www.kaggle.com/datasets).) \n",
    "\n",
    "# Keep going\n",
    "\n",
    "In the next lesson, learn how to [**apply scaling and normalization**](https://www.kaggle.com/alexisbcook/scaling-and-normalization) to transform your data."
   ]
  },
  {
   "cell_type": "markdown",
   "id": "f4ddd70e",
   "metadata": {
    "papermill": {
     "duration": 0.009262,
     "end_time": "2022-07-10T06:46:24.967291",
     "exception": false,
     "start_time": "2022-07-10T06:46:24.958029",
     "status": "completed"
    },
    "tags": []
   },
   "source": [
    "---\n",
    "\n",
    "\n",
    "\n",
    "\n",
    "*Have questions or comments? Visit the [course discussion forum](https://www.kaggle.com/learn/data-cleaning/discussion) to chat with other learners.*"
   ]
  }
 ],
 "metadata": {
  "kernelspec": {
   "display_name": "Python 3",
   "language": "python",
   "name": "python3"
  },
  "language_info": {
   "codemirror_mode": {
    "name": "ipython",
    "version": 3
   },
   "file_extension": ".py",
   "mimetype": "text/x-python",
   "name": "python",
   "nbconvert_exporter": "python",
   "pygments_lexer": "ipython3",
   "version": "3.7.12"
  },
  "papermill": {
   "default_parameters": {},
   "duration": 20.324236,
   "end_time": "2022-07-10T06:46:25.797516",
   "environment_variables": {},
   "exception": null,
   "input_path": "__notebook__.ipynb",
   "output_path": "__notebook__.ipynb",
   "parameters": {},
   "start_time": "2022-07-10T06:46:05.473280",
   "version": "2.3.4"
  }
 },
 "nbformat": 4,
 "nbformat_minor": 5
}

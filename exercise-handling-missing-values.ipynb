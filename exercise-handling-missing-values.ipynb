{
 "cells": [
  {
   "cell_type": "markdown",
   "id": "f88dbb8e",
   "metadata": {
    "papermill": {
     "duration": 0.009435,
     "end_time": "2022-07-10T06:23:57.840579",
     "exception": false,
     "start_time": "2022-07-10T06:23:57.831144",
     "status": "completed"
    },
    "tags": []
   },
   "source": [
    "**This notebook is an exercise in the [Data Cleaning](https://www.kaggle.com/learn/data-cleaning) course.  You can reference the tutorial at [this link](https://www.kaggle.com/alexisbcook/handling-missing-values).**\n",
    "\n",
    "---\n"
   ]
  },
  {
   "cell_type": "markdown",
   "id": "9f0b18a9",
   "metadata": {
    "papermill": {
     "duration": 0.008537,
     "end_time": "2022-07-10T06:23:57.857350",
     "exception": false,
     "start_time": "2022-07-10T06:23:57.848813",
     "status": "completed"
    },
    "tags": []
   },
   "source": [
    "In this exercise, you'll apply what you learned in the **Handling missing values** tutorial.\n",
    "\n",
    "# Setup\n",
    "\n",
    "The questions below will give you feedback on your work. Run the following cell to set up the feedback system."
   ]
  },
  {
   "cell_type": "code",
   "execution_count": 1,
   "id": "54eb31a6",
   "metadata": {
    "execution": {
     "iopub.execute_input": "2022-07-10T06:23:57.875741Z",
     "iopub.status.busy": "2022-07-10T06:23:57.875196Z",
     "iopub.status.idle": "2022-07-10T06:24:02.877646Z",
     "shell.execute_reply": "2022-07-10T06:24:02.876033Z"
    },
    "papermill": {
     "duration": 5.01663,
     "end_time": "2022-07-10T06:24:02.882285",
     "exception": false,
     "start_time": "2022-07-10T06:23:57.865655",
     "status": "completed"
    },
    "tags": []
   },
   "outputs": [
    {
     "name": "stderr",
     "output_type": "stream",
     "text": [
      "/opt/conda/lib/python3.7/site-packages/ipykernel_launcher.py:3: DtypeWarning: Columns (22,32) have mixed types.Specify dtype option on import or set low_memory=False.\n",
      "  This is separate from the ipykernel package so we can avoid doing imports until\n"
     ]
    },
    {
     "name": "stdout",
     "output_type": "stream",
     "text": [
      "Setup Complete\n"
     ]
    }
   ],
   "source": [
    "from learntools.core import binder\n",
    "binder.bind(globals())\n",
    "from learntools.data_cleaning.ex1 import *\n",
    "print(\"Setup Complete\")"
   ]
  },
  {
   "cell_type": "markdown",
   "id": "f24666f9",
   "metadata": {
    "papermill": {
     "duration": 0.007704,
     "end_time": "2022-07-10T06:24:02.898605",
     "exception": false,
     "start_time": "2022-07-10T06:24:02.890901",
     "status": "completed"
    },
    "tags": []
   },
   "source": [
    "# 1) Take a first look at the data\n",
    "\n",
    "Run the next code cell to load in the libraries and dataset you'll use to complete the exercise."
   ]
  },
  {
   "cell_type": "code",
   "execution_count": 2,
   "id": "7b0a1de8",
   "metadata": {
    "execution": {
     "iopub.execute_input": "2022-07-10T06:24:02.916144Z",
     "iopub.status.busy": "2022-07-10T06:24:02.915768Z",
     "iopub.status.idle": "2022-07-10T06:24:04.653796Z",
     "shell.execute_reply": "2022-07-10T06:24:04.652012Z"
    },
    "papermill": {
     "duration": 1.749868,
     "end_time": "2022-07-10T06:24:04.656744",
     "exception": false,
     "start_time": "2022-07-10T06:24:02.906876",
     "status": "completed"
    },
    "tags": []
   },
   "outputs": [
    {
     "name": "stderr",
     "output_type": "stream",
     "text": [
      "/opt/conda/lib/python3.7/site-packages/IPython/core/interactiveshell.py:3552: DtypeWarning: Columns (22,32) have mixed types.Specify dtype option on import or set low_memory=False.\n",
      "  exec(code_obj, self.user_global_ns, self.user_ns)\n"
     ]
    }
   ],
   "source": [
    "# modules we'll use\n",
    "import pandas as pd\n",
    "import numpy as np\n",
    "\n",
    "# read in all our data\n",
    "sf_permits = pd.read_csv(\"../input/building-permit-applications-data/Building_Permits.csv\")\n",
    "\n",
    "# set seed for reproducibility\n",
    "np.random.seed(0) "
   ]
  },
  {
   "cell_type": "markdown",
   "id": "3b95edc2",
   "metadata": {
    "papermill": {
     "duration": 0.007967,
     "end_time": "2022-07-10T06:24:04.672727",
     "exception": false,
     "start_time": "2022-07-10T06:24:04.664760",
     "status": "completed"
    },
    "tags": []
   },
   "source": [
    "Use the code cell below to print the first five rows of the `sf_permits` DataFrame."
   ]
  },
  {
   "cell_type": "code",
   "execution_count": 3,
   "id": "0824842f",
   "metadata": {
    "execution": {
     "iopub.execute_input": "2022-07-10T06:24:04.692786Z",
     "iopub.status.busy": "2022-07-10T06:24:04.692319Z",
     "iopub.status.idle": "2022-07-10T06:24:05.132719Z",
     "shell.execute_reply": "2022-07-10T06:24:05.131112Z"
    },
    "papermill": {
     "duration": 0.454671,
     "end_time": "2022-07-10T06:24:05.135990",
     "exception": false,
     "start_time": "2022-07-10T06:24:04.681319",
     "status": "completed"
    },
    "tags": []
   },
   "outputs": [
    {
     "data": {
      "text/plain": [
       "Permit Number                  0\n",
       "Permit Type                    0\n",
       "Permit Type Definition         0\n",
       "Permit Creation Date           0\n",
       "Block                          0\n",
       "Lot                            0\n",
       "Street Number                  0\n",
       "Street Number Suffix      196684\n",
       "Street Name                    0\n",
       "Street Suffix               2768\n",
       "dtype: int64"
      ]
     },
     "execution_count": 3,
     "metadata": {},
     "output_type": "execute_result"
    }
   ],
   "source": [
    "null_count = sf_permits.isnull().sum()\n",
    "null_count[:10]"
   ]
  },
  {
   "cell_type": "markdown",
   "id": "bb59654d",
   "metadata": {
    "papermill": {
     "duration": 0.008831,
     "end_time": "2022-07-10T06:24:05.153345",
     "exception": false,
     "start_time": "2022-07-10T06:24:05.144514",
     "status": "completed"
    },
    "tags": []
   },
   "source": [
    "Does the dataset have any missing values?  Once you have an answer, run the code cell below to get credit for your work."
   ]
  },
  {
   "cell_type": "code",
   "execution_count": 4,
   "id": "6f6a659c",
   "metadata": {
    "execution": {
     "iopub.execute_input": "2022-07-10T06:24:05.175867Z",
     "iopub.status.busy": "2022-07-10T06:24:05.175478Z",
     "iopub.status.idle": "2022-07-10T06:24:05.186712Z",
     "shell.execute_reply": "2022-07-10T06:24:05.185456Z"
    },
    "papermill": {
     "duration": 0.024458,
     "end_time": "2022-07-10T06:24:05.189064",
     "exception": false,
     "start_time": "2022-07-10T06:24:05.164606",
     "status": "completed"
    },
    "tags": []
   },
   "outputs": [
    {
     "data": {
      "application/javascript": [
       "parent.postMessage({\"jupyterEvent\": \"custom.exercise_interaction\", \"data\": {\"outcomeType\": 1, \"valueTowardsCompletion\": 0.16666666666666666, \"interactionType\": 1, \"questionType\": 4, \"questionId\": \"1_TakeFirstLook\", \"learnToolsVersion\": \"0.3.4\", \"failureMessage\": \"\", \"exceptionClass\": \"\", \"trace\": \"\"}}, \"*\")"
      ],
      "text/plain": [
       "<IPython.core.display.Javascript object>"
      ]
     },
     "metadata": {},
     "output_type": "display_data"
    },
    {
     "data": {
      "text/markdown": [
       "<span style=\"color:#33cc33\">Correct:</span> \n",
       "\n",
       "The first five rows of the data does show that several columns have missing values.  You can see this in the \"Street Number Suffix\", \"Proposed Construction Type\" and \"Site Permit\" columns, among others."
      ],
      "text/plain": [
       "Correct: \n",
       "\n",
       "The first five rows of the data does show that several columns have missing values.  You can see this in the \"Street Number Suffix\", \"Proposed Construction Type\" and \"Site Permit\" columns, among others."
      ]
     },
     "metadata": {},
     "output_type": "display_data"
    }
   ],
   "source": [
    "# Check your answer (Run this code cell to receive credit!)\n",
    "q1.check()"
   ]
  },
  {
   "cell_type": "code",
   "execution_count": 5,
   "id": "08a968c2",
   "metadata": {
    "execution": {
     "iopub.execute_input": "2022-07-10T06:24:05.207865Z",
     "iopub.status.busy": "2022-07-10T06:24:05.207495Z",
     "iopub.status.idle": "2022-07-10T06:24:05.212099Z",
     "shell.execute_reply": "2022-07-10T06:24:05.210913Z"
    },
    "papermill": {
     "duration": 0.016959,
     "end_time": "2022-07-10T06:24:05.214568",
     "exception": false,
     "start_time": "2022-07-10T06:24:05.197609",
     "status": "completed"
    },
    "tags": []
   },
   "outputs": [],
   "source": [
    "# Line below will give you a hint\n",
    "#q1.hint()"
   ]
  },
  {
   "cell_type": "markdown",
   "id": "989b2875",
   "metadata": {
    "papermill": {
     "duration": 0.008067,
     "end_time": "2022-07-10T06:24:05.230707",
     "exception": false,
     "start_time": "2022-07-10T06:24:05.222640",
     "status": "completed"
    },
    "tags": []
   },
   "source": [
    "# 2) How many missing data points do we have?\n",
    "\n",
    "What percentage of the values in the dataset are missing?  Your answer should be a number between 0 and 100.  (If 1/4 of the values in the dataset are missing, the answer is 25.)"
   ]
  },
  {
   "cell_type": "code",
   "execution_count": 6,
   "id": "c6b3d02c",
   "metadata": {
    "execution": {
     "iopub.execute_input": "2022-07-10T06:24:05.249752Z",
     "iopub.status.busy": "2022-07-10T06:24:05.249380Z",
     "iopub.status.idle": "2022-07-10T06:24:05.261418Z",
     "shell.execute_reply": "2022-07-10T06:24:05.259782Z"
    },
    "papermill": {
     "duration": 0.024359,
     "end_time": "2022-07-10T06:24:05.263975",
     "exception": false,
     "start_time": "2022-07-10T06:24:05.239616",
     "status": "completed"
    },
    "tags": []
   },
   "outputs": [
    {
     "data": {
      "application/javascript": [
       "parent.postMessage({\"jupyterEvent\": \"custom.exercise_interaction\", \"data\": {\"outcomeType\": 1, \"valueTowardsCompletion\": 0.16666666666666666, \"interactionType\": 1, \"questionType\": 1, \"questionId\": \"2_PercentMissingValues\", \"learnToolsVersion\": \"0.3.4\", \"failureMessage\": \"\", \"exceptionClass\": \"\", \"trace\": \"\"}}, \"*\")"
      ],
      "text/plain": [
       "<IPython.core.display.Javascript object>"
      ]
     },
     "metadata": {},
     "output_type": "display_data"
    },
    {
     "data": {
      "text/markdown": [
       "<span style=\"color:#33cc33\">Correct</span>"
      ],
      "text/plain": [
       "Correct"
      ]
     },
     "metadata": {},
     "output_type": "display_data"
    }
   ],
   "source": [
    "# TODO: Your code here!\n",
    "tot_cells = np.product(sf_permits.shape)\n",
    "tot_missing = null_count.sum()\n",
    "percent_missing = (tot_missing/tot_cells)*100\n",
    "\n",
    "# Check your answer\n",
    "q2.check()"
   ]
  },
  {
   "cell_type": "code",
   "execution_count": 7,
   "id": "01e00ab9",
   "metadata": {
    "execution": {
     "iopub.execute_input": "2022-07-10T06:24:05.283020Z",
     "iopub.status.busy": "2022-07-10T06:24:05.282615Z",
     "iopub.status.idle": "2022-07-10T06:24:05.288153Z",
     "shell.execute_reply": "2022-07-10T06:24:05.286823Z"
    },
    "papermill": {
     "duration": 0.018735,
     "end_time": "2022-07-10T06:24:05.291373",
     "exception": false,
     "start_time": "2022-07-10T06:24:05.272638",
     "status": "completed"
    },
    "tags": []
   },
   "outputs": [],
   "source": [
    "# Lines below will give you a hint or solution code\n",
    "#q2.hint()\n",
    "#q2.solution()"
   ]
  },
  {
   "cell_type": "markdown",
   "id": "efc015b8",
   "metadata": {
    "papermill": {
     "duration": 0.009028,
     "end_time": "2022-07-10T06:24:05.309452",
     "exception": false,
     "start_time": "2022-07-10T06:24:05.300424",
     "status": "completed"
    },
    "tags": []
   },
   "source": [
    "# 3) Figure out why the data is missing\n",
    "\n",
    "Look at the columns **\"Street Number Suffix\"** and **\"Zipcode\"** from the [San Francisco Building Permits dataset](https://www.kaggle.com/aparnashastry/building-permit-applications-data). Both of these contain missing values. \n",
    "- Which, if either, are missing because they don't exist? \n",
    "- Which, if either, are missing because they weren't recorded?  \n",
    "\n",
    "Once you have an answer, run the code cell below."
   ]
  },
  {
   "cell_type": "code",
   "execution_count": 8,
   "id": "f94145ab",
   "metadata": {
    "execution": {
     "iopub.execute_input": "2022-07-10T06:24:05.329660Z",
     "iopub.status.busy": "2022-07-10T06:24:05.329179Z",
     "iopub.status.idle": "2022-07-10T06:24:05.341378Z",
     "shell.execute_reply": "2022-07-10T06:24:05.339632Z"
    },
    "papermill": {
     "duration": 0.02544,
     "end_time": "2022-07-10T06:24:05.344034",
     "exception": false,
     "start_time": "2022-07-10T06:24:05.318594",
     "status": "completed"
    },
    "tags": []
   },
   "outputs": [
    {
     "data": {
      "application/javascript": [
       "parent.postMessage({\"jupyterEvent\": \"custom.exercise_interaction\", \"data\": {\"outcomeType\": 1, \"valueTowardsCompletion\": 0.16666666666666666, \"interactionType\": 1, \"questionType\": 4, \"questionId\": \"3_WhyDataMissing\", \"learnToolsVersion\": \"0.3.4\", \"failureMessage\": \"\", \"exceptionClass\": \"\", \"trace\": \"\"}}, \"*\")"
      ],
      "text/plain": [
       "<IPython.core.display.Javascript object>"
      ]
     },
     "metadata": {},
     "output_type": "display_data"
    },
    {
     "data": {
      "text/markdown": [
       "<span style=\"color:#33cc33\">Correct:</span> \n",
       "\n",
       "If a value in the \"Street Number Suffix\" column is missing, it is likely because it does not exist. If a value in the \"Zipcode\" column is missing, it was not recorded."
      ],
      "text/plain": [
       "Correct: \n",
       "\n",
       "If a value in the \"Street Number Suffix\" column is missing, it is likely because it does not exist. If a value in the \"Zipcode\" column is missing, it was not recorded."
      ]
     },
     "metadata": {},
     "output_type": "display_data"
    }
   ],
   "source": [
    "# Check your answer (Run this code cell to receive credit!)\n",
    "q3.check()"
   ]
  },
  {
   "cell_type": "code",
   "execution_count": 9,
   "id": "d3cc73d4",
   "metadata": {
    "execution": {
     "iopub.execute_input": "2022-07-10T06:24:05.366515Z",
     "iopub.status.busy": "2022-07-10T06:24:05.366057Z",
     "iopub.status.idle": "2022-07-10T06:24:05.371451Z",
     "shell.execute_reply": "2022-07-10T06:24:05.370307Z"
    },
    "papermill": {
     "duration": 0.020465,
     "end_time": "2022-07-10T06:24:05.374362",
     "exception": false,
     "start_time": "2022-07-10T06:24:05.353897",
     "status": "completed"
    },
    "tags": []
   },
   "outputs": [],
   "source": [
    "# Line below will give you a hint\n",
    "#q3.hint()"
   ]
  },
  {
   "cell_type": "markdown",
   "id": "0be4ecd0",
   "metadata": {
    "papermill": {
     "duration": 0.009268,
     "end_time": "2022-07-10T06:24:05.393040",
     "exception": false,
     "start_time": "2022-07-10T06:24:05.383772",
     "status": "completed"
    },
    "tags": []
   },
   "source": [
    "# 4) Drop missing values: rows\n",
    "\n",
    "If you removed all of the rows of `sf_permits` with missing values, how many rows are left?\n",
    "\n",
    "**Note**: Do not change the value of `sf_permits` when checking this.  "
   ]
  },
  {
   "cell_type": "code",
   "execution_count": 10,
   "id": "c6dbc038",
   "metadata": {
    "execution": {
     "iopub.execute_input": "2022-07-10T06:24:05.414607Z",
     "iopub.status.busy": "2022-07-10T06:24:05.413769Z",
     "iopub.status.idle": "2022-07-10T06:24:05.870050Z",
     "shell.execute_reply": "2022-07-10T06:24:05.868520Z"
    },
    "papermill": {
     "duration": 0.470258,
     "end_time": "2022-07-10T06:24:05.872774",
     "exception": false,
     "start_time": "2022-07-10T06:24:05.402516",
     "status": "completed"
    },
    "tags": []
   },
   "outputs": [
    {
     "data": {
      "text/html": [
       "<div>\n",
       "<style scoped>\n",
       "    .dataframe tbody tr th:only-of-type {\n",
       "        vertical-align: middle;\n",
       "    }\n",
       "\n",
       "    .dataframe tbody tr th {\n",
       "        vertical-align: top;\n",
       "    }\n",
       "\n",
       "    .dataframe thead th {\n",
       "        text-align: right;\n",
       "    }\n",
       "</style>\n",
       "<table border=\"1\" class=\"dataframe\">\n",
       "  <thead>\n",
       "    <tr style=\"text-align: right;\">\n",
       "      <th></th>\n",
       "      <th>Permit Number</th>\n",
       "      <th>Permit Type</th>\n",
       "      <th>Permit Type Definition</th>\n",
       "      <th>Permit Creation Date</th>\n",
       "      <th>Block</th>\n",
       "      <th>Lot</th>\n",
       "      <th>Street Number</th>\n",
       "      <th>Street Number Suffix</th>\n",
       "      <th>Street Name</th>\n",
       "      <th>Street Suffix</th>\n",
       "      <th>...</th>\n",
       "      <th>Existing Construction Type</th>\n",
       "      <th>Existing Construction Type Description</th>\n",
       "      <th>Proposed Construction Type</th>\n",
       "      <th>Proposed Construction Type Description</th>\n",
       "      <th>Site Permit</th>\n",
       "      <th>Supervisor District</th>\n",
       "      <th>Neighborhoods - Analysis Boundaries</th>\n",
       "      <th>Zipcode</th>\n",
       "      <th>Location</th>\n",
       "      <th>Record ID</th>\n",
       "    </tr>\n",
       "  </thead>\n",
       "  <tbody>\n",
       "  </tbody>\n",
       "</table>\n",
       "<p>0 rows × 43 columns</p>\n",
       "</div>"
      ],
      "text/plain": [
       "Empty DataFrame\n",
       "Columns: [Permit Number, Permit Type, Permit Type Definition, Permit Creation Date, Block, Lot, Street Number, Street Number Suffix, Street Name, Street Suffix, Unit, Unit Suffix, Description, Current Status, Current Status Date, Filed Date, Issued Date, Completed Date, First Construction Document Date, Structural Notification, Number of Existing Stories, Number of Proposed Stories, Voluntary Soft-Story Retrofit, Fire Only Permit, Permit Expiration Date, Estimated Cost, Revised Cost, Existing Use, Existing Units, Proposed Use, Proposed Units, Plansets, TIDF Compliance, Existing Construction Type, Existing Construction Type Description, Proposed Construction Type, Proposed Construction Type Description, Site Permit, Supervisor District, Neighborhoods - Analysis Boundaries, Zipcode, Location, Record ID]\n",
       "Index: []\n",
       "\n",
       "[0 rows x 43 columns]"
      ]
     },
     "execution_count": 10,
     "metadata": {},
     "output_type": "execute_result"
    }
   ],
   "source": [
    "# TODO: Your code here!\n",
    "sf_permits.dropna()\n"
   ]
  },
  {
   "cell_type": "markdown",
   "id": "1f3045a3",
   "metadata": {
    "papermill": {
     "duration": 0.008882,
     "end_time": "2022-07-10T06:24:05.890785",
     "exception": false,
     "start_time": "2022-07-10T06:24:05.881903",
     "status": "completed"
    },
    "tags": []
   },
   "source": [
    "Once you have an answer, run the code cell below."
   ]
  },
  {
   "cell_type": "code",
   "execution_count": 11,
   "id": "d0764724",
   "metadata": {
    "execution": {
     "iopub.execute_input": "2022-07-10T06:24:05.911395Z",
     "iopub.status.busy": "2022-07-10T06:24:05.910916Z",
     "iopub.status.idle": "2022-07-10T06:24:05.922679Z",
     "shell.execute_reply": "2022-07-10T06:24:05.921266Z"
    },
    "papermill": {
     "duration": 0.025433,
     "end_time": "2022-07-10T06:24:05.925394",
     "exception": false,
     "start_time": "2022-07-10T06:24:05.899961",
     "status": "completed"
    },
    "tags": []
   },
   "outputs": [
    {
     "data": {
      "application/javascript": [
       "parent.postMessage({\"jupyterEvent\": \"custom.exercise_interaction\", \"data\": {\"outcomeType\": 1, \"valueTowardsCompletion\": 0.16666666666666666, \"interactionType\": 1, \"questionType\": 4, \"questionId\": \"4_DropMissingRows\", \"learnToolsVersion\": \"0.3.4\", \"failureMessage\": \"\", \"exceptionClass\": \"\", \"trace\": \"\"}}, \"*\")"
      ],
      "text/plain": [
       "<IPython.core.display.Javascript object>"
      ]
     },
     "metadata": {},
     "output_type": "display_data"
    },
    {
     "data": {
      "text/markdown": [
       "<span style=\"color:#33cc33\">Correct:</span> \n",
       "\n",
       "There are no rows remaining in the dataset!"
      ],
      "text/plain": [
       "Correct: \n",
       "\n",
       "There are no rows remaining in the dataset!"
      ]
     },
     "metadata": {},
     "output_type": "display_data"
    }
   ],
   "source": [
    "# Check your answer (Run this code cell to receive credit!)\n",
    "q4.check()"
   ]
  },
  {
   "cell_type": "code",
   "execution_count": 12,
   "id": "52ffd120",
   "metadata": {
    "execution": {
     "iopub.execute_input": "2022-07-10T06:24:05.946651Z",
     "iopub.status.busy": "2022-07-10T06:24:05.946201Z",
     "iopub.status.idle": "2022-07-10T06:24:05.952003Z",
     "shell.execute_reply": "2022-07-10T06:24:05.950170Z"
    },
    "papermill": {
     "duration": 0.019164,
     "end_time": "2022-07-10T06:24:05.954775",
     "exception": false,
     "start_time": "2022-07-10T06:24:05.935611",
     "status": "completed"
    },
    "tags": []
   },
   "outputs": [],
   "source": [
    "# Line below will give you a hint\n",
    "#q4.hint()"
   ]
  },
  {
   "cell_type": "markdown",
   "id": "04116138",
   "metadata": {
    "papermill": {
     "duration": 0.00959,
     "end_time": "2022-07-10T06:24:05.973559",
     "exception": false,
     "start_time": "2022-07-10T06:24:05.963969",
     "status": "completed"
    },
    "tags": []
   },
   "source": [
    "# 5) Drop missing values: columns\n",
    "\n",
    "Now try removing all the columns with empty values.  \n",
    "- Create a new DataFrame called `sf_permits_with_na_dropped` that has all of the columns with empty values removed.  \n",
    "- How many columns were removed from the original `sf_permits` DataFrame? Use this number to set the value of the `dropped_columns` variable below."
   ]
  },
  {
   "cell_type": "code",
   "execution_count": 13,
   "id": "cb8534a5",
   "metadata": {
    "execution": {
     "iopub.execute_input": "2022-07-10T06:24:05.995596Z",
     "iopub.status.busy": "2022-07-10T06:24:05.995150Z",
     "iopub.status.idle": "2022-07-10T06:24:06.460754Z",
     "shell.execute_reply": "2022-07-10T06:24:06.459823Z"
    },
    "papermill": {
     "duration": 0.480095,
     "end_time": "2022-07-10T06:24:06.463870",
     "exception": false,
     "start_time": "2022-07-10T06:24:05.983775",
     "status": "completed"
    },
    "tags": []
   },
   "outputs": [
    {
     "data": {
      "application/javascript": [
       "parent.postMessage({\"jupyterEvent\": \"custom.exercise_interaction\", \"data\": {\"outcomeType\": 1, \"valueTowardsCompletion\": 0.16666666666666666, \"interactionType\": 1, \"questionType\": 1, \"questionId\": \"5_DropMissingCols\", \"learnToolsVersion\": \"0.3.4\", \"failureMessage\": \"\", \"exceptionClass\": \"\", \"trace\": \"\"}}, \"*\")"
      ],
      "text/plain": [
       "<IPython.core.display.Javascript object>"
      ]
     },
     "metadata": {},
     "output_type": "display_data"
    },
    {
     "data": {
      "text/markdown": [
       "<span style=\"color:#33cc33\">Correct</span>"
      ],
      "text/plain": [
       "Correct"
      ]
     },
     "metadata": {},
     "output_type": "display_data"
    }
   ],
   "source": [
    "# TODO: Your code here\n",
    "sf_permits_with_na_dropped = sf_permits.dropna(axis=1)\n",
    "\n",
    "dropped_columns = sf_permits.shape[1] - sf_permits_with_na_dropped.shape[1]\n",
    "\n",
    "# Check your answer\n",
    "q5.check()"
   ]
  },
  {
   "cell_type": "code",
   "execution_count": 14,
   "id": "6f84d004",
   "metadata": {
    "execution": {
     "iopub.execute_input": "2022-07-10T06:24:06.486886Z",
     "iopub.status.busy": "2022-07-10T06:24:06.486387Z",
     "iopub.status.idle": "2022-07-10T06:24:06.493106Z",
     "shell.execute_reply": "2022-07-10T06:24:06.491647Z"
    },
    "papermill": {
     "duration": 0.021415,
     "end_time": "2022-07-10T06:24:06.495631",
     "exception": false,
     "start_time": "2022-07-10T06:24:06.474216",
     "status": "completed"
    },
    "tags": []
   },
   "outputs": [],
   "source": [
    "# Lines below will give you a hint or solution code\n",
    "#q5.hint()\n",
    "#q5.solution()"
   ]
  },
  {
   "cell_type": "markdown",
   "id": "0afb1027",
   "metadata": {
    "papermill": {
     "duration": 0.010994,
     "end_time": "2022-07-10T06:24:06.517093",
     "exception": false,
     "start_time": "2022-07-10T06:24:06.506099",
     "status": "completed"
    },
    "tags": []
   },
   "source": [
    "# 6) Fill in missing values automatically\n",
    "\n",
    "Try replacing all the NaN's in the `sf_permits` data with the one that comes directly after it and then replacing any remaining NaN's with 0.  Set the result to a new DataFrame `sf_permits_with_na_imputed`."
   ]
  },
  {
   "cell_type": "code",
   "execution_count": 15,
   "id": "78a76d91",
   "metadata": {
    "execution": {
     "iopub.execute_input": "2022-07-10T06:24:06.540017Z",
     "iopub.status.busy": "2022-07-10T06:24:06.538872Z",
     "iopub.status.idle": "2022-07-10T06:24:07.869458Z",
     "shell.execute_reply": "2022-07-10T06:24:07.868080Z"
    },
    "papermill": {
     "duration": 1.344613,
     "end_time": "2022-07-10T06:24:07.872209",
     "exception": false,
     "start_time": "2022-07-10T06:24:06.527596",
     "status": "completed"
    },
    "tags": []
   },
   "outputs": [
    {
     "data": {
      "application/javascript": [
       "parent.postMessage({\"jupyterEvent\": \"custom.exercise_interaction\", \"data\": {\"outcomeType\": 1, \"valueTowardsCompletion\": 0.16666666666666666, \"interactionType\": 1, \"questionType\": 1, \"questionId\": \"6_ImputeAutomatically\", \"learnToolsVersion\": \"0.3.4\", \"failureMessage\": \"\", \"exceptionClass\": \"\", \"trace\": \"\"}}, \"*\")"
      ],
      "text/plain": [
       "<IPython.core.display.Javascript object>"
      ]
     },
     "metadata": {},
     "output_type": "display_data"
    },
    {
     "data": {
      "text/markdown": [
       "<span style=\"color:#33cc33\">Correct</span>"
      ],
      "text/plain": [
       "Correct"
      ]
     },
     "metadata": {},
     "output_type": "display_data"
    }
   ],
   "source": [
    "# TODO: Your code here\n",
    "sf_permits_with_na_imputed = sf_permits.fillna(method='bfill',axis=0).fillna(0)\n",
    "\n",
    "# Check your answer\n",
    "q6.check()"
   ]
  },
  {
   "cell_type": "code",
   "execution_count": 16,
   "id": "009449c8",
   "metadata": {
    "execution": {
     "iopub.execute_input": "2022-07-10T06:24:07.894796Z",
     "iopub.status.busy": "2022-07-10T06:24:07.894091Z",
     "iopub.status.idle": "2022-07-10T06:24:07.900789Z",
     "shell.execute_reply": "2022-07-10T06:24:07.898699Z"
    },
    "papermill": {
     "duration": 0.021067,
     "end_time": "2022-07-10T06:24:07.903707",
     "exception": false,
     "start_time": "2022-07-10T06:24:07.882640",
     "status": "completed"
    },
    "tags": []
   },
   "outputs": [],
   "source": [
    "# Lines below will give you a hint or solution code\n",
    "#q6.hint()\n",
    "#q6.solution()"
   ]
  },
  {
   "cell_type": "markdown",
   "id": "d901d6f1",
   "metadata": {
    "papermill": {
     "duration": 0.010286,
     "end_time": "2022-07-10T06:24:07.924576",
     "exception": false,
     "start_time": "2022-07-10T06:24:07.914290",
     "status": "completed"
    },
    "tags": []
   },
   "source": [
    "# More practice\n",
    "\n",
    "If you're looking for more practice handling missing values:\n",
    "\n",
    "* Check out [this noteboook](https://www.kaggle.com/alexisbcook/missing-values) on handling missing values using scikit-learn's imputer. \n",
    "* Look back at the \"Zipcode\" column in the `sf_permits` dataset, which has some missing values. How would you go about figuring out what the actual zipcode of each address should be? (You might try using another dataset. You can search for datasets about San Fransisco on the [Datasets listing](https://www.kaggle.com/datasets).) \n",
    "\n",
    "# Keep going\n",
    "\n",
    "In the next lesson, learn how to [**apply scaling and normalization**](https://www.kaggle.com/alexisbcook/scaling-and-normalization) to transform your data."
   ]
  },
  {
   "cell_type": "markdown",
   "id": "ad73e56a",
   "metadata": {
    "papermill": {
     "duration": 0.010118,
     "end_time": "2022-07-10T06:24:07.945588",
     "exception": false,
     "start_time": "2022-07-10T06:24:07.935470",
     "status": "completed"
    },
    "tags": []
   },
   "source": [
    "---\n",
    "\n",
    "\n",
    "\n",
    "\n",
    "*Have questions or comments? Visit the [course discussion forum](https://www.kaggle.com/learn/data-cleaning/discussion) to chat with other learners.*"
   ]
  }
 ],
 "metadata": {
  "kernelspec": {
   "display_name": "Python 3",
   "language": "python",
   "name": "python3"
  },
  "language_info": {
   "codemirror_mode": {
    "name": "ipython",
    "version": 3
   },
   "file_extension": ".py",
   "mimetype": "text/x-python",
   "name": "python",
   "nbconvert_exporter": "python",
   "pygments_lexer": "ipython3",
   "version": "3.7.12"
  },
  "papermill": {
   "default_parameters": {},
   "duration": 22.069077,
   "end_time": "2022-07-10T06:24:08.779595",
   "environment_variables": {},
   "exception": null,
   "input_path": "__notebook__.ipynb",
   "output_path": "__notebook__.ipynb",
   "parameters": {},
   "start_time": "2022-07-10T06:23:46.710518",
   "version": "2.3.4"
  }
 },
 "nbformat": 4,
 "nbformat_minor": 5
}

{
 "cells": [
  {
   "cell_type": "markdown",
   "id": "1564daff",
   "metadata": {
    "papermill": {
     "duration": 0.007435,
     "end_time": "2022-07-15T20:12:21.377617",
     "exception": false,
     "start_time": "2022-07-15T20:12:21.370182",
     "status": "completed"
    },
    "tags": []
   },
   "source": [
    "**This notebook is an exercise in the [Feature Engineering](https://www.kaggle.com/learn/feature-engineering) course.  You can reference the tutorial at [this link](https://www.kaggle.com/ryanholbrook/creating-features).**\n",
    "\n",
    "---\n"
   ]
  },
  {
   "cell_type": "markdown",
   "id": "753ff1c5",
   "metadata": {
    "papermill": {
     "duration": 0.006413,
     "end_time": "2022-07-15T20:12:21.390466",
     "exception": false,
     "start_time": "2022-07-15T20:12:21.384053",
     "status": "completed"
    },
    "tags": []
   },
   "source": [
    "# Introduction #\n",
    "\n",
    "In this exercise you'll start developing the features you identified in Exercise 2 as having the most potential. As you work through this exercise, you might take a moment to look at the data documentation again and consider whether the features we're creating make sense from a real-world perspective, and whether there are any useful combinations that stand out to you.\n",
    "\n",
    "Run this cell to set everything up!"
   ]
  },
  {
   "cell_type": "code",
   "execution_count": 1,
   "id": "380f9041",
   "metadata": {
    "execution": {
     "iopub.execute_input": "2022-07-15T20:12:21.405954Z",
     "iopub.status.busy": "2022-07-15T20:12:21.405212Z",
     "iopub.status.idle": "2022-07-15T20:12:22.908514Z",
     "shell.execute_reply": "2022-07-15T20:12:22.907321Z"
    },
    "papermill": {
     "duration": 1.514476,
     "end_time": "2022-07-15T20:12:22.911433",
     "exception": false,
     "start_time": "2022-07-15T20:12:21.396957",
     "status": "completed"
    },
    "tags": []
   },
   "outputs": [],
   "source": [
    "# Setup feedback system\n",
    "from learntools.core import binder\n",
    "binder.bind(globals())\n",
    "from learntools.feature_engineering_new.ex3 import *\n",
    "\n",
    "import numpy as np\n",
    "import pandas as pd\n",
    "from sklearn.model_selection import cross_val_score\n",
    "from xgboost import XGBRegressor\n",
    "\n",
    "\n",
    "def score_dataset(X, y, model=XGBRegressor()):\n",
    "    # Label encoding for categoricals\n",
    "    for colname in X.select_dtypes([\"category\", \"object\"]):\n",
    "        X[colname], _ = X[colname].factorize()\n",
    "    # Metric for Housing competition is RMSLE (Root Mean Squared Log Error)\n",
    "    score = cross_val_score(\n",
    "        model, X, y, cv=5, scoring=\"neg_mean_squared_log_error\",\n",
    "    )\n",
    "    score = -1 * score.mean()\n",
    "    score = np.sqrt(score)\n",
    "    return score\n",
    "\n",
    "\n",
    "# Prepare data\n",
    "df = pd.read_csv(\"../input/fe-course-data/ames.csv\")\n",
    "X = df.copy()\n",
    "y = X.pop(\"SalePrice\")"
   ]
  },
  {
   "cell_type": "markdown",
   "id": "69f2afaa",
   "metadata": {
    "papermill": {
     "duration": 0.006301,
     "end_time": "2022-07-15T20:12:22.925131",
     "exception": false,
     "start_time": "2022-07-15T20:12:22.918830",
     "status": "completed"
    },
    "tags": []
   },
   "source": [
    "-------------------------------------------------------------------------------\n",
    "\n",
    "Let's start with a few mathematical combinations. We'll focus on features describing areas -- having the same units (square-feet) makes it easy to combine them in sensible ways. Since we're using XGBoost (a tree-based model), we'll focus on ratios and sums.\n",
    "\n",
    "# 1) Create Mathematical Transforms\n",
    "\n",
    "Create the following features:\n",
    "\n",
    "- `LivLotRatio`: the ratio of `GrLivArea` to `LotArea`\n",
    "- `Spaciousness`: the sum of `FirstFlrSF` and `SecondFlrSF` divided by `TotRmsAbvGrd`\n",
    "- `TotalOutsideSF`: the sum of `WoodDeckSF`, `OpenPorchSF`, `EnclosedPorch`, `Threeseasonporch`, and `ScreenPorch`"
   ]
  },
  {
   "cell_type": "code",
   "execution_count": 2,
   "id": "d1e45e16",
   "metadata": {
    "execution": {
     "iopub.execute_input": "2022-07-15T20:12:22.940094Z",
     "iopub.status.busy": "2022-07-15T20:12:22.939325Z",
     "iopub.status.idle": "2022-07-15T20:12:22.966651Z",
     "shell.execute_reply": "2022-07-15T20:12:22.965440Z"
    },
    "lines_to_next_cell": 0,
    "papermill": {
     "duration": 0.038213,
     "end_time": "2022-07-15T20:12:22.969663",
     "exception": false,
     "start_time": "2022-07-15T20:12:22.931450",
     "status": "completed"
    },
    "tags": []
   },
   "outputs": [
    {
     "data": {
      "application/javascript": [
       "parent.postMessage({\"jupyterEvent\": \"custom.exercise_interaction\", \"data\": {\"outcomeType\": 1, \"valueTowardsCompletion\": 0.2, \"interactionType\": 1, \"questionType\": 2, \"questionId\": \"1_Q1\", \"learnToolsVersion\": \"0.3.4\", \"failureMessage\": \"\", \"exceptionClass\": \"\", \"trace\": \"\"}}, \"*\")"
      ],
      "text/plain": [
       "<IPython.core.display.Javascript object>"
      ]
     },
     "metadata": {},
     "output_type": "display_data"
    },
    {
     "data": {
      "text/markdown": [
       "<span style=\"color:#33cc33\">Correct</span>"
      ],
      "text/plain": [
       "Correct"
      ]
     },
     "metadata": {},
     "output_type": "display_data"
    }
   ],
   "source": [
    "# YOUR CODE HERE\n",
    "X_1 = pd.DataFrame()  # dataframe to hold new features\n",
    "\n",
    "X_1[\"LivLotRatio\"] = df.GrLivArea / df.LotArea\n",
    "X_1[\"Spaciousness\"] = (df.FirstFlrSF + df.SecondFlrSF) / df.TotRmsAbvGrd\n",
    "X_1[\"TotalOutsideSF\"] = df.WoodDeckSF + df.OpenPorchSF + df.EnclosedPorch + df.Threeseasonporch + df.ScreenPorch\n",
    "\n",
    "\n",
    "# Check your answer\n",
    "q_1.check()"
   ]
  },
  {
   "cell_type": "code",
   "execution_count": 3,
   "id": "f63e5fc6",
   "metadata": {
    "execution": {
     "iopub.execute_input": "2022-07-15T20:12:22.985171Z",
     "iopub.status.busy": "2022-07-15T20:12:22.984492Z",
     "iopub.status.idle": "2022-07-15T20:12:22.988100Z",
     "shell.execute_reply": "2022-07-15T20:12:22.987354Z"
    },
    "lines_to_next_cell": 0,
    "papermill": {
     "duration": 0.013702,
     "end_time": "2022-07-15T20:12:22.990194",
     "exception": false,
     "start_time": "2022-07-15T20:12:22.976492",
     "status": "completed"
    },
    "tags": []
   },
   "outputs": [],
   "source": [
    "# Lines below will give you a hint or solution code\n",
    "#q_1.hint()\n",
    "#q_1.solution()"
   ]
  },
  {
   "cell_type": "markdown",
   "id": "b5a49e65",
   "metadata": {
    "papermill": {
     "duration": 0.006332,
     "end_time": "2022-07-15T20:12:23.003161",
     "exception": false,
     "start_time": "2022-07-15T20:12:22.996829",
     "status": "completed"
    },
    "tags": []
   },
   "source": [
    "-------------------------------------------------------------------------------\n",
    "\n",
    "If you've discovered an interaction effect between a numeric feature and a categorical feature, you might want to model it explicitly using a one-hot encoding, like so:\n",
    "\n",
    "```\n",
    "# One-hot encode Categorical feature, adding a column prefix \"Cat\"\n",
    "X_new = pd.get_dummies(df.Categorical, prefix=\"Cat\")\n",
    "\n",
    "# Multiply row-by-row\n",
    "X_new = X_new.mul(df.Continuous, axis=0)\n",
    "\n",
    "# Join the new features to the feature set\n",
    "X = X.join(X_new)\n",
    "```\n",
    "\n",
    "# 2) Interaction with a Categorical\n",
    "\n",
    "We discovered an interaction between `BldgType` and `GrLivArea` in Exercise 2. Now create their interaction features."
   ]
  },
  {
   "cell_type": "code",
   "execution_count": 4,
   "id": "4927d810",
   "metadata": {
    "execution": {
     "iopub.execute_input": "2022-07-15T20:12:23.018357Z",
     "iopub.status.busy": "2022-07-15T20:12:23.017652Z",
     "iopub.status.idle": "2022-07-15T20:12:23.030970Z",
     "shell.execute_reply": "2022-07-15T20:12:23.030058Z"
    },
    "lines_to_next_cell": 0,
    "papermill": {
     "duration": 0.02348,
     "end_time": "2022-07-15T20:12:23.033198",
     "exception": false,
     "start_time": "2022-07-15T20:12:23.009718",
     "status": "completed"
    },
    "tags": []
   },
   "outputs": [
    {
     "data": {
      "application/javascript": [
       "parent.postMessage({\"jupyterEvent\": \"custom.exercise_interaction\", \"data\": {\"outcomeType\": 1, \"valueTowardsCompletion\": 0.2, \"interactionType\": 1, \"questionType\": 2, \"questionId\": \"2_Q2\", \"learnToolsVersion\": \"0.3.4\", \"failureMessage\": \"\", \"exceptionClass\": \"\", \"trace\": \"\"}}, \"*\")"
      ],
      "text/plain": [
       "<IPython.core.display.Javascript object>"
      ]
     },
     "metadata": {},
     "output_type": "display_data"
    },
    {
     "data": {
      "text/markdown": [
       "<span style=\"color:#33cc33\">Correct</span>"
      ],
      "text/plain": [
       "Correct"
      ]
     },
     "metadata": {},
     "output_type": "display_data"
    }
   ],
   "source": [
    "# YOUR CODE HERE\n",
    "# One-hot encode BldgType. Use `prefix=\"Bldg\"` in `get_dummies`\n",
    "X_2 = pd.get_dummies(df.BldgType, prefix=\"Bldg\") \n",
    "# Multiply\n",
    "X_2 = X_2.mul(df.GrLivArea, axis=0)\n",
    "\n",
    "\n",
    "# Check your answer\n",
    "q_2.check()"
   ]
  },
  {
   "cell_type": "code",
   "execution_count": 5,
   "id": "9d22161e",
   "metadata": {
    "execution": {
     "iopub.execute_input": "2022-07-15T20:12:23.049574Z",
     "iopub.status.busy": "2022-07-15T20:12:23.048839Z",
     "iopub.status.idle": "2022-07-15T20:12:23.052638Z",
     "shell.execute_reply": "2022-07-15T20:12:23.051819Z"
    },
    "lines_to_next_cell": 0,
    "papermill": {
     "duration": 0.014391,
     "end_time": "2022-07-15T20:12:23.054724",
     "exception": false,
     "start_time": "2022-07-15T20:12:23.040333",
     "status": "completed"
    },
    "tags": []
   },
   "outputs": [],
   "source": [
    "# Lines below will give you a hint or solution code\n",
    "#q_2.hint()\n",
    "#q_2.solution()"
   ]
  },
  {
   "cell_type": "markdown",
   "id": "310a6360",
   "metadata": {
    "lines_to_next_cell": 0,
    "papermill": {
     "duration": 0.006649,
     "end_time": "2022-07-15T20:12:23.068355",
     "exception": false,
     "start_time": "2022-07-15T20:12:23.061706",
     "status": "completed"
    },
    "tags": []
   },
   "source": [
    "# 3) Count Feature\n",
    "\n",
    "Let's try creating a feature that describes how many kinds of outdoor areas a dwelling has. Create a feature `PorchTypes` that counts how many of the following are greater than 0.0:\n",
    "\n",
    "```\n",
    "WoodDeckSF\n",
    "OpenPorchSF\n",
    "EnclosedPorch\n",
    "Threeseasonporch\n",
    "ScreenPorch\n",
    "```"
   ]
  },
  {
   "cell_type": "code",
   "execution_count": 6,
   "id": "31b52ba5",
   "metadata": {
    "execution": {
     "iopub.execute_input": "2022-07-15T20:12:23.084261Z",
     "iopub.status.busy": "2022-07-15T20:12:23.083553Z",
     "iopub.status.idle": "2022-07-15T20:12:23.100374Z",
     "shell.execute_reply": "2022-07-15T20:12:23.099591Z"
    },
    "lines_to_next_cell": 0,
    "papermill": {
     "duration": 0.02732,
     "end_time": "2022-07-15T20:12:23.102550",
     "exception": false,
     "start_time": "2022-07-15T20:12:23.075230",
     "status": "completed"
    },
    "tags": []
   },
   "outputs": [
    {
     "data": {
      "application/javascript": [
       "parent.postMessage({\"jupyterEvent\": \"custom.exercise_interaction\", \"data\": {\"outcomeType\": 1, \"valueTowardsCompletion\": 0.2, \"interactionType\": 1, \"questionType\": 2, \"questionId\": \"3_Q3\", \"learnToolsVersion\": \"0.3.4\", \"failureMessage\": \"\", \"exceptionClass\": \"\", \"trace\": \"\"}}, \"*\")"
      ],
      "text/plain": [
       "<IPython.core.display.Javascript object>"
      ]
     },
     "metadata": {},
     "output_type": "display_data"
    },
    {
     "data": {
      "text/markdown": [
       "<span style=\"color:#33cc33\">Correct</span>"
      ],
      "text/plain": [
       "Correct"
      ]
     },
     "metadata": {},
     "output_type": "display_data"
    }
   ],
   "source": [
    "X_3 = pd.DataFrame()\n",
    "\n",
    "# YOUR CODE HERE\n",
    "X_3[\"PorchTypes\"] = df[[\"WoodDeckSF\",\"OpenPorchSF\",\"EnclosedPorch\",\"Threeseasonporch\",\"ScreenPorch\",]].gt(0.0).sum(axis=1)\n",
    "\n",
    "\n",
    "# Check your answer\n",
    "q_3.check()"
   ]
  },
  {
   "cell_type": "code",
   "execution_count": 7,
   "id": "d4780397",
   "metadata": {
    "execution": {
     "iopub.execute_input": "2022-07-15T20:12:23.118614Z",
     "iopub.status.busy": "2022-07-15T20:12:23.118210Z",
     "iopub.status.idle": "2022-07-15T20:12:23.122121Z",
     "shell.execute_reply": "2022-07-15T20:12:23.121356Z"
    },
    "lines_to_next_cell": 0,
    "papermill": {
     "duration": 0.014451,
     "end_time": "2022-07-15T20:12:23.124226",
     "exception": false,
     "start_time": "2022-07-15T20:12:23.109775",
     "status": "completed"
    },
    "tags": []
   },
   "outputs": [],
   "source": [
    "# Lines below will give you a hint or solution code\n",
    "#q_3.hint()\n",
    "#q_3.solution()"
   ]
  },
  {
   "cell_type": "markdown",
   "id": "d4007dde",
   "metadata": {
    "papermill": {
     "duration": 0.007365,
     "end_time": "2022-07-15T20:12:23.138821",
     "exception": false,
     "start_time": "2022-07-15T20:12:23.131456",
     "status": "completed"
    },
    "tags": []
   },
   "source": [
    "# 4) Break Down a Categorical Feature\n",
    "\n",
    "`MSSubClass` describes the type of a dwelling:"
   ]
  },
  {
   "cell_type": "code",
   "execution_count": 8,
   "id": "a17a00ce",
   "metadata": {
    "execution": {
     "iopub.execute_input": "2022-07-15T20:12:23.155622Z",
     "iopub.status.busy": "2022-07-15T20:12:23.154916Z",
     "iopub.status.idle": "2022-07-15T20:12:23.161939Z",
     "shell.execute_reply": "2022-07-15T20:12:23.160918Z"
    },
    "papermill": {
     "duration": 0.017852,
     "end_time": "2022-07-15T20:12:23.163993",
     "exception": false,
     "start_time": "2022-07-15T20:12:23.146141",
     "status": "completed"
    },
    "tags": []
   },
   "outputs": [
    {
     "data": {
      "text/plain": [
       "array(['One_Story_1946_and_Newer_All_Styles', 'Two_Story_1946_and_Newer',\n",
       "       'One_Story_PUD_1946_and_Newer',\n",
       "       'One_and_Half_Story_Finished_All_Ages', 'Split_Foyer',\n",
       "       'Two_Story_PUD_1946_and_Newer', 'Split_or_Multilevel',\n",
       "       'One_Story_1945_and_Older', 'Duplex_All_Styles_and_Ages',\n",
       "       'Two_Family_conversion_All_Styles_and_Ages',\n",
       "       'One_and_Half_Story_Unfinished_All_Ages',\n",
       "       'Two_Story_1945_and_Older', 'Two_and_Half_Story_All_Ages',\n",
       "       'One_Story_with_Finished_Attic_All_Ages',\n",
       "       'PUD_Multilevel_Split_Level_Foyer',\n",
       "       'One_and_Half_Story_PUD_All_Ages'], dtype=object)"
      ]
     },
     "execution_count": 8,
     "metadata": {},
     "output_type": "execute_result"
    }
   ],
   "source": [
    "df.MSSubClass.unique()"
   ]
  },
  {
   "cell_type": "markdown",
   "id": "be5708ba",
   "metadata": {
    "papermill": {
     "duration": 0.00697,
     "end_time": "2022-07-15T20:12:23.178405",
     "exception": false,
     "start_time": "2022-07-15T20:12:23.171435",
     "status": "completed"
    },
    "tags": []
   },
   "source": [
    "You can see that there is a more general categorization described (roughly) by the first word of each category. Create a feature containing only these first words by splitting `MSSubClass` at the first underscore `_`. (Hint: In the `split` method use an argument `n=1`.)"
   ]
  },
  {
   "cell_type": "code",
   "execution_count": 9,
   "id": "2395ff19",
   "metadata": {
    "execution": {
     "iopub.execute_input": "2022-07-15T20:12:23.194884Z",
     "iopub.status.busy": "2022-07-15T20:12:23.194228Z",
     "iopub.status.idle": "2022-07-15T20:12:23.219180Z",
     "shell.execute_reply": "2022-07-15T20:12:23.218296Z"
    },
    "lines_to_next_cell": 0,
    "papermill": {
     "duration": 0.035593,
     "end_time": "2022-07-15T20:12:23.221312",
     "exception": false,
     "start_time": "2022-07-15T20:12:23.185719",
     "status": "completed"
    },
    "tags": []
   },
   "outputs": [
    {
     "data": {
      "application/javascript": [
       "parent.postMessage({\"jupyterEvent\": \"custom.exercise_interaction\", \"data\": {\"outcomeType\": 1, \"valueTowardsCompletion\": 0.2, \"interactionType\": 1, \"questionType\": 2, \"questionId\": \"4_Q4\", \"learnToolsVersion\": \"0.3.4\", \"failureMessage\": \"\", \"exceptionClass\": \"\", \"trace\": \"\"}}, \"*\")"
      ],
      "text/plain": [
       "<IPython.core.display.Javascript object>"
      ]
     },
     "metadata": {},
     "output_type": "display_data"
    },
    {
     "data": {
      "text/markdown": [
       "<span style=\"color:#33cc33\">Correct</span>"
      ],
      "text/plain": [
       "Correct"
      ]
     },
     "metadata": {},
     "output_type": "display_data"
    }
   ],
   "source": [
    "X_4 = pd.DataFrame()\n",
    "\n",
    "# YOUR CODE HERE\n",
    "X_4[\"MSClass\"] = df.MSSubClass.str.split(\"_\", n=1, expand=True)[0]\n",
    "\n",
    "# Check your answer\n",
    "q_4.check()"
   ]
  },
  {
   "cell_type": "code",
   "execution_count": 10,
   "id": "23b286a1",
   "metadata": {
    "execution": {
     "iopub.execute_input": "2022-07-15T20:12:23.238888Z",
     "iopub.status.busy": "2022-07-15T20:12:23.238309Z",
     "iopub.status.idle": "2022-07-15T20:12:23.242042Z",
     "shell.execute_reply": "2022-07-15T20:12:23.241319Z"
    },
    "lines_to_next_cell": 0,
    "papermill": {
     "duration": 0.014576,
     "end_time": "2022-07-15T20:12:23.244024",
     "exception": false,
     "start_time": "2022-07-15T20:12:23.229448",
     "status": "completed"
    },
    "tags": []
   },
   "outputs": [],
   "source": [
    "# Lines below will give you a hint or solution code\n",
    "#q_4.hint()\n",
    "#q_4.solution()"
   ]
  },
  {
   "cell_type": "markdown",
   "id": "699a7d4e",
   "metadata": {
    "papermill": {
     "duration": 0.007949,
     "end_time": "2022-07-15T20:12:23.260117",
     "exception": false,
     "start_time": "2022-07-15T20:12:23.252168",
     "status": "completed"
    },
    "tags": []
   },
   "source": [
    "# 5) Use a Grouped Transform\n",
    "\n",
    "The value of a home often depends on how it compares to typical homes in its neighborhood. Create a feature `MedNhbdArea` that describes the *median* of `GrLivArea` grouped on `Neighborhood`."
   ]
  },
  {
   "cell_type": "code",
   "execution_count": 11,
   "id": "3acb0be9",
   "metadata": {
    "execution": {
     "iopub.execute_input": "2022-07-15T20:12:23.278244Z",
     "iopub.status.busy": "2022-07-15T20:12:23.277499Z",
     "iopub.status.idle": "2022-07-15T20:12:23.297406Z",
     "shell.execute_reply": "2022-07-15T20:12:23.296513Z"
    },
    "lines_to_next_cell": 0,
    "papermill": {
     "duration": 0.031859,
     "end_time": "2022-07-15T20:12:23.300096",
     "exception": false,
     "start_time": "2022-07-15T20:12:23.268237",
     "status": "completed"
    },
    "tags": []
   },
   "outputs": [
    {
     "data": {
      "application/javascript": [
       "parent.postMessage({\"jupyterEvent\": \"custom.exercise_interaction\", \"data\": {\"outcomeType\": 1, \"valueTowardsCompletion\": 0.2, \"interactionType\": 1, \"questionType\": 2, \"questionId\": \"5_Q5\", \"learnToolsVersion\": \"0.3.4\", \"failureMessage\": \"\", \"exceptionClass\": \"\", \"trace\": \"\"}}, \"*\")"
      ],
      "text/plain": [
       "<IPython.core.display.Javascript object>"
      ]
     },
     "metadata": {},
     "output_type": "display_data"
    },
    {
     "data": {
      "text/markdown": [
       "<span style=\"color:#33cc33\">Correct</span>"
      ],
      "text/plain": [
       "Correct"
      ]
     },
     "metadata": {},
     "output_type": "display_data"
    }
   ],
   "source": [
    "X_5 = pd.DataFrame()\n",
    "\n",
    "# YOUR CODE HERE\n",
    "X_5[\"MedNhbdArea\"] = X_5[\"MedNhbdArea\"] = df.groupby(\"Neighborhood\")[\"GrLivArea\"].transform(\"median\")\n",
    "\n",
    "# Check your answer\n",
    "q_5.check()"
   ]
  },
  {
   "cell_type": "code",
   "execution_count": 12,
   "id": "6b3718a4",
   "metadata": {
    "execution": {
     "iopub.execute_input": "2022-07-15T20:12:23.317233Z",
     "iopub.status.busy": "2022-07-15T20:12:23.316870Z",
     "iopub.status.idle": "2022-07-15T20:12:23.320777Z",
     "shell.execute_reply": "2022-07-15T20:12:23.319831Z"
    },
    "lines_to_next_cell": 0,
    "papermill": {
     "duration": 0.014985,
     "end_time": "2022-07-15T20:12:23.322867",
     "exception": false,
     "start_time": "2022-07-15T20:12:23.307882",
     "status": "completed"
    },
    "tags": []
   },
   "outputs": [],
   "source": [
    "# Lines below will give you a hint or solution code\n",
    "#q_5.hint()\n",
    "#q_5.solution()"
   ]
  },
  {
   "cell_type": "markdown",
   "id": "ee947c58",
   "metadata": {
    "papermill": {
     "duration": 0.008017,
     "end_time": "2022-07-15T20:12:23.339003",
     "exception": false,
     "start_time": "2022-07-15T20:12:23.330986",
     "status": "completed"
    },
    "tags": []
   },
   "source": [
    "Now you've made your first new feature set! If you like, you can run the cell below to score the model with all of your new features added:"
   ]
  },
  {
   "cell_type": "code",
   "execution_count": 13,
   "id": "3b937134",
   "metadata": {
    "execution": {
     "iopub.execute_input": "2022-07-15T20:12:23.356797Z",
     "iopub.status.busy": "2022-07-15T20:12:23.356082Z",
     "iopub.status.idle": "2022-07-15T20:12:28.902711Z",
     "shell.execute_reply": "2022-07-15T20:12:28.901545Z"
    },
    "papermill": {
     "duration": 5.558167,
     "end_time": "2022-07-15T20:12:28.905076",
     "exception": false,
     "start_time": "2022-07-15T20:12:23.346909",
     "status": "completed"
    },
    "tags": []
   },
   "outputs": [
    {
     "data": {
      "text/plain": [
       "0.13847331710099203"
      ]
     },
     "execution_count": 13,
     "metadata": {},
     "output_type": "execute_result"
    }
   ],
   "source": [
    "X_new = X.join([X_1, X_2, X_3, X_4, X_5])\n",
    "score_dataset(X_new, y)"
   ]
  },
  {
   "cell_type": "markdown",
   "id": "9e3aa736",
   "metadata": {
    "papermill": {
     "duration": 0.008269,
     "end_time": "2022-07-15T20:12:28.923984",
     "exception": false,
     "start_time": "2022-07-15T20:12:28.915715",
     "status": "completed"
    },
    "tags": []
   },
   "source": [
    "# Keep Going #\n",
    "\n",
    "[**Untangle spatial relationships**](https://www.kaggle.com/ryanholbrook/clustering-with-k-means) by adding cluster labels to your dataset."
   ]
  },
  {
   "cell_type": "markdown",
   "id": "61531684",
   "metadata": {
    "papermill": {
     "duration": 0.007872,
     "end_time": "2022-07-15T20:12:28.940173",
     "exception": false,
     "start_time": "2022-07-15T20:12:28.932301",
     "status": "completed"
    },
    "tags": []
   },
   "source": [
    "---\n",
    "\n",
    "\n",
    "\n",
    "\n",
    "*Have questions or comments? Visit the [course discussion forum](https://www.kaggle.com/learn/feature-engineering/discussion) to chat with other learners.*"
   ]
  }
 ],
 "metadata": {
  "kernelspec": {
   "display_name": "Python 3",
   "language": "python",
   "name": "python3"
  },
  "language_info": {
   "codemirror_mode": {
    "name": "ipython",
    "version": 3
   },
   "file_extension": ".py",
   "mimetype": "text/x-python",
   "name": "python",
   "nbconvert_exporter": "python",
   "pygments_lexer": "ipython3",
   "version": "3.7.12"
  },
  "papermill": {
   "default_parameters": {},
   "duration": 19.060444,
   "end_time": "2022-07-15T20:12:29.670769",
   "environment_variables": {},
   "exception": null,
   "input_path": "__notebook__.ipynb",
   "output_path": "__notebook__.ipynb",
   "parameters": {},
   "start_time": "2022-07-15T20:12:10.610325",
   "version": "2.3.4"
  }
 },
 "nbformat": 4,
 "nbformat_minor": 5
}

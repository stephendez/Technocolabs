{
 "cells": [
  {
   "cell_type": "code",
   "execution_count": 1,
   "id": "7078776b",
   "metadata": {
    "_cell_guid": "b1076dfc-b9ad-4769-8c92-a6c4dae69d19",
    "_uuid": "8f2839f25d086af736a60e9eeb907d3b93b6e0e5",
    "execution": {
     "iopub.execute_input": "2022-07-13T13:34:53.382638Z",
     "iopub.status.busy": "2022-07-13T13:34:53.382213Z",
     "iopub.status.idle": "2022-07-13T13:34:54.652440Z",
     "shell.execute_reply": "2022-07-13T13:34:54.651648Z"
    },
    "papermill": {
     "duration": 1.277236,
     "end_time": "2022-07-13T13:34:54.654715",
     "exception": false,
     "start_time": "2022-07-13T13:34:53.377479",
     "status": "completed"
    },
    "tags": []
   },
   "outputs": [
    {
     "name": "stdout",
     "output_type": "stream",
     "text": [
      "Setup Complete\n"
     ]
    }
   ],
   "source": [
    "import pandas as pd\n",
    "pd.plotting.register_matplotlib_converters()\n",
    "import matplotlib.pyplot as plt\n",
    "%matplotlib inline\n",
    "import seaborn as sns\n",
    "print(\"Setup Complete\")"
   ]
  },
  {
   "cell_type": "code",
   "execution_count": 2,
   "id": "efb44588",
   "metadata": {
    "execution": {
     "iopub.execute_input": "2022-07-13T13:34:54.660164Z",
     "iopub.status.busy": "2022-07-13T13:34:54.659546Z",
     "iopub.status.idle": "2022-07-13T13:34:54.688228Z",
     "shell.execute_reply": "2022-07-13T13:34:54.686797Z"
    },
    "papermill": {
     "duration": 0.034106,
     "end_time": "2022-07-13T13:34:54.690748",
     "exception": false,
     "start_time": "2022-07-13T13:34:54.656642",
     "status": "completed"
    },
    "tags": []
   },
   "outputs": [],
   "source": [
    "my_data = pd.read_csv(\"../input/data-for-datavis/cancer.csv\")"
   ]
  },
  {
   "cell_type": "code",
   "execution_count": 3,
   "id": "3d396106",
   "metadata": {
    "execution": {
     "iopub.execute_input": "2022-07-13T13:34:54.697781Z",
     "iopub.status.busy": "2022-07-13T13:34:54.697363Z",
     "iopub.status.idle": "2022-07-13T13:34:54.740560Z",
     "shell.execute_reply": "2022-07-13T13:34:54.739364Z"
    },
    "papermill": {
     "duration": 0.04966,
     "end_time": "2022-07-13T13:34:54.743267",
     "exception": false,
     "start_time": "2022-07-13T13:34:54.693607",
     "status": "completed"
    },
    "tags": []
   },
   "outputs": [
    {
     "data": {
      "text/html": [
       "<div>\n",
       "<style scoped>\n",
       "    .dataframe tbody tr th:only-of-type {\n",
       "        vertical-align: middle;\n",
       "    }\n",
       "\n",
       "    .dataframe tbody tr th {\n",
       "        vertical-align: top;\n",
       "    }\n",
       "\n",
       "    .dataframe thead th {\n",
       "        text-align: right;\n",
       "    }\n",
       "</style>\n",
       "<table border=\"1\" class=\"dataframe\">\n",
       "  <thead>\n",
       "    <tr style=\"text-align: right;\">\n",
       "      <th></th>\n",
       "      <th>Id</th>\n",
       "      <th>Diagnosis</th>\n",
       "      <th>Radius (mean)</th>\n",
       "      <th>Texture (mean)</th>\n",
       "      <th>Perimeter (mean)</th>\n",
       "      <th>Area (mean)</th>\n",
       "      <th>Smoothness (mean)</th>\n",
       "      <th>Compactness (mean)</th>\n",
       "      <th>Concavity (mean)</th>\n",
       "      <th>Concave points (mean)</th>\n",
       "      <th>...</th>\n",
       "      <th>Radius (worst)</th>\n",
       "      <th>Texture (worst)</th>\n",
       "      <th>Perimeter (worst)</th>\n",
       "      <th>Area (worst)</th>\n",
       "      <th>Smoothness (worst)</th>\n",
       "      <th>Compactness (worst)</th>\n",
       "      <th>Concavity (worst)</th>\n",
       "      <th>Concave points (worst)</th>\n",
       "      <th>Symmetry (worst)</th>\n",
       "      <th>Fractal dimension (worst)</th>\n",
       "    </tr>\n",
       "  </thead>\n",
       "  <tbody>\n",
       "    <tr>\n",
       "      <th>0</th>\n",
       "      <td>8510426</td>\n",
       "      <td>B</td>\n",
       "      <td>13.540</td>\n",
       "      <td>14.36</td>\n",
       "      <td>87.46</td>\n",
       "      <td>566.3</td>\n",
       "      <td>0.09779</td>\n",
       "      <td>0.08129</td>\n",
       "      <td>0.06664</td>\n",
       "      <td>0.047810</td>\n",
       "      <td>...</td>\n",
       "      <td>15.110</td>\n",
       "      <td>19.26</td>\n",
       "      <td>99.70</td>\n",
       "      <td>711.2</td>\n",
       "      <td>0.14400</td>\n",
       "      <td>0.17730</td>\n",
       "      <td>0.23900</td>\n",
       "      <td>0.12880</td>\n",
       "      <td>0.2977</td>\n",
       "      <td>0.07259</td>\n",
       "    </tr>\n",
       "    <tr>\n",
       "      <th>1</th>\n",
       "      <td>8510653</td>\n",
       "      <td>B</td>\n",
       "      <td>13.080</td>\n",
       "      <td>15.71</td>\n",
       "      <td>85.63</td>\n",
       "      <td>520.0</td>\n",
       "      <td>0.10750</td>\n",
       "      <td>0.12700</td>\n",
       "      <td>0.04568</td>\n",
       "      <td>0.031100</td>\n",
       "      <td>...</td>\n",
       "      <td>14.500</td>\n",
       "      <td>20.49</td>\n",
       "      <td>96.09</td>\n",
       "      <td>630.5</td>\n",
       "      <td>0.13120</td>\n",
       "      <td>0.27760</td>\n",
       "      <td>0.18900</td>\n",
       "      <td>0.07283</td>\n",
       "      <td>0.3184</td>\n",
       "      <td>0.08183</td>\n",
       "    </tr>\n",
       "    <tr>\n",
       "      <th>2</th>\n",
       "      <td>8510824</td>\n",
       "      <td>B</td>\n",
       "      <td>9.504</td>\n",
       "      <td>12.44</td>\n",
       "      <td>60.34</td>\n",
       "      <td>273.9</td>\n",
       "      <td>0.10240</td>\n",
       "      <td>0.06492</td>\n",
       "      <td>0.02956</td>\n",
       "      <td>0.020760</td>\n",
       "      <td>...</td>\n",
       "      <td>10.230</td>\n",
       "      <td>15.66</td>\n",
       "      <td>65.13</td>\n",
       "      <td>314.9</td>\n",
       "      <td>0.13240</td>\n",
       "      <td>0.11480</td>\n",
       "      <td>0.08867</td>\n",
       "      <td>0.06227</td>\n",
       "      <td>0.2450</td>\n",
       "      <td>0.07773</td>\n",
       "    </tr>\n",
       "    <tr>\n",
       "      <th>3</th>\n",
       "      <td>854941</td>\n",
       "      <td>B</td>\n",
       "      <td>13.030</td>\n",
       "      <td>18.42</td>\n",
       "      <td>82.61</td>\n",
       "      <td>523.8</td>\n",
       "      <td>0.08983</td>\n",
       "      <td>0.03766</td>\n",
       "      <td>0.02562</td>\n",
       "      <td>0.029230</td>\n",
       "      <td>...</td>\n",
       "      <td>13.300</td>\n",
       "      <td>22.81</td>\n",
       "      <td>84.46</td>\n",
       "      <td>545.9</td>\n",
       "      <td>0.09701</td>\n",
       "      <td>0.04619</td>\n",
       "      <td>0.04833</td>\n",
       "      <td>0.05013</td>\n",
       "      <td>0.1987</td>\n",
       "      <td>0.06169</td>\n",
       "    </tr>\n",
       "    <tr>\n",
       "      <th>4</th>\n",
       "      <td>85713702</td>\n",
       "      <td>B</td>\n",
       "      <td>8.196</td>\n",
       "      <td>16.84</td>\n",
       "      <td>51.71</td>\n",
       "      <td>201.9</td>\n",
       "      <td>0.08600</td>\n",
       "      <td>0.05943</td>\n",
       "      <td>0.01588</td>\n",
       "      <td>0.005917</td>\n",
       "      <td>...</td>\n",
       "      <td>8.964</td>\n",
       "      <td>21.96</td>\n",
       "      <td>57.26</td>\n",
       "      <td>242.2</td>\n",
       "      <td>0.12970</td>\n",
       "      <td>0.13570</td>\n",
       "      <td>0.06880</td>\n",
       "      <td>0.02564</td>\n",
       "      <td>0.3105</td>\n",
       "      <td>0.07409</td>\n",
       "    </tr>\n",
       "  </tbody>\n",
       "</table>\n",
       "<p>5 rows × 32 columns</p>\n",
       "</div>"
      ],
      "text/plain": [
       "         Id Diagnosis  Radius (mean)  Texture (mean)  Perimeter (mean)  \\\n",
       "0   8510426         B         13.540           14.36             87.46   \n",
       "1   8510653         B         13.080           15.71             85.63   \n",
       "2   8510824         B          9.504           12.44             60.34   \n",
       "3    854941         B         13.030           18.42             82.61   \n",
       "4  85713702         B          8.196           16.84             51.71   \n",
       "\n",
       "   Area (mean)  Smoothness (mean)  Compactness (mean)  Concavity (mean)  \\\n",
       "0        566.3            0.09779             0.08129           0.06664   \n",
       "1        520.0            0.10750             0.12700           0.04568   \n",
       "2        273.9            0.10240             0.06492           0.02956   \n",
       "3        523.8            0.08983             0.03766           0.02562   \n",
       "4        201.9            0.08600             0.05943           0.01588   \n",
       "\n",
       "   Concave points (mean)  ...  Radius (worst)  Texture (worst)  \\\n",
       "0               0.047810  ...          15.110            19.26   \n",
       "1               0.031100  ...          14.500            20.49   \n",
       "2               0.020760  ...          10.230            15.66   \n",
       "3               0.029230  ...          13.300            22.81   \n",
       "4               0.005917  ...           8.964            21.96   \n",
       "\n",
       "   Perimeter (worst)  Area (worst)  Smoothness (worst)  Compactness (worst)  \\\n",
       "0              99.70         711.2             0.14400              0.17730   \n",
       "1              96.09         630.5             0.13120              0.27760   \n",
       "2              65.13         314.9             0.13240              0.11480   \n",
       "3              84.46         545.9             0.09701              0.04619   \n",
       "4              57.26         242.2             0.12970              0.13570   \n",
       "\n",
       "   Concavity (worst)  Concave points (worst)  Symmetry (worst)  \\\n",
       "0            0.23900                 0.12880            0.2977   \n",
       "1            0.18900                 0.07283            0.3184   \n",
       "2            0.08867                 0.06227            0.2450   \n",
       "3            0.04833                 0.05013            0.1987   \n",
       "4            0.06880                 0.02564            0.3105   \n",
       "\n",
       "   Fractal dimension (worst)  \n",
       "0                    0.07259  \n",
       "1                    0.08183  \n",
       "2                    0.07773  \n",
       "3                    0.06169  \n",
       "4                    0.07409  \n",
       "\n",
       "[5 rows x 32 columns]"
      ]
     },
     "execution_count": 3,
     "metadata": {},
     "output_type": "execute_result"
    }
   ],
   "source": [
    "my_data.head()"
   ]
  },
  {
   "cell_type": "code",
   "execution_count": 4,
   "id": "b311093b",
   "metadata": {
    "execution": {
     "iopub.execute_input": "2022-07-13T13:34:54.751799Z",
     "iopub.status.busy": "2022-07-13T13:34:54.751094Z",
     "iopub.status.idle": "2022-07-13T13:34:55.447365Z",
     "shell.execute_reply": "2022-07-13T13:34:55.446612Z"
    },
    "papermill": {
     "duration": 0.702966,
     "end_time": "2022-07-13T13:34:55.449421",
     "exception": false,
     "start_time": "2022-07-13T13:34:54.746455",
     "status": "completed"
    },
    "tags": []
   },
   "outputs": [
    {
     "data": {
      "text/plain": [
       "<seaborn.axisgrid.FacetGrid at 0x7f116132c890>"
      ]
     },
     "execution_count": 4,
     "metadata": {},
     "output_type": "execute_result"
    },
    {
     "data": {
      "image/png": "[encoded data removed]",
      "text/plain": [
       "<Figure size 416.875x360 with 1 Axes>"
      ]
     },
     "metadata": {
      "needs_background": "light"
     },
     "output_type": "display_data"
    }
   ],
   "source": [
    "sns.lmplot(data=my_data,x=\"Texture (mean)\",y=\"Area (mean)\",hue=\"Diagnosis\")"
   ]
  },
  {
   "cell_type": "code",
   "execution_count": null,
   "id": "8ed5a8f9",
   "metadata": {
    "papermill": {
     "duration": 0.003583,
     "end_time": "2022-07-13T13:34:55.457046",
     "exception": false,
     "start_time": "2022-07-13T13:34:55.453463",
     "status": "completed"
    },
    "tags": []
   },
   "outputs": [],
   "source": []
  }
 ],
 "metadata": {
  "kernelspec": {
   "display_name": "Python 3",
   "language": "python",
   "name": "python3"
  },
  "language_info": {
   "codemirror_mode": {
    "name": "ipython",
    "version": 3
   },
   "file_extension": ".py",
   "mimetype": "text/x-python",
   "name": "python",
   "nbconvert_exporter": "python",
   "pygments_lexer": "ipython3",
   "version": "3.7.12"
  },
  "papermill": {
   "default_parameters": {},
   "duration": 14.75051,
   "end_time": "2022-07-13T13:34:56.383520",
   "environment_variables": {},
   "exception": null,
   "input_path": "__notebook__.ipynb",
   "output_path": "__notebook__.ipynb",
   "parameters": {},
   "start_time": "2022-07-13T13:34:41.633010",
   "version": "2.3.4"
  }
 },
 "nbformat": 4,
 "nbformat_minor": 5
}

{
 "cells": [
  {
   "cell_type": "markdown",
   "id": "fd960075",
   "metadata": {
    "papermill": {
     "duration": 0.006198,
     "end_time": "2022-07-15T11:00:23.468355",
     "exception": false,
     "start_time": "2022-07-15T11:00:23.462157",
     "status": "completed"
    },
    "tags": []
   },
   "source": [
    "**This notebook is an exercise in the [Introduction to Machine Learning](https://www.kaggle.com/learn/intro-to-machine-learning) course.  You can reference the tutorial at [this link](https://www.kaggle.com/dansbecker/model-validation).**\n",
    "\n",
    "---\n"
   ]
  },
  {
   "cell_type": "markdown",
   "id": "4d1bbbc6",
   "metadata": {
    "papermill": {
     "duration": 0.004915,
     "end_time": "2022-07-15T11:00:23.478797",
     "exception": false,
     "start_time": "2022-07-15T11:00:23.473882",
     "status": "completed"
    },
    "tags": []
   },
   "source": [
    "## Recap\n",
    "You've built a model. In this exercise you will test how good your model is.\n",
    "\n",
    "Run the cell below to set up your coding environment where the previous exercise left off."
   ]
  },
  {
   "cell_type": "code",
   "execution_count": 1,
   "id": "b01993a9",
   "metadata": {
    "execution": {
     "iopub.execute_input": "2022-07-15T11:00:23.491674Z",
     "iopub.status.busy": "2022-07-15T11:00:23.491186Z",
     "iopub.status.idle": "2022-07-15T11:00:25.003748Z",
     "shell.execute_reply": "2022-07-15T11:00:25.002269Z"
    },
    "papermill": {
     "duration": 1.523906,
     "end_time": "2022-07-15T11:00:25.007934",
     "exception": false,
     "start_time": "2022-07-15T11:00:23.484028",
     "status": "completed"
    },
    "tags": []
   },
   "outputs": [
    {
     "name": "stdout",
     "output_type": "stream",
     "text": [
      "First in-sample predictions: [208500. 181500. 223500. 140000. 250000.]\n",
      "Actual target values for those homes: [208500, 181500, 223500, 140000, 250000]\n",
      "Setup Complete\n"
     ]
    }
   ],
   "source": [
    "# Code you have previously used to load data\n",
    "import pandas as pd\n",
    "from sklearn.tree import DecisionTreeRegressor\n",
    "\n",
    "# Path of the file to read\n",
    "iowa_file_path = '../input/home-data-for-ml-course/train.csv'\n",
    "\n",
    "home_data = pd.read_csv(iowa_file_path)\n",
    "y = home_data.SalePrice\n",
    "feature_columns = ['LotArea', 'YearBuilt', '1stFlrSF', '2ndFlrSF', 'FullBath', 'BedroomAbvGr', 'TotRmsAbvGrd']\n",
    "X = home_data[feature_columns]\n",
    "\n",
    "# Specify Model\n",
    "iowa_model = DecisionTreeRegressor()\n",
    "# Fit Model\n",
    "iowa_model.fit(X, y)\n",
    "\n",
    "print(\"First in-sample predictions:\", iowa_model.predict(X.head()))\n",
    "print(\"Actual target values for those homes:\", y.head().tolist())\n",
    "\n",
    "# Set up code checking\n",
    "from learntools.core import binder\n",
    "binder.bind(globals())\n",
    "from learntools.machine_learning.ex4 import *\n",
    "print(\"Setup Complete\")"
   ]
  },
  {
   "cell_type": "markdown",
   "id": "6b16c5b5",
   "metadata": {
    "papermill": {
     "duration": 0.005055,
     "end_time": "2022-07-15T11:00:25.019320",
     "exception": false,
     "start_time": "2022-07-15T11:00:25.014265",
     "status": "completed"
    },
    "tags": []
   },
   "source": [
    "# Exercises\n",
    "\n",
    "## Step 1: Split Your Data\n",
    "Use the `train_test_split` function to split up your data.\n",
    "\n",
    "Give it the argument `random_state=1` so the `check` functions know what to expect when verifying your code.\n",
    "\n",
    "Recall, your features are loaded in the DataFrame **X** and your target is loaded in **y**.\n"
   ]
  },
  {
   "cell_type": "code",
   "execution_count": 2,
   "id": "ad31b813",
   "metadata": {
    "execution": {
     "iopub.execute_input": "2022-07-15T11:00:25.031595Z",
     "iopub.status.busy": "2022-07-15T11:00:25.030982Z",
     "iopub.status.idle": "2022-07-15T11:00:25.048410Z",
     "shell.execute_reply": "2022-07-15T11:00:25.047526Z"
    },
    "papermill": {
     "duration": 0.026452,
     "end_time": "2022-07-15T11:00:25.051048",
     "exception": false,
     "start_time": "2022-07-15T11:00:25.024596",
     "status": "completed"
    },
    "tags": []
   },
   "outputs": [
    {
     "data": {
      "application/javascript": [
       "parent.postMessage({\"jupyterEvent\": \"custom.exercise_interaction\", \"data\": {\"outcomeType\": 1, \"valueTowardsCompletion\": 0.25, \"interactionType\": 1, \"questionType\": 2, \"questionId\": \"1_SplitData\", \"learnToolsVersion\": \"0.3.4\", \"failureMessage\": \"\", \"exceptionClass\": \"\", \"trace\": \"\"}}, \"*\")"
      ],
      "text/plain": [
       "<IPython.core.display.Javascript object>"
      ]
     },
     "metadata": {},
     "output_type": "display_data"
    },
    {
     "data": {
      "text/markdown": [
       "<span style=\"color:#33cc33\">Correct</span>"
      ],
      "text/plain": [
       "Correct"
      ]
     },
     "metadata": {},
     "output_type": "display_data"
    }
   ],
   "source": [
    "# Import the train_test_split function and uncomment\n",
    "from sklearn.model_selection import train_test_split\n",
    "\n",
    "# fill in and uncomment\n",
    "train_X, val_X, train_y, val_y = train_test_split(X,y,random_state = 1)\n",
    "\n",
    "# Check your answer\n",
    "step_1.check()"
   ]
  },
  {
   "cell_type": "code",
   "execution_count": 3,
   "id": "6448dd64",
   "metadata": {
    "execution": {
     "iopub.execute_input": "2022-07-15T11:00:25.064138Z",
     "iopub.status.busy": "2022-07-15T11:00:25.063280Z",
     "iopub.status.idle": "2022-07-15T11:00:25.068261Z",
     "shell.execute_reply": "2022-07-15T11:00:25.067259Z"
    },
    "papermill": {
     "duration": 0.013781,
     "end_time": "2022-07-15T11:00:25.070367",
     "exception": false,
     "start_time": "2022-07-15T11:00:25.056586",
     "status": "completed"
    },
    "tags": []
   },
   "outputs": [],
   "source": [
    "# The lines below will show you a hint or the solution.\n",
    "# step_1.hint() \n",
    "# step_1.solution()\n"
   ]
  },
  {
   "cell_type": "markdown",
   "id": "2dcee7b7",
   "metadata": {
    "papermill": {
     "duration": 0.005039,
     "end_time": "2022-07-15T11:00:25.080704",
     "exception": false,
     "start_time": "2022-07-15T11:00:25.075665",
     "status": "completed"
    },
    "tags": []
   },
   "source": [
    "## Step 2: Specify and Fit the Model\n",
    "\n",
    "Create a `DecisionTreeRegressor` model and fit it to the relevant data.\n",
    "Set `random_state` to 1 again when creating the model."
   ]
  },
  {
   "cell_type": "code",
   "execution_count": 4,
   "id": "c4e77126",
   "metadata": {
    "execution": {
     "iopub.execute_input": "2022-07-15T11:00:25.093619Z",
     "iopub.status.busy": "2022-07-15T11:00:25.092467Z",
     "iopub.status.idle": "2022-07-15T11:00:25.123676Z",
     "shell.execute_reply": "2022-07-15T11:00:25.122369Z"
    },
    "papermill": {
     "duration": 0.039835,
     "end_time": "2022-07-15T11:00:25.125753",
     "exception": false,
     "start_time": "2022-07-15T11:00:25.085918",
     "status": "completed"
    },
    "tags": []
   },
   "outputs": [
    {
     "name": "stdout",
     "output_type": "stream",
     "text": [
      "[186500. 184000. 130000.  92000. 164500. 220000. 335000. 144152. 215000.\n",
      " 262000.]\n",
      "[186500. 184000. 130000.  92000. 164500. 220000. 335000. 144152. 215000.\n",
      " 262000.]\n"
     ]
    },
    {
     "data": {
      "application/javascript": [
       "parent.postMessage({\"jupyterEvent\": \"custom.exercise_interaction\", \"data\": {\"outcomeType\": 1, \"valueTowardsCompletion\": 0.25, \"interactionType\": 1, \"questionType\": 2, \"questionId\": \"2_FitModelWithTrain\", \"learnToolsVersion\": \"0.3.4\", \"failureMessage\": \"\", \"exceptionClass\": \"\", \"trace\": \"\"}}, \"*\")"
      ],
      "text/plain": [
       "<IPython.core.display.Javascript object>"
      ]
     },
     "metadata": {},
     "output_type": "display_data"
    },
    {
     "data": {
      "text/markdown": [
       "<span style=\"color:#33cc33\">Correct</span>"
      ],
      "text/plain": [
       "Correct"
      ]
     },
     "metadata": {},
     "output_type": "display_data"
    }
   ],
   "source": [
    "# You imported DecisionTreeRegressor in your last exercise\n",
    "# and that code has been copied to the setup code above. So, no need to\n",
    "# import it again\n",
    "\n",
    "# Specify the model\n",
    "iowa_model = DecisionTreeRegressor(random_state=1)\n",
    "\n",
    "# Fit iowa_model with the training data.\n",
    "iowa_model.fit(train_X,train_y)\n",
    "\n",
    "# Check your answer\n",
    "step_2.check()"
   ]
  },
  {
   "cell_type": "code",
   "execution_count": 5,
   "id": "a69437d6",
   "metadata": {
    "execution": {
     "iopub.execute_input": "2022-07-15T11:00:25.139591Z",
     "iopub.status.busy": "2022-07-15T11:00:25.138804Z",
     "iopub.status.idle": "2022-07-15T11:00:25.143176Z",
     "shell.execute_reply": "2022-07-15T11:00:25.142141Z"
    },
    "papermill": {
     "duration": 0.013994,
     "end_time": "2022-07-15T11:00:25.145359",
     "exception": false,
     "start_time": "2022-07-15T11:00:25.131365",
     "status": "completed"
    },
    "tags": []
   },
   "outputs": [],
   "source": [
    "# step_2.hint()\n",
    "# step_2.solution()"
   ]
  },
  {
   "cell_type": "markdown",
   "id": "31c3d274",
   "metadata": {
    "papermill": {
     "duration": 0.005557,
     "end_time": "2022-07-15T11:00:25.157087",
     "exception": false,
     "start_time": "2022-07-15T11:00:25.151530",
     "status": "completed"
    },
    "tags": []
   },
   "source": [
    "## Step 3: Make Predictions with Validation data\n"
   ]
  },
  {
   "cell_type": "code",
   "execution_count": 6,
   "id": "3aa2f0a1",
   "metadata": {
    "execution": {
     "iopub.execute_input": "2022-07-15T11:00:25.172188Z",
     "iopub.status.busy": "2022-07-15T11:00:25.171314Z",
     "iopub.status.idle": "2022-07-15T11:00:25.183834Z",
     "shell.execute_reply": "2022-07-15T11:00:25.182870Z"
    },
    "papermill": {
     "duration": 0.022563,
     "end_time": "2022-07-15T11:00:25.186104",
     "exception": false,
     "start_time": "2022-07-15T11:00:25.163541",
     "status": "completed"
    },
    "tags": []
   },
   "outputs": [
    {
     "data": {
      "application/javascript": [
       "parent.postMessage({\"jupyterEvent\": \"custom.exercise_interaction\", \"data\": {\"outcomeType\": 1, \"valueTowardsCompletion\": 0.25, \"interactionType\": 1, \"questionType\": 2, \"questionId\": \"3_ValPreds\", \"learnToolsVersion\": \"0.3.4\", \"failureMessage\": \"\", \"exceptionClass\": \"\", \"trace\": \"\"}}, \"*\")"
      ],
      "text/plain": [
       "<IPython.core.display.Javascript object>"
      ]
     },
     "metadata": {},
     "output_type": "display_data"
    },
    {
     "data": {
      "text/markdown": [
       "<span style=\"color:#33cc33\">Correct</span>"
      ],
      "text/plain": [
       "Correct"
      ]
     },
     "metadata": {},
     "output_type": "display_data"
    }
   ],
   "source": [
    "# Predict with all validation observations\n",
    "val_predictions = iowa_model.predict(val_X)\n",
    "\n",
    "# Check your answer\n",
    "step_3.check()"
   ]
  },
  {
   "cell_type": "code",
   "execution_count": 7,
   "id": "e089aa75",
   "metadata": {
    "execution": {
     "iopub.execute_input": "2022-07-15T11:00:25.201402Z",
     "iopub.status.busy": "2022-07-15T11:00:25.200718Z",
     "iopub.status.idle": "2022-07-15T11:00:25.204438Z",
     "shell.execute_reply": "2022-07-15T11:00:25.203638Z"
    },
    "papermill": {
     "duration": 0.013664,
     "end_time": "2022-07-15T11:00:25.206485",
     "exception": false,
     "start_time": "2022-07-15T11:00:25.192821",
     "status": "completed"
    },
    "tags": []
   },
   "outputs": [],
   "source": [
    "# step_3.hint()\n",
    "# step_3.solution()"
   ]
  },
  {
   "cell_type": "markdown",
   "id": "a6c8d7a2",
   "metadata": {
    "papermill": {
     "duration": 0.006287,
     "end_time": "2022-07-15T11:00:25.219440",
     "exception": false,
     "start_time": "2022-07-15T11:00:25.213153",
     "status": "completed"
    },
    "tags": []
   },
   "source": [
    "Inspect your predictions and actual values from validation data."
   ]
  },
  {
   "cell_type": "code",
   "execution_count": 8,
   "id": "c72af00c",
   "metadata": {
    "execution": {
     "iopub.execute_input": "2022-07-15T11:00:25.234787Z",
     "iopub.status.busy": "2022-07-15T11:00:25.233899Z",
     "iopub.status.idle": "2022-07-15T11:00:25.240867Z",
     "shell.execute_reply": "2022-07-15T11:00:25.239868Z"
    },
    "papermill": {
     "duration": 0.017057,
     "end_time": "2022-07-15T11:00:25.243118",
     "exception": false,
     "start_time": "2022-07-15T11:00:25.226061",
     "status": "completed"
    },
    "tags": []
   },
   "outputs": [
    {
     "name": "stdout",
     "output_type": "stream",
     "text": [
      "[186500. 184000. 130000.  92000. 164500.]\n",
      "258     231500\n",
      "267     179500\n",
      "288     122000\n",
      "649      84500\n",
      "1233    142000\n",
      "Name: SalePrice, dtype: int64\n"
     ]
    }
   ],
   "source": [
    "# print the top few validation predictions\n",
    "print(val_predictions[:5])\n",
    "# print the top few actual prices from validation data\n",
    "print(val_y.head())"
   ]
  },
  {
   "cell_type": "markdown",
   "id": "57b477bc",
   "metadata": {
    "papermill": {
     "duration": 0.006014,
     "end_time": "2022-07-15T11:00:25.255250",
     "exception": false,
     "start_time": "2022-07-15T11:00:25.249236",
     "status": "completed"
    },
    "tags": []
   },
   "source": [
    "What do you notice that is different from what you saw with in-sample predictions (which are printed after the top code cell in this page).\n",
    "\n",
    "Do you remember why validation predictions differ from in-sample (or training) predictions? This is an important idea from the last lesson.\n",
    "\n",
    "## Step 4: Calculate the Mean Absolute Error in Validation Data\n"
   ]
  },
  {
   "cell_type": "code",
   "execution_count": 9,
   "id": "d813cc5e",
   "metadata": {
    "execution": {
     "iopub.execute_input": "2022-07-15T11:00:25.269429Z",
     "iopub.status.busy": "2022-07-15T11:00:25.268732Z",
     "iopub.status.idle": "2022-07-15T11:00:25.278963Z",
     "shell.execute_reply": "2022-07-15T11:00:25.277922Z"
    },
    "papermill": {
     "duration": 0.019785,
     "end_time": "2022-07-15T11:00:25.281099",
     "exception": false,
     "start_time": "2022-07-15T11:00:25.261314",
     "status": "completed"
    },
    "tags": []
   },
   "outputs": [
    {
     "data": {
      "application/javascript": [
       "parent.postMessage({\"jupyterEvent\": \"custom.exercise_interaction\", \"data\": {\"outcomeType\": 1, \"valueTowardsCompletion\": 0.25, \"interactionType\": 1, \"questionType\": 1, \"questionId\": \"4_MAE\", \"learnToolsVersion\": \"0.3.4\", \"failureMessage\": \"\", \"exceptionClass\": \"\", \"trace\": \"\"}}, \"*\")"
      ],
      "text/plain": [
       "<IPython.core.display.Javascript object>"
      ]
     },
     "metadata": {},
     "output_type": "display_data"
    },
    {
     "data": {
      "text/markdown": [
       "<span style=\"color:#33cc33\">Correct</span>"
      ],
      "text/plain": [
       "Correct"
      ]
     },
     "metadata": {},
     "output_type": "display_data"
    }
   ],
   "source": [
    "from sklearn.metrics import mean_absolute_error\n",
    "val_mae = mean_absolute_error(val_y,val_predictions)\n",
    "\n",
    "# uncomment following line to see the validation_mae\n",
    "#print(val_mae)\n",
    "\n",
    "# Check your answer\n",
    "step_4.check()"
   ]
  },
  {
   "cell_type": "code",
   "execution_count": 10,
   "id": "ee429cbf",
   "metadata": {
    "execution": {
     "iopub.execute_input": "2022-07-15T11:00:25.296272Z",
     "iopub.status.busy": "2022-07-15T11:00:25.295813Z",
     "iopub.status.idle": "2022-07-15T11:00:25.300319Z",
     "shell.execute_reply": "2022-07-15T11:00:25.299503Z"
    },
    "papermill": {
     "duration": 0.014673,
     "end_time": "2022-07-15T11:00:25.302416",
     "exception": false,
     "start_time": "2022-07-15T11:00:25.287743",
     "status": "completed"
    },
    "tags": []
   },
   "outputs": [],
   "source": [
    "# step_4.hint()\n",
    "# step_4.solution()"
   ]
  },
  {
   "cell_type": "markdown",
   "id": "fd963e6c",
   "metadata": {
    "papermill": {
     "duration": 0.006138,
     "end_time": "2022-07-15T11:00:25.315042",
     "exception": false,
     "start_time": "2022-07-15T11:00:25.308904",
     "status": "completed"
    },
    "tags": []
   },
   "source": [
    "Is that MAE good?  There isn't a general rule for what values are good that applies across applications. But you'll see how to use (and improve) this number in the next step.\n",
    "\n",
    "# Keep Going\n",
    "\n",
    "You are ready for **[Underfitting and Overfitting](https://www.kaggle.com/dansbecker/underfitting-and-overfitting).**\n"
   ]
  },
  {
   "cell_type": "markdown",
   "id": "11230857",
   "metadata": {
    "papermill": {
     "duration": 0.006058,
     "end_time": "2022-07-15T11:00:25.327676",
     "exception": false,
     "start_time": "2022-07-15T11:00:25.321618",
     "status": "completed"
    },
    "tags": []
   },
   "source": [
    "---\n",
    "\n",
    "\n",
    "\n",
    "\n",
    "*Have questions or comments? Visit the [course discussion forum](https://www.kaggle.com/learn/intro-to-machine-learning/discussion) to chat with other learners.*"
   ]
  }
 ],
 "metadata": {
  "kernelspec": {
   "display_name": "Python 3",
   "language": "python",
   "name": "python3"
  },
  "language_info": {
   "codemirror_mode": {
    "name": "ipython",
    "version": 3
   },
   "file_extension": ".py",
   "mimetype": "text/x-python",
   "name": "python",
   "nbconvert_exporter": "python",
   "pygments_lexer": "ipython3",
   "version": "3.7.12"
  },
  "papermill": {
   "default_parameters": {},
   "duration": 13.085657,
   "end_time": "2022-07-15T11:00:26.057736",
   "environment_variables": {},
   "exception": null,
   "input_path": "__notebook__.ipynb",
   "output_path": "__notebook__.ipynb",
   "parameters": {},
   "start_time": "2022-07-15T11:00:12.972079",
   "version": "2.3.4"
  }
 },
 "nbformat": 4,
 "nbformat_minor": 5
}

{
 "cells": [
  {
   "cell_type": "markdown",
   "id": "1825986a",
   "metadata": {
    "papermill": {
     "duration": 0.007851,
     "end_time": "2022-07-14T14:16:21.161016",
     "exception": false,
     "start_time": "2022-07-14T14:16:21.153165",
     "status": "completed"
    },
    "tags": []
   },
   "source": [
    "**This notebook is an exercise in the [Pandas](https://www.kaggle.com/learn/pandas) course.  You can reference the tutorial at [this link](https://www.kaggle.com/residentmario/summary-functions-and-maps).**\n",
    "\n",
    "---\n"
   ]
  },
  {
   "cell_type": "markdown",
   "id": "4c9490b6",
   "metadata": {
    "papermill": {
     "duration": 0.006462,
     "end_time": "2022-07-14T14:16:21.174499",
     "exception": false,
     "start_time": "2022-07-14T14:16:21.168037",
     "status": "completed"
    },
    "tags": []
   },
   "source": [
    "# Introduction\n",
    "\n",
    "Now you are ready to get a deeper understanding of your data.\n",
    "\n",
    "Run the following cell to load your data and some utility functions (including code to check your answers)."
   ]
  },
  {
   "cell_type": "code",
   "execution_count": 1,
   "id": "ea4ceea9",
   "metadata": {
    "execution": {
     "iopub.execute_input": "2022-07-14T14:16:21.190642Z",
     "iopub.status.busy": "2022-07-14T14:16:21.190098Z",
     "iopub.status.idle": "2022-07-14T14:16:29.376018Z",
     "shell.execute_reply": "2022-07-14T14:16:29.374253Z"
    },
    "papermill": {
     "duration": 8.197292,
     "end_time": "2022-07-14T14:16:29.378731",
     "exception": false,
     "start_time": "2022-07-14T14:16:21.181439",
     "status": "completed"
    },
    "tags": []
   },
   "outputs": [
    {
     "name": "stdout",
     "output_type": "stream",
     "text": [
      "Setup complete.\n"
     ]
    },
    {
     "data": {
      "text/html": [
       "<div>\n",
       "<style scoped>\n",
       "    .dataframe tbody tr th:only-of-type {\n",
       "        vertical-align: middle;\n",
       "    }\n",
       "\n",
       "    .dataframe tbody tr th {\n",
       "        vertical-align: top;\n",
       "    }\n",
       "\n",
       "    .dataframe thead th {\n",
       "        text-align: right;\n",
       "    }\n",
       "</style>\n",
       "<table border=\"1\" class=\"dataframe\">\n",
       "  <thead>\n",
       "    <tr style=\"text-align: right;\">\n",
       "      <th></th>\n",
       "      <th>country</th>\n",
       "      <th>description</th>\n",
       "      <th>designation</th>\n",
       "      <th>points</th>\n",
       "      <th>price</th>\n",
       "      <th>province</th>\n",
       "      <th>region_1</th>\n",
       "      <th>region_2</th>\n",
       "      <th>taster_name</th>\n",
       "      <th>taster_twitter_handle</th>\n",
       "      <th>title</th>\n",
       "      <th>variety</th>\n",
       "      <th>winery</th>\n",
       "    </tr>\n",
       "  </thead>\n",
       "  <tbody>\n",
       "    <tr>\n",
       "      <th>0</th>\n",
       "      <td>Italy</td>\n",
       "      <td>Aromas include tropical fruit, broom, brimston...</td>\n",
       "      <td>Vulkà Bianco</td>\n",
       "      <td>87</td>\n",
       "      <td>NaN</td>\n",
       "      <td>Sicily &amp; Sardinia</td>\n",
       "      <td>Etna</td>\n",
       "      <td>NaN</td>\n",
       "      <td>Kerin O’Keefe</td>\n",
       "      <td>@kerinokeefe</td>\n",
       "      <td>Nicosia 2013 Vulkà Bianco  (Etna)</td>\n",
       "      <td>White Blend</td>\n",
       "      <td>Nicosia</td>\n",
       "    </tr>\n",
       "    <tr>\n",
       "      <th>1</th>\n",
       "      <td>Portugal</td>\n",
       "      <td>This is ripe and fruity, a wine that is smooth...</td>\n",
       "      <td>Avidagos</td>\n",
       "      <td>87</td>\n",
       "      <td>15.0</td>\n",
       "      <td>Douro</td>\n",
       "      <td>NaN</td>\n",
       "      <td>NaN</td>\n",
       "      <td>Roger Voss</td>\n",
       "      <td>@vossroger</td>\n",
       "      <td>Quinta dos Avidagos 2011 Avidagos Red (Douro)</td>\n",
       "      <td>Portuguese Red</td>\n",
       "      <td>Quinta dos Avidagos</td>\n",
       "    </tr>\n",
       "    <tr>\n",
       "      <th>2</th>\n",
       "      <td>US</td>\n",
       "      <td>Tart and snappy, the flavors of lime flesh and...</td>\n",
       "      <td>NaN</td>\n",
       "      <td>87</td>\n",
       "      <td>14.0</td>\n",
       "      <td>Oregon</td>\n",
       "      <td>Willamette Valley</td>\n",
       "      <td>Willamette Valley</td>\n",
       "      <td>Paul Gregutt</td>\n",
       "      <td>@paulgwine</td>\n",
       "      <td>Rainstorm 2013 Pinot Gris (Willamette Valley)</td>\n",
       "      <td>Pinot Gris</td>\n",
       "      <td>Rainstorm</td>\n",
       "    </tr>\n",
       "    <tr>\n",
       "      <th>3</th>\n",
       "      <td>US</td>\n",
       "      <td>Pineapple rind, lemon pith and orange blossom ...</td>\n",
       "      <td>Reserve Late Harvest</td>\n",
       "      <td>87</td>\n",
       "      <td>13.0</td>\n",
       "      <td>Michigan</td>\n",
       "      <td>Lake Michigan Shore</td>\n",
       "      <td>NaN</td>\n",
       "      <td>Alexander Peartree</td>\n",
       "      <td>NaN</td>\n",
       "      <td>St. Julian 2013 Reserve Late Harvest Riesling ...</td>\n",
       "      <td>Riesling</td>\n",
       "      <td>St. Julian</td>\n",
       "    </tr>\n",
       "    <tr>\n",
       "      <th>4</th>\n",
       "      <td>US</td>\n",
       "      <td>Much like the regular bottling from 2012, this...</td>\n",
       "      <td>Vintner's Reserve Wild Child Block</td>\n",
       "      <td>87</td>\n",
       "      <td>65.0</td>\n",
       "      <td>Oregon</td>\n",
       "      <td>Willamette Valley</td>\n",
       "      <td>Willamette Valley</td>\n",
       "      <td>Paul Gregutt</td>\n",
       "      <td>@paulgwine</td>\n",
       "      <td>Sweet Cheeks 2012 Vintner's Reserve Wild Child...</td>\n",
       "      <td>Pinot Noir</td>\n",
       "      <td>Sweet Cheeks</td>\n",
       "    </tr>\n",
       "  </tbody>\n",
       "</table>\n",
       "</div>"
      ],
      "text/plain": [
       "    country                                        description  \\\n",
       "0     Italy  Aromas include tropical fruit, broom, brimston...   \n",
       "1  Portugal  This is ripe and fruity, a wine that is smooth...   \n",
       "2        US  Tart and snappy, the flavors of lime flesh and...   \n",
       "3        US  Pineapple rind, lemon pith and orange blossom ...   \n",
       "4        US  Much like the regular bottling from 2012, this...   \n",
       "\n",
       "                          designation  points  price           province  \\\n",
       "0                        Vulkà Bianco      87    NaN  Sicily & Sardinia   \n",
       "1                            Avidagos      87   15.0              Douro   \n",
       "2                                 NaN      87   14.0             Oregon   \n",
       "3                Reserve Late Harvest      87   13.0           Michigan   \n",
       "4  Vintner's Reserve Wild Child Block      87   65.0             Oregon   \n",
       "\n",
       "              region_1           region_2         taster_name  \\\n",
       "0                 Etna                NaN       Kerin O’Keefe   \n",
       "1                  NaN                NaN          Roger Voss   \n",
       "2    Willamette Valley  Willamette Valley        Paul Gregutt   \n",
       "3  Lake Michigan Shore                NaN  Alexander Peartree   \n",
       "4    Willamette Valley  Willamette Valley        Paul Gregutt   \n",
       "\n",
       "  taster_twitter_handle                                              title  \\\n",
       "0          @kerinokeefe                  Nicosia 2013 Vulkà Bianco  (Etna)   \n",
       "1            @vossroger      Quinta dos Avidagos 2011 Avidagos Red (Douro)   \n",
       "2           @paulgwine       Rainstorm 2013 Pinot Gris (Willamette Valley)   \n",
       "3                   NaN  St. Julian 2013 Reserve Late Harvest Riesling ...   \n",
       "4           @paulgwine   Sweet Cheeks 2012 Vintner's Reserve Wild Child...   \n",
       "\n",
       "          variety               winery  \n",
       "0     White Blend              Nicosia  \n",
       "1  Portuguese Red  Quinta dos Avidagos  \n",
       "2      Pinot Gris            Rainstorm  \n",
       "3        Riesling           St. Julian  \n",
       "4      Pinot Noir         Sweet Cheeks  "
      ]
     },
     "execution_count": 1,
     "metadata": {},
     "output_type": "execute_result"
    }
   ],
   "source": [
    "import pandas as pd\n",
    "pd.set_option(\"display.max_rows\", 5)\n",
    "reviews = pd.read_csv(\"../input/wine-reviews/winemag-data-130k-v2.csv\", index_col=0)\n",
    "\n",
    "from learntools.core import binder; binder.bind(globals())\n",
    "from learntools.pandas.summary_functions_and_maps import *\n",
    "print(\"Setup complete.\")\n",
    "\n",
    "reviews.head()"
   ]
  },
  {
   "cell_type": "markdown",
   "id": "19c1f3c8",
   "metadata": {
    "papermill": {
     "duration": 0.006887,
     "end_time": "2022-07-14T14:16:29.393018",
     "exception": false,
     "start_time": "2022-07-14T14:16:29.386131",
     "status": "completed"
    },
    "tags": []
   },
   "source": [
    "# Exercises"
   ]
  },
  {
   "cell_type": "markdown",
   "id": "1d348a86",
   "metadata": {
    "papermill": {
     "duration": 0.006848,
     "end_time": "2022-07-14T14:16:29.407105",
     "exception": false,
     "start_time": "2022-07-14T14:16:29.400257",
     "status": "completed"
    },
    "tags": []
   },
   "source": [
    "## 1.\n",
    "\n",
    "What is the median of the `points` column in the `reviews` DataFrame?"
   ]
  },
  {
   "cell_type": "code",
   "execution_count": 2,
   "id": "4ca8f4fc",
   "metadata": {
    "execution": {
     "iopub.execute_input": "2022-07-14T14:16:29.425010Z",
     "iopub.status.busy": "2022-07-14T14:16:29.423618Z",
     "iopub.status.idle": "2022-07-14T14:16:29.436279Z",
     "shell.execute_reply": "2022-07-14T14:16:29.435416Z"
    },
    "papermill": {
     "duration": 0.023981,
     "end_time": "2022-07-14T14:16:29.438480",
     "exception": false,
     "start_time": "2022-07-14T14:16:29.414499",
     "status": "completed"
    },
    "tags": []
   },
   "outputs": [
    {
     "data": {
      "application/javascript": [
       "parent.postMessage({\"jupyterEvent\": \"custom.exercise_interaction\", \"data\": {\"outcomeType\": 1, \"valueTowardsCompletion\": 0.14285714285714285, \"interactionType\": 1, \"questionType\": 1, \"questionId\": \"1_MedianPoints\", \"learnToolsVersion\": \"0.3.4\", \"failureMessage\": \"\", \"exceptionClass\": \"\", \"trace\": \"\"}}, \"*\")"
      ],
      "text/plain": [
       "<IPython.core.display.Javascript object>"
      ]
     },
     "metadata": {},
     "output_type": "display_data"
    },
    {
     "data": {
      "text/markdown": [
       "<span style=\"color:#33cc33\">Correct</span>"
      ],
      "text/plain": [
       "Correct"
      ]
     },
     "metadata": {},
     "output_type": "display_data"
    }
   ],
   "source": [
    "median_points = reviews.points.median()\n",
    "\n",
    "# Check your answer\n",
    "q1.check()"
   ]
  },
  {
   "cell_type": "code",
   "execution_count": 3,
   "id": "61176bf3",
   "metadata": {
    "execution": {
     "iopub.execute_input": "2022-07-14T14:16:29.456520Z",
     "iopub.status.busy": "2022-07-14T14:16:29.455017Z",
     "iopub.status.idle": "2022-07-14T14:16:29.460665Z",
     "shell.execute_reply": "2022-07-14T14:16:29.459760Z"
    },
    "papermill": {
     "duration": 0.017028,
     "end_time": "2022-07-14T14:16:29.462953",
     "exception": false,
     "start_time": "2022-07-14T14:16:29.445925",
     "status": "completed"
    },
    "tags": []
   },
   "outputs": [],
   "source": [
    "#q1.hint()\n",
    "#q1.solution()"
   ]
  },
  {
   "cell_type": "markdown",
   "id": "2edfdc5d",
   "metadata": {
    "papermill": {
     "duration": 0.007509,
     "end_time": "2022-07-14T14:16:29.478279",
     "exception": false,
     "start_time": "2022-07-14T14:16:29.470770",
     "status": "completed"
    },
    "tags": []
   },
   "source": [
    "## 2. \n",
    "What countries are represented in the dataset? (Your answer should not include any duplicates.)"
   ]
  },
  {
   "cell_type": "code",
   "execution_count": 4,
   "id": "5adec7b2",
   "metadata": {
    "execution": {
     "iopub.execute_input": "2022-07-14T14:16:29.496119Z",
     "iopub.status.busy": "2022-07-14T14:16:29.495385Z",
     "iopub.status.idle": "2022-07-14T14:16:29.518258Z",
     "shell.execute_reply": "2022-07-14T14:16:29.516991Z"
    },
    "papermill": {
     "duration": 0.034647,
     "end_time": "2022-07-14T14:16:29.520465",
     "exception": false,
     "start_time": "2022-07-14T14:16:29.485818",
     "status": "completed"
    },
    "tags": []
   },
   "outputs": [
    {
     "data": {
      "application/javascript": [
       "parent.postMessage({\"jupyterEvent\": \"custom.exercise_interaction\", \"data\": {\"outcomeType\": 1, \"valueTowardsCompletion\": 0.14285714285714285, \"interactionType\": 1, \"questionType\": 2, \"questionId\": \"2_UniqueCountries\", \"learnToolsVersion\": \"0.3.4\", \"failureMessage\": \"\", \"exceptionClass\": \"\", \"trace\": \"\"}}, \"*\")"
      ],
      "text/plain": [
       "<IPython.core.display.Javascript object>"
      ]
     },
     "metadata": {},
     "output_type": "display_data"
    },
    {
     "data": {
      "text/markdown": [
       "<span style=\"color:#33cc33\">Correct</span>"
      ],
      "text/plain": [
       "Correct"
      ]
     },
     "metadata": {},
     "output_type": "display_data"
    }
   ],
   "source": [
    "countries = reviews.country.unique()\n",
    "\n",
    "# Check your answer\n",
    "q2.check()"
   ]
  },
  {
   "cell_type": "code",
   "execution_count": 5,
   "id": "cc062a9a",
   "metadata": {
    "execution": {
     "iopub.execute_input": "2022-07-14T14:16:29.539403Z",
     "iopub.status.busy": "2022-07-14T14:16:29.538648Z",
     "iopub.status.idle": "2022-07-14T14:16:29.543737Z",
     "shell.execute_reply": "2022-07-14T14:16:29.542829Z"
    },
    "papermill": {
     "duration": 0.017409,
     "end_time": "2022-07-14T14:16:29.546075",
     "exception": false,
     "start_time": "2022-07-14T14:16:29.528666",
     "status": "completed"
    },
    "tags": []
   },
   "outputs": [],
   "source": [
    "#q2.hint()\n",
    "#q2.solution()"
   ]
  },
  {
   "cell_type": "markdown",
   "id": "3a831226",
   "metadata": {
    "papermill": {
     "duration": 0.007949,
     "end_time": "2022-07-14T14:16:29.562656",
     "exception": false,
     "start_time": "2022-07-14T14:16:29.554707",
     "status": "completed"
    },
    "tags": []
   },
   "source": [
    "## 3.\n",
    "How often does each country appear in the dataset? Create a Series `reviews_per_country` mapping countries to the count of reviews of wines from that country."
   ]
  },
  {
   "cell_type": "code",
   "execution_count": 6,
   "id": "2fb5e738",
   "metadata": {
    "execution": {
     "iopub.execute_input": "2022-07-14T14:16:29.581675Z",
     "iopub.status.busy": "2022-07-14T14:16:29.580892Z",
     "iopub.status.idle": "2022-07-14T14:16:29.611246Z",
     "shell.execute_reply": "2022-07-14T14:16:29.610074Z"
    },
    "papermill": {
     "duration": 0.042838,
     "end_time": "2022-07-14T14:16:29.613717",
     "exception": false,
     "start_time": "2022-07-14T14:16:29.570879",
     "status": "completed"
    },
    "tags": []
   },
   "outputs": [
    {
     "data": {
      "application/javascript": [
       "parent.postMessage({\"jupyterEvent\": \"custom.exercise_interaction\", \"data\": {\"outcomeType\": 1, \"valueTowardsCompletion\": 0.14285714285714285, \"interactionType\": 1, \"questionType\": 1, \"questionId\": \"3_ReviewsPerCountry\", \"learnToolsVersion\": \"0.3.4\", \"failureMessage\": \"\", \"exceptionClass\": \"\", \"trace\": \"\"}}, \"*\")"
      ],
      "text/plain": [
       "<IPython.core.display.Javascript object>"
      ]
     },
     "metadata": {},
     "output_type": "display_data"
    },
    {
     "data": {
      "text/markdown": [
       "<span style=\"color:#33cc33\">Correct</span>"
      ],
      "text/plain": [
       "Correct"
      ]
     },
     "metadata": {},
     "output_type": "display_data"
    }
   ],
   "source": [
    "reviews_per_country = reviews.country.value_counts()\n",
    "\n",
    "# Check your answer\n",
    "q3.check()"
   ]
  },
  {
   "cell_type": "code",
   "execution_count": 7,
   "id": "7a24a3bd",
   "metadata": {
    "execution": {
     "iopub.execute_input": "2022-07-14T14:16:29.632295Z",
     "iopub.status.busy": "2022-07-14T14:16:29.631767Z",
     "iopub.status.idle": "2022-07-14T14:16:29.636652Z",
     "shell.execute_reply": "2022-07-14T14:16:29.635542Z"
    },
    "papermill": {
     "duration": 0.016798,
     "end_time": "2022-07-14T14:16:29.638822",
     "exception": false,
     "start_time": "2022-07-14T14:16:29.622024",
     "status": "completed"
    },
    "tags": []
   },
   "outputs": [],
   "source": [
    "#q3.hint()\n",
    "#q3.solution()"
   ]
  },
  {
   "cell_type": "markdown",
   "id": "474c450b",
   "metadata": {
    "papermill": {
     "duration": 0.007713,
     "end_time": "2022-07-14T14:16:29.654651",
     "exception": false,
     "start_time": "2022-07-14T14:16:29.646938",
     "status": "completed"
    },
    "tags": []
   },
   "source": [
    "## 4.\n",
    "Create variable `centered_price` containing a version of the `price` column with the mean price subtracted.\n",
    "\n",
    "(Note: this 'centering' transformation is a common preprocessing step before applying various machine learning algorithms.) "
   ]
  },
  {
   "cell_type": "code",
   "execution_count": 8,
   "id": "920f1311",
   "metadata": {
    "execution": {
     "iopub.execute_input": "2022-07-14T14:16:29.673174Z",
     "iopub.status.busy": "2022-07-14T14:16:29.672679Z",
     "iopub.status.idle": "2022-07-14T14:16:29.685382Z",
     "shell.execute_reply": "2022-07-14T14:16:29.684153Z"
    },
    "papermill": {
     "duration": 0.025028,
     "end_time": "2022-07-14T14:16:29.687653",
     "exception": false,
     "start_time": "2022-07-14T14:16:29.662625",
     "status": "completed"
    },
    "tags": []
   },
   "outputs": [
    {
     "data": {
      "application/javascript": [
       "parent.postMessage({\"jupyterEvent\": \"custom.exercise_interaction\", \"data\": {\"outcomeType\": 1, \"valueTowardsCompletion\": 0.14285714285714285, \"interactionType\": 1, \"questionType\": 1, \"questionId\": \"4_CenteredPrice\", \"learnToolsVersion\": \"0.3.4\", \"failureMessage\": \"\", \"exceptionClass\": \"\", \"trace\": \"\"}}, \"*\")"
      ],
      "text/plain": [
       "<IPython.core.display.Javascript object>"
      ]
     },
     "metadata": {},
     "output_type": "display_data"
    },
    {
     "data": {
      "text/markdown": [
       "<span style=\"color:#33cc33\">Correct</span>"
      ],
      "text/plain": [
       "Correct"
      ]
     },
     "metadata": {},
     "output_type": "display_data"
    }
   ],
   "source": [
    "centered_price = reviews.price - reviews.price.mean()\n",
    "\n",
    "# Check your answer\n",
    "q4.check()"
   ]
  },
  {
   "cell_type": "code",
   "execution_count": 9,
   "id": "33c47d2a",
   "metadata": {
    "execution": {
     "iopub.execute_input": "2022-07-14T14:16:29.707309Z",
     "iopub.status.busy": "2022-07-14T14:16:29.706805Z",
     "iopub.status.idle": "2022-07-14T14:16:29.711978Z",
     "shell.execute_reply": "2022-07-14T14:16:29.710767Z"
    },
    "papermill": {
     "duration": 0.017693,
     "end_time": "2022-07-14T14:16:29.714306",
     "exception": false,
     "start_time": "2022-07-14T14:16:29.696613",
     "status": "completed"
    },
    "tags": []
   },
   "outputs": [],
   "source": [
    "#q4.hint()\n",
    "#q4.solution()"
   ]
  },
  {
   "cell_type": "markdown",
   "id": "307ba034",
   "metadata": {
    "papermill": {
     "duration": 0.008207,
     "end_time": "2022-07-14T14:16:29.731021",
     "exception": false,
     "start_time": "2022-07-14T14:16:29.722814",
     "status": "completed"
    },
    "tags": []
   },
   "source": [
    "## 5.\n",
    "I'm an economical wine buyer. Which wine is the \"best bargain\"? Create a variable `bargain_wine` with the title of the wine with the highest points-to-price ratio in the dataset."
   ]
  },
  {
   "cell_type": "code",
   "execution_count": 10,
   "id": "00e9cdac",
   "metadata": {
    "execution": {
     "iopub.execute_input": "2022-07-14T14:16:29.750466Z",
     "iopub.status.busy": "2022-07-14T14:16:29.749986Z",
     "iopub.status.idle": "2022-07-14T14:16:29.769112Z",
     "shell.execute_reply": "2022-07-14T14:16:29.767901Z"
    },
    "papermill": {
     "duration": 0.031954,
     "end_time": "2022-07-14T14:16:29.771581",
     "exception": false,
     "start_time": "2022-07-14T14:16:29.739627",
     "status": "completed"
    },
    "tags": []
   },
   "outputs": [
    {
     "data": {
      "application/javascript": [
       "parent.postMessage({\"jupyterEvent\": \"custom.exercise_interaction\", \"data\": {\"outcomeType\": 1, \"valueTowardsCompletion\": 0.14285714285714285, \"interactionType\": 1, \"questionType\": 2, \"questionId\": \"5_BargainWine\", \"learnToolsVersion\": \"0.3.4\", \"failureMessage\": \"\", \"exceptionClass\": \"\", \"trace\": \"\"}}, \"*\")"
      ],
      "text/plain": [
       "<IPython.core.display.Javascript object>"
      ]
     },
     "metadata": {},
     "output_type": "display_data"
    },
    {
     "data": {
      "text/markdown": [
       "<span style=\"color:#33cc33\">Correct</span>"
      ],
      "text/plain": [
       "Correct"
      ]
     },
     "metadata": {},
     "output_type": "display_data"
    }
   ],
   "source": [
    "idx = (reviews.points / reviews.price).idxmax()\n",
    "bargain_wine = reviews.loc[idx, 'title']\n",
    "\n",
    "# Check your answer\n",
    "q5.check()"
   ]
  },
  {
   "cell_type": "code",
   "execution_count": 11,
   "id": "0b1ccbb3",
   "metadata": {
    "execution": {
     "iopub.execute_input": "2022-07-14T14:16:29.791538Z",
     "iopub.status.busy": "2022-07-14T14:16:29.791062Z",
     "iopub.status.idle": "2022-07-14T14:16:29.795692Z",
     "shell.execute_reply": "2022-07-14T14:16:29.794621Z"
    },
    "papermill": {
     "duration": 0.017558,
     "end_time": "2022-07-14T14:16:29.797914",
     "exception": false,
     "start_time": "2022-07-14T14:16:29.780356",
     "status": "completed"
    },
    "tags": []
   },
   "outputs": [],
   "source": [
    "#q5.hint()\n",
    "#q5.solution()"
   ]
  },
  {
   "cell_type": "markdown",
   "id": "d4c0a9f6",
   "metadata": {
    "papermill": {
     "duration": 0.008369,
     "end_time": "2022-07-14T14:16:29.815083",
     "exception": false,
     "start_time": "2022-07-14T14:16:29.806714",
     "status": "completed"
    },
    "tags": []
   },
   "source": [
    "## 6.\n",
    "There are only so many words you can use when describing a bottle of wine. Is a wine more likely to be \"tropical\" or \"fruity\"? Create a Series `descriptor_counts` counting how many times each of these two words appears in the `description` column in the dataset. (For simplicity, let's ignore the capitalized versions of these words.)"
   ]
  },
  {
   "cell_type": "code",
   "execution_count": 12,
   "id": "656dae2a",
   "metadata": {
    "execution": {
     "iopub.execute_input": "2022-07-14T14:16:29.834749Z",
     "iopub.status.busy": "2022-07-14T14:16:29.834283Z",
     "iopub.status.idle": "2022-07-14T14:16:29.997774Z",
     "shell.execute_reply": "2022-07-14T14:16:29.996816Z"
    },
    "papermill": {
     "duration": 0.17643,
     "end_time": "2022-07-14T14:16:30.000129",
     "exception": false,
     "start_time": "2022-07-14T14:16:29.823699",
     "status": "completed"
    },
    "tags": []
   },
   "outputs": [
    {
     "data": {
      "application/javascript": [
       "parent.postMessage({\"jupyterEvent\": \"custom.exercise_interaction\", \"data\": {\"outcomeType\": 1, \"valueTowardsCompletion\": 0.14285714285714285, \"interactionType\": 1, \"questionType\": 1, \"questionId\": \"6_DescriptorCounts\", \"learnToolsVersion\": \"0.3.4\", \"failureMessage\": \"\", \"exceptionClass\": \"\", \"trace\": \"\"}}, \"*\")"
      ],
      "text/plain": [
       "<IPython.core.display.Javascript object>"
      ]
     },
     "metadata": {},
     "output_type": "display_data"
    },
    {
     "data": {
      "text/markdown": [
       "<span style=\"color:#33cc33\">Correct</span>"
      ],
      "text/plain": [
       "Correct"
      ]
     },
     "metadata": {},
     "output_type": "display_data"
    }
   ],
   "source": [
    "tropical = reviews.description.map(lambda x: 'tropical' in x).sum()\n",
    "fruity = reviews.description.map(lambda x: 'fruity' in x).sum()\n",
    "descriptor_counts = pd.Series([tropical,fruity],index=['tropical','fruity'])\n",
    "# Check your answer\n",
    "q6.check()"
   ]
  },
  {
   "cell_type": "code",
   "execution_count": 13,
   "id": "340b443c",
   "metadata": {
    "execution": {
     "iopub.execute_input": "2022-07-14T14:16:30.021987Z",
     "iopub.status.busy": "2022-07-14T14:16:30.021498Z",
     "iopub.status.idle": "2022-07-14T14:16:30.027505Z",
     "shell.execute_reply": "2022-07-14T14:16:30.026135Z"
    },
    "papermill": {
     "duration": 0.020512,
     "end_time": "2022-07-14T14:16:30.030296",
     "exception": false,
     "start_time": "2022-07-14T14:16:30.009784",
     "status": "completed"
    },
    "tags": []
   },
   "outputs": [],
   "source": [
    "#q6.hint()\n",
    "#q6.solution()"
   ]
  },
  {
   "cell_type": "markdown",
   "id": "ad1d1e44",
   "metadata": {
    "papermill": {
     "duration": 0.009241,
     "end_time": "2022-07-14T14:16:30.049230",
     "exception": false,
     "start_time": "2022-07-14T14:16:30.039989",
     "status": "completed"
    },
    "tags": []
   },
   "source": [
    "## 7.\n",
    "We'd like to host these wine reviews on our website, but a rating system ranging from 80 to 100 points is too hard to understand - we'd like to translate them into simple star ratings. A score of 95 or higher counts as 3 stars, a score of at least 85 but less than 95 is 2 stars. Any other score is 1 star.\n",
    "\n",
    "Also, the Canadian Vintners Association bought a lot of ads on the site, so any wines from Canada should automatically get 3 stars, regardless of points.\n",
    "\n",
    "Create a series `star_ratings` with the number of stars corresponding to each review in the dataset."
   ]
  },
  {
   "cell_type": "code",
   "execution_count": 14,
   "id": "aa455640",
   "metadata": {
    "execution": {
     "iopub.execute_input": "2022-07-14T14:16:30.070187Z",
     "iopub.status.busy": "2022-07-14T14:16:30.069756Z",
     "iopub.status.idle": "2022-07-14T14:16:35.005429Z",
     "shell.execute_reply": "2022-07-14T14:16:35.004547Z"
    },
    "papermill": {
     "duration": 4.948889,
     "end_time": "2022-07-14T14:16:35.007584",
     "exception": false,
     "start_time": "2022-07-14T14:16:30.058695",
     "status": "completed"
    },
    "tags": []
   },
   "outputs": [
    {
     "data": {
      "application/javascript": [
       "parent.postMessage({\"jupyterEvent\": \"custom.exercise_interaction\", \"data\": {\"outcomeType\": 1, \"valueTowardsCompletion\": 0.14285714285714285, \"interactionType\": 1, \"questionType\": 1, \"questionId\": \"7_StarRatings\", \"learnToolsVersion\": \"0.3.4\", \"failureMessage\": \"\", \"exceptionClass\": \"\", \"trace\": \"\"}}, \"*\")"
      ],
      "text/plain": [
       "<IPython.core.display.Javascript object>"
      ]
     },
     "metadata": {},
     "output_type": "display_data"
    },
    {
     "data": {
      "text/markdown": [
       "<span style=\"color:#33cc33\">Correct</span>"
      ],
      "text/plain": [
       "Correct"
      ]
     },
     "metadata": {},
     "output_type": "display_data"
    }
   ],
   "source": [
    "def stars(row):\n",
    "    if row.country == 'Canada':\n",
    "        return 3\n",
    "    elif row.points >= 95:\n",
    "        return 3\n",
    "    elif row.points >= 85:\n",
    "        return 2\n",
    "    else:\n",
    "        return 1\n",
    "\n",
    "star_ratings = reviews.apply(stars, axis='columns')\n",
    "\n",
    "# Check your answer\n",
    "q7.check()\n"
   ]
  },
  {
   "cell_type": "code",
   "execution_count": 15,
   "id": "319ee475",
   "metadata": {
    "execution": {
     "iopub.execute_input": "2022-07-14T14:16:35.029915Z",
     "iopub.status.busy": "2022-07-14T14:16:35.028732Z",
     "iopub.status.idle": "2022-07-14T14:16:35.032917Z",
     "shell.execute_reply": "2022-07-14T14:16:35.032204Z"
    },
    "papermill": {
     "duration": 0.017795,
     "end_time": "2022-07-14T14:16:35.035067",
     "exception": false,
     "start_time": "2022-07-14T14:16:35.017272",
     "status": "completed"
    },
    "tags": []
   },
   "outputs": [],
   "source": [
    "#q7.hint()\n",
    "#q7.solution()"
   ]
  },
  {
   "cell_type": "markdown",
   "id": "fbeaf63a",
   "metadata": {
    "papermill": {
     "duration": 0.009812,
     "end_time": "2022-07-14T14:16:35.054572",
     "exception": false,
     "start_time": "2022-07-14T14:16:35.044760",
     "status": "completed"
    },
    "tags": []
   },
   "source": [
    "# Keep going\n",
    "Continue to **[grouping and sorting](https://www.kaggle.com/residentmario/grouping-and-sorting)**."
   ]
  },
  {
   "cell_type": "markdown",
   "id": "27354a87",
   "metadata": {
    "papermill": {
     "duration": 0.009489,
     "end_time": "2022-07-14T14:16:35.073905",
     "exception": false,
     "start_time": "2022-07-14T14:16:35.064416",
     "status": "completed"
    },
    "tags": []
   },
   "source": [
    "---\n",
    "\n",
    "\n",
    "\n",
    "\n",
    "*Have questions or comments? Visit the [course discussion forum](https://www.kaggle.com/learn/pandas/discussion) to chat with other learners.*"
   ]
  }
 ],
 "metadata": {
  "kernelspec": {
   "display_name": "Python 3",
   "language": "python",
   "name": "python3"
  },
  "language_info": {
   "codemirror_mode": {
    "name": "ipython",
    "version": 3
   },
   "file_extension": ".py",
   "mimetype": "text/x-python",
   "name": "python",
   "nbconvert_exporter": "python",
   "pygments_lexer": "ipython3",
   "version": "3.7.12"
  },
  "papermill": {
   "default_parameters": {},
   "duration": 25.016151,
   "end_time": "2022-07-14T14:16:35.807026",
   "environment_variables": {},
   "exception": null,
   "input_path": "__notebook__.ipynb",
   "output_path": "__notebook__.ipynb",
   "parameters": {},
   "start_time": "2022-07-14T14:16:10.790875",
   "version": "2.3.4"
  }
 },
 "nbformat": 4,
 "nbformat_minor": 5
}
